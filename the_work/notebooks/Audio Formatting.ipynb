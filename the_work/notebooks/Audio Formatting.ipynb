{
 "cells": [
  {
   "cell_type": "markdown",
   "metadata": {},
   "source": [
    "# Описание ноутбука\n",
    "Содержит скрипты для перевода аудио из mp3 в wav. Wav в разреженные спектрограммы и формат npy. Затем разбивает npz файл песни на несколько npz файлов аккордов.\n",
    "\n",
    "Т.о. на вход ноутбука подаются mp3 файлы, а на выходе получается список спектрограмм аккордов."
   ]
  },
  {
   "cell_type": "code",
   "execution_count": 327,
   "metadata": {},
   "outputs": [],
   "source": [
    "import pandas as pd\n",
    "from pydub import AudioSegment\n",
    "import os\n",
    "import shutil\n",
    "from tqdm import tqdm_notebook\n",
    "import numpy as np\n",
    "from scipy.sparse import csc_matrix,load_npz, save_npz, hstack\n",
    "from scipy.io import wavfile\n",
    "from scipy import signal, absolute\n",
    "import stft\n",
    "\n",
    "from chord_scripts import format_fname, string_to_secs, secs_to_string"
   ]
  },
  {
   "cell_type": "code",
   "execution_count": 280,
   "metadata": {
    "collapsed": true
   },
   "outputs": [],
   "source": [
    "BASE_DIR = os.path.realpath(os.getcwd()+'../../..')\n",
    "DSETS_DIR = BASE_DIR+'/dsets/'\n",
    "MP3_DIR = BASE_DIR+'/audio/united/'\n",
    "WAV_DIR = BASE_DIR+'/audio/wavs/'\n",
    "PARSED_DIR = BASE_DIR+'/parsed/united/'\n",
    "SPECTRS_DIR = BASE_DIR+'/spectrs/'\n",
    "CHORDS_DIR = BASE_DIR+'/chords/'"
   ]
  },
  {
   "cell_type": "code",
   "execution_count": 67,
   "metadata": {
    "collapsed": true
   },
   "outputs": [],
   "source": [
    "songs_ds_fname = DSETS_DIR+'united_songs_ds.csv'\n",
    "converted_ds_fname = DSETS_DIR+'converted_ds.csv'"
   ]
  },
  {
   "cell_type": "markdown",
   "metadata": {},
   "source": [
    "# Создаём датасет, для информации об изменении форматов форматов"
   ]
  },
  {
   "cell_type": "code",
   "execution_count": 413,
   "metadata": {
    "collapsed": true
   },
   "outputs": [],
   "source": [
    "conv_ds = pd.read_csv(songs_ds_fname,index_col=0)\n",
    "conv_ds['wav'] = 'not tried'\n",
    "conv_ds['npz'] = 'not tried'\n",
    "conv_ds['chords'] = 'not tried'\n",
    "conv_ds.to_csv(converted_ds_fname)"
   ]
  },
  {
   "cell_type": "markdown",
   "metadata": {},
   "source": [
    "# Mp3 To Wav"
   ]
  },
  {
   "cell_type": "markdown",
   "metadata": {},
   "source": [
    "Загружаем датасет песен"
   ]
  },
  {
   "cell_type": "code",
   "execution_count": 414,
   "metadata": {},
   "outputs": [
    {
     "data": {
      "text/html": [
       "<div>\n",
       "<style>\n",
       "    .dataframe thead tr:only-child th {\n",
       "        text-align: right;\n",
       "    }\n",
       "\n",
       "    .dataframe thead th {\n",
       "        text-align: left;\n",
       "    }\n",
       "\n",
       "    .dataframe tbody tr th {\n",
       "        vertical-align: top;\n",
       "    }\n",
       "</style>\n",
       "<table border=\"1\" class=\"dataframe\">\n",
       "  <thead>\n",
       "    <tr style=\"text-align: right;\">\n",
       "      <th></th>\n",
       "      <th>title</th>\n",
       "      <th>artist</th>\n",
       "      <th>number</th>\n",
       "      <th>duration</th>\n",
       "      <th>t_eps</th>\n",
       "      <th>href</th>\n",
       "      <th>ds</th>\n",
       "      <th>wav</th>\n",
       "      <th>npz</th>\n",
       "      <th>chords</th>\n",
       "    </tr>\n",
       "  </thead>\n",
       "  <tbody>\n",
       "    <tr>\n",
       "      <th>0</th>\n",
       "      <td>i_dont_mind</td>\n",
       "      <td>james_brown</td>\n",
       "      <td>3</td>\n",
       "      <td>02:31</td>\n",
       "      <td>1.0</td>\n",
       "      <td>NaN</td>\n",
       "      <td>billboard</td>\n",
       "      <td>not tried</td>\n",
       "      <td>not tried</td>\n",
       "      <td>not tried</td>\n",
       "    </tr>\n",
       "    <tr>\n",
       "      <th>1</th>\n",
       "      <td>youve_got_a_friend</td>\n",
       "      <td>roberta_flack_and_donny_hathaway</td>\n",
       "      <td>4</td>\n",
       "      <td>03:27</td>\n",
       "      <td>0.0</td>\n",
       "      <td>NaN</td>\n",
       "      <td>billboard</td>\n",
       "      <td>not tried</td>\n",
       "      <td>not tried</td>\n",
       "      <td>not tried</td>\n",
       "    </tr>\n",
       "    <tr>\n",
       "      <th>2</th>\n",
       "      <td>the_rose</td>\n",
       "      <td>bette_midler</td>\n",
       "      <td>6</td>\n",
       "      <td>03:41</td>\n",
       "      <td>-1.0</td>\n",
       "      <td>NaN</td>\n",
       "      <td>billboard</td>\n",
       "      <td>not tried</td>\n",
       "      <td>not tried</td>\n",
       "      <td>not tried</td>\n",
       "    </tr>\n",
       "    <tr>\n",
       "      <th>3</th>\n",
       "      <td>an_innocent_man</td>\n",
       "      <td>billy_joel</td>\n",
       "      <td>10</td>\n",
       "      <td>05:18</td>\n",
       "      <td>0.0</td>\n",
       "      <td>NaN</td>\n",
       "      <td>billboard</td>\n",
       "      <td>not tried</td>\n",
       "      <td>not tried</td>\n",
       "      <td>not tried</td>\n",
       "    </tr>\n",
       "    <tr>\n",
       "      <th>4</th>\n",
       "      <td>lookin_for_love</td>\n",
       "      <td>johnny_lee</td>\n",
       "      <td>12</td>\n",
       "      <td>03:32</td>\n",
       "      <td>0.0</td>\n",
       "      <td>NaN</td>\n",
       "      <td>billboard</td>\n",
       "      <td>not tried</td>\n",
       "      <td>not tried</td>\n",
       "      <td>not tried</td>\n",
       "    </tr>\n",
       "  </tbody>\n",
       "</table>\n",
       "</div>"
      ],
      "text/plain": [
       "                title                            artist  number duration  \\\n",
       "0         i_dont_mind                       james_brown       3    02:31   \n",
       "1  youve_got_a_friend  roberta_flack_and_donny_hathaway       4    03:27   \n",
       "2            the_rose                      bette_midler       6    03:41   \n",
       "3     an_innocent_man                        billy_joel      10    05:18   \n",
       "4     lookin_for_love                        johnny_lee      12    03:32   \n",
       "\n",
       "   t_eps href         ds        wav        npz     chords  \n",
       "0    1.0  NaN  billboard  not tried  not tried  not tried  \n",
       "1    0.0  NaN  billboard  not tried  not tried  not tried  \n",
       "2   -1.0  NaN  billboard  not tried  not tried  not tried  \n",
       "3    0.0  NaN  billboard  not tried  not tried  not tried  \n",
       "4    0.0  NaN  billboard  not tried  not tried  not tried  "
      ]
     },
     "execution_count": 414,
     "metadata": {},
     "output_type": "execute_result"
    }
   ],
   "source": [
    "conv_ds = pd.read_csv(converted_ds_fname,index_col=0)\n",
    "conv_ds.head()"
   ]
  },
  {
   "cell_type": "markdown",
   "metadata": {},
   "source": [
    "Смотрим, какие песни уже сконвертированы в wav"
   ]
  },
  {
   "cell_type": "code",
   "execution_count": 431,
   "metadata": {},
   "outputs": [
    {
     "data": {
      "application/vnd.jupyter.widget-view+json": {
       "model_id": "304fdf64f8f746538c87ae6d4f3be067",
       "version_major": 2,
       "version_minor": 0
      },
      "text/plain": [
       "A Jupyter Widget"
      ]
     },
     "metadata": {},
     "output_type": "display_data"
    },
    {
     "name": "stdout",
     "output_type": "stream",
     "text": [
      "\n"
     ]
    }
   ],
   "source": [
    "conv_ds['wav'] = 'not tried'\n",
    "for row in tqdm_notebook(conv_ds.iterrows(), total=len(songs_ds), desc='Walking rows'):\n",
    "    idx, row = row\n",
    "    \n",
    "    prename = 'bb' if row['ds']=='billboard' else 'cl'\n",
    "    fname = '{}_{}_{}-{}'.format(prename, row['number'], row['artist'], row['title'])\n",
    "    if os.path.isfile(WAV_DIR+fname+'.wav'):\n",
    "        conv_ds.at[idx,'wav'] = 'success'\n",
    "else:\n",
    "    conv_ds.to_csv(converted_ds_fname)"
   ]
  },
  {
   "cell_type": "markdown",
   "metadata": {},
   "source": [
    "Выносим непереведённые песни в отдельный датасет"
   ]
  },
  {
   "cell_type": "code",
   "execution_count": 432,
   "metadata": {},
   "outputs": [
    {
     "data": {
      "text/plain": [
       "(1018, 10)"
      ]
     },
     "execution_count": 432,
     "metadata": {},
     "output_type": "execute_result"
    }
   ],
   "source": [
    "not_conv_ds = conv_ds[conv_ds['wav']!='success']\n",
    "not_conv_ds.shape"
   ]
  },
  {
   "cell_type": "code",
   "execution_count": 433,
   "metadata": {},
   "outputs": [
    {
     "data": {
      "application/vnd.jupyter.widget-view+json": {
       "model_id": "26a7055145324133b9eb14d3605d087f",
       "version_major": 2,
       "version_minor": 0
      },
      "text/plain": [
       "A Jupyter Widget"
      ]
     },
     "metadata": {},
     "output_type": "display_data"
    },
    {
     "ename": "KeyboardInterrupt",
     "evalue": "",
     "output_type": "error",
     "traceback": [
      "\u001b[0;31m---------------------------------------------------------------------------\u001b[0m",
      "\u001b[0;31mKeyboardInterrupt\u001b[0m                         Traceback (most recent call last)",
      "\u001b[0;32m<timed exec>\u001b[0m in \u001b[0;36m<module>\u001b[0;34m()\u001b[0m\n",
      "\u001b[0;32m~/anaconda3/lib/python3.6/site-packages/tqdm/_tqdm_notebook.py\u001b[0m in \u001b[0;36m__iter__\u001b[0;34m(self, *args, **kwargs)\u001b[0m\n\u001b[1;32m    179\u001b[0m     \u001b[0;32mdef\u001b[0m \u001b[0m__iter__\u001b[0m\u001b[0;34m(\u001b[0m\u001b[0mself\u001b[0m\u001b[0;34m,\u001b[0m \u001b[0;34m*\u001b[0m\u001b[0margs\u001b[0m\u001b[0;34m,\u001b[0m \u001b[0;34m**\u001b[0m\u001b[0mkwargs\u001b[0m\u001b[0;34m)\u001b[0m\u001b[0;34m:\u001b[0m\u001b[0;34m\u001b[0m\u001b[0m\n\u001b[1;32m    180\u001b[0m         \u001b[0;32mtry\u001b[0m\u001b[0;34m:\u001b[0m\u001b[0;34m\u001b[0m\u001b[0m\n\u001b[0;32m--> 181\u001b[0;31m             \u001b[0;32mfor\u001b[0m \u001b[0mobj\u001b[0m \u001b[0;32min\u001b[0m \u001b[0msuper\u001b[0m\u001b[0;34m(\u001b[0m\u001b[0mtqdm_notebook\u001b[0m\u001b[0;34m,\u001b[0m \u001b[0mself\u001b[0m\u001b[0;34m)\u001b[0m\u001b[0;34m.\u001b[0m\u001b[0m__iter__\u001b[0m\u001b[0;34m(\u001b[0m\u001b[0;34m*\u001b[0m\u001b[0margs\u001b[0m\u001b[0;34m,\u001b[0m \u001b[0;34m**\u001b[0m\u001b[0mkwargs\u001b[0m\u001b[0;34m)\u001b[0m\u001b[0;34m:\u001b[0m\u001b[0;34m\u001b[0m\u001b[0m\n\u001b[0m\u001b[1;32m    182\u001b[0m                 \u001b[0;31m# return super(tqdm...) will not catch exception\u001b[0m\u001b[0;34m\u001b[0m\u001b[0;34m\u001b[0m\u001b[0m\n\u001b[1;32m    183\u001b[0m                 \u001b[0;32myield\u001b[0m \u001b[0mobj\u001b[0m\u001b[0;34m\u001b[0m\u001b[0m\n",
      "\u001b[0;32m~/anaconda3/lib/python3.6/site-packages/tqdm/_tqdm.py\u001b[0m in \u001b[0;36m__iter__\u001b[0;34m(self)\u001b[0m\n\u001b[1;32m    975\u001b[0m                                 \u001b[0mself\u001b[0m\u001b[0;34m.\u001b[0m\u001b[0mmoveto\u001b[0m\u001b[0;34m(\u001b[0m\u001b[0mself\u001b[0m\u001b[0;34m.\u001b[0m\u001b[0mpos\u001b[0m\u001b[0;34m)\u001b[0m\u001b[0;34m\u001b[0m\u001b[0m\n\u001b[1;32m    976\u001b[0m                             \u001b[0;31m# Print bar update\u001b[0m\u001b[0;34m\u001b[0m\u001b[0;34m\u001b[0m\u001b[0m\n\u001b[0;32m--> 977\u001b[0;31m                             \u001b[0msp\u001b[0m\u001b[0;34m(\u001b[0m\u001b[0mself\u001b[0m\u001b[0;34m.\u001b[0m\u001b[0m__repr__\u001b[0m\u001b[0;34m(\u001b[0m\u001b[0;34m)\u001b[0m\u001b[0;34m)\u001b[0m\u001b[0;34m\u001b[0m\u001b[0m\n\u001b[0m\u001b[1;32m    978\u001b[0m                             \u001b[0;32mif\u001b[0m \u001b[0mself\u001b[0m\u001b[0;34m.\u001b[0m\u001b[0mpos\u001b[0m\u001b[0;34m:\u001b[0m\u001b[0;34m\u001b[0m\u001b[0m\n\u001b[1;32m    979\u001b[0m                                 \u001b[0mself\u001b[0m\u001b[0;34m.\u001b[0m\u001b[0mmoveto\u001b[0m\u001b[0;34m(\u001b[0m\u001b[0;34m-\u001b[0m\u001b[0mself\u001b[0m\u001b[0;34m.\u001b[0m\u001b[0mpos\u001b[0m\u001b[0;34m)\u001b[0m\u001b[0;34m\u001b[0m\u001b[0m\n",
      "\u001b[0;32m~/anaconda3/lib/python3.6/site-packages/tqdm/_tqdm_notebook.py\u001b[0m in \u001b[0;36mprint_status\u001b[0;34m(s, close, bar_style)\u001b[0m\n\u001b[1;32m    127\u001b[0m                         \u001b[0;31m# Update bar with current n value\u001b[0m\u001b[0;34m\u001b[0m\u001b[0;34m\u001b[0m\u001b[0m\n\u001b[1;32m    128\u001b[0m                         \u001b[0;32mif\u001b[0m \u001b[0mn\u001b[0m \u001b[0;32mis\u001b[0m \u001b[0;32mnot\u001b[0m \u001b[0;32mNone\u001b[0m\u001b[0;34m:\u001b[0m\u001b[0;34m\u001b[0m\u001b[0m\n\u001b[0;32m--> 129\u001b[0;31m                             \u001b[0mpbar\u001b[0m\u001b[0;34m.\u001b[0m\u001b[0mvalue\u001b[0m \u001b[0;34m=\u001b[0m \u001b[0mn\u001b[0m\u001b[0;34m\u001b[0m\u001b[0m\n\u001b[0m\u001b[1;32m    130\u001b[0m \u001b[0;34m\u001b[0m\u001b[0m\n\u001b[1;32m    131\u001b[0m             \u001b[0;31m# Print stats\u001b[0m\u001b[0;34m\u001b[0m\u001b[0;34m\u001b[0m\u001b[0m\n",
      "\u001b[0;32m~/anaconda3/lib/python3.6/site-packages/traitlets/traitlets.py\u001b[0m in \u001b[0;36m__set__\u001b[0;34m(self, obj, value)\u001b[0m\n\u001b[1;32m    583\u001b[0m             \u001b[0;32mraise\u001b[0m \u001b[0mTraitError\u001b[0m\u001b[0;34m(\u001b[0m\u001b[0;34m'The \"%s\" trait is read-only.'\u001b[0m \u001b[0;34m%\u001b[0m \u001b[0mself\u001b[0m\u001b[0;34m.\u001b[0m\u001b[0mname\u001b[0m\u001b[0;34m)\u001b[0m\u001b[0;34m\u001b[0m\u001b[0m\n\u001b[1;32m    584\u001b[0m         \u001b[0;32melse\u001b[0m\u001b[0;34m:\u001b[0m\u001b[0;34m\u001b[0m\u001b[0m\n\u001b[0;32m--> 585\u001b[0;31m             \u001b[0mself\u001b[0m\u001b[0;34m.\u001b[0m\u001b[0mset\u001b[0m\u001b[0;34m(\u001b[0m\u001b[0mobj\u001b[0m\u001b[0;34m,\u001b[0m \u001b[0mvalue\u001b[0m\u001b[0;34m)\u001b[0m\u001b[0;34m\u001b[0m\u001b[0m\n\u001b[0m\u001b[1;32m    586\u001b[0m \u001b[0;34m\u001b[0m\u001b[0m\n\u001b[1;32m    587\u001b[0m     \u001b[0;32mdef\u001b[0m \u001b[0m_validate\u001b[0m\u001b[0;34m(\u001b[0m\u001b[0mself\u001b[0m\u001b[0;34m,\u001b[0m \u001b[0mobj\u001b[0m\u001b[0;34m,\u001b[0m \u001b[0mvalue\u001b[0m\u001b[0;34m)\u001b[0m\u001b[0;34m:\u001b[0m\u001b[0;34m\u001b[0m\u001b[0m\n",
      "\u001b[0;32m~/anaconda3/lib/python3.6/site-packages/traitlets/traitlets.py\u001b[0m in \u001b[0;36mset\u001b[0;34m(self, obj, value)\u001b[0m\n\u001b[1;32m    572\u001b[0m             \u001b[0;31m# we explicitly compare silent to True just in case the equality\u001b[0m\u001b[0;34m\u001b[0m\u001b[0;34m\u001b[0m\u001b[0m\n\u001b[1;32m    573\u001b[0m             \u001b[0;31m# comparison above returns something other than True/False\u001b[0m\u001b[0;34m\u001b[0m\u001b[0;34m\u001b[0m\u001b[0m\n\u001b[0;32m--> 574\u001b[0;31m             \u001b[0mobj\u001b[0m\u001b[0;34m.\u001b[0m\u001b[0m_notify_trait\u001b[0m\u001b[0;34m(\u001b[0m\u001b[0mself\u001b[0m\u001b[0;34m.\u001b[0m\u001b[0mname\u001b[0m\u001b[0;34m,\u001b[0m \u001b[0mold_value\u001b[0m\u001b[0;34m,\u001b[0m \u001b[0mnew_value\u001b[0m\u001b[0;34m)\u001b[0m\u001b[0;34m\u001b[0m\u001b[0m\n\u001b[0m\u001b[1;32m    575\u001b[0m \u001b[0;34m\u001b[0m\u001b[0m\n\u001b[1;32m    576\u001b[0m     \u001b[0;32mdef\u001b[0m \u001b[0m__set__\u001b[0m\u001b[0;34m(\u001b[0m\u001b[0mself\u001b[0m\u001b[0;34m,\u001b[0m \u001b[0mobj\u001b[0m\u001b[0;34m,\u001b[0m \u001b[0mvalue\u001b[0m\u001b[0;34m)\u001b[0m\u001b[0;34m:\u001b[0m\u001b[0;34m\u001b[0m\u001b[0m\n",
      "\u001b[0;32m~/anaconda3/lib/python3.6/site-packages/traitlets/traitlets.py\u001b[0m in \u001b[0;36m_notify_trait\u001b[0;34m(self, name, old_value, new_value)\u001b[0m\n\u001b[1;32m   1137\u001b[0m             \u001b[0mnew\u001b[0m\u001b[0;34m=\u001b[0m\u001b[0mnew_value\u001b[0m\u001b[0;34m,\u001b[0m\u001b[0;34m\u001b[0m\u001b[0m\n\u001b[1;32m   1138\u001b[0m             \u001b[0mowner\u001b[0m\u001b[0;34m=\u001b[0m\u001b[0mself\u001b[0m\u001b[0;34m,\u001b[0m\u001b[0;34m\u001b[0m\u001b[0m\n\u001b[0;32m-> 1139\u001b[0;31m             \u001b[0mtype\u001b[0m\u001b[0;34m=\u001b[0m\u001b[0;34m'change'\u001b[0m\u001b[0;34m,\u001b[0m\u001b[0;34m\u001b[0m\u001b[0m\n\u001b[0m\u001b[1;32m   1140\u001b[0m         ))\n\u001b[1;32m   1141\u001b[0m \u001b[0;34m\u001b[0m\u001b[0m\n",
      "\u001b[0;32m~/anaconda3/lib/python3.6/site-packages/ipywidgets/widgets/widget.py\u001b[0m in \u001b[0;36mnotify_change\u001b[0;34m(self, change)\u001b[0m\n\u001b[1;32m    597\u001b[0m             \u001b[0;32mif\u001b[0m \u001b[0mname\u001b[0m \u001b[0;32min\u001b[0m \u001b[0mself\u001b[0m\u001b[0;34m.\u001b[0m\u001b[0mkeys\u001b[0m \u001b[0;32mand\u001b[0m \u001b[0mself\u001b[0m\u001b[0;34m.\u001b[0m\u001b[0m_should_send_property\u001b[0m\u001b[0;34m(\u001b[0m\u001b[0mname\u001b[0m\u001b[0;34m,\u001b[0m \u001b[0mchange\u001b[0m\u001b[0;34m[\u001b[0m\u001b[0;34m'new'\u001b[0m\u001b[0;34m]\u001b[0m\u001b[0;34m)\u001b[0m\u001b[0;34m:\u001b[0m\u001b[0;34m\u001b[0m\u001b[0m\n\u001b[1;32m    598\u001b[0m                 \u001b[0;31m# Send new state to front-end\u001b[0m\u001b[0;34m\u001b[0m\u001b[0;34m\u001b[0m\u001b[0m\n\u001b[0;32m--> 599\u001b[0;31m                 \u001b[0mself\u001b[0m\u001b[0;34m.\u001b[0m\u001b[0msend_state\u001b[0m\u001b[0;34m(\u001b[0m\u001b[0mkey\u001b[0m\u001b[0;34m=\u001b[0m\u001b[0mname\u001b[0m\u001b[0;34m)\u001b[0m\u001b[0;34m\u001b[0m\u001b[0m\n\u001b[0m\u001b[1;32m    600\u001b[0m         \u001b[0msuper\u001b[0m\u001b[0;34m(\u001b[0m\u001b[0mWidget\u001b[0m\u001b[0;34m,\u001b[0m \u001b[0mself\u001b[0m\u001b[0;34m)\u001b[0m\u001b[0;34m.\u001b[0m\u001b[0mnotify_change\u001b[0m\u001b[0;34m(\u001b[0m\u001b[0mchange\u001b[0m\u001b[0;34m)\u001b[0m\u001b[0;34m\u001b[0m\u001b[0m\n\u001b[1;32m    601\u001b[0m \u001b[0;34m\u001b[0m\u001b[0m\n",
      "\u001b[0;32m~/anaconda3/lib/python3.6/site-packages/ipywidgets/widgets/widget.py\u001b[0m in \u001b[0;36msend_state\u001b[0;34m(self, key)\u001b[0m\n\u001b[1;32m    480\u001b[0m         \u001b[0mstate\u001b[0m \u001b[0;34m=\u001b[0m \u001b[0mself\u001b[0m\u001b[0;34m.\u001b[0m\u001b[0mget_state\u001b[0m\u001b[0;34m(\u001b[0m\u001b[0mkey\u001b[0m\u001b[0;34m=\u001b[0m\u001b[0mkey\u001b[0m\u001b[0;34m)\u001b[0m\u001b[0;34m\u001b[0m\u001b[0m\n\u001b[1;32m    481\u001b[0m         \u001b[0;32mif\u001b[0m \u001b[0mlen\u001b[0m\u001b[0;34m(\u001b[0m\u001b[0mstate\u001b[0m\u001b[0;34m)\u001b[0m \u001b[0;34m>\u001b[0m \u001b[0;36m0\u001b[0m\u001b[0;34m:\u001b[0m\u001b[0;34m\u001b[0m\u001b[0m\n\u001b[0;32m--> 482\u001b[0;31m             \u001b[0mstate\u001b[0m\u001b[0;34m,\u001b[0m \u001b[0mbuffer_paths\u001b[0m\u001b[0;34m,\u001b[0m \u001b[0mbuffers\u001b[0m \u001b[0;34m=\u001b[0m \u001b[0m_remove_buffers\u001b[0m\u001b[0;34m(\u001b[0m\u001b[0mstate\u001b[0m\u001b[0;34m)\u001b[0m\u001b[0;34m\u001b[0m\u001b[0m\n\u001b[0m\u001b[1;32m    483\u001b[0m             \u001b[0mmsg\u001b[0m \u001b[0;34m=\u001b[0m \u001b[0;34m{\u001b[0m\u001b[0;34m'method'\u001b[0m\u001b[0;34m:\u001b[0m \u001b[0;34m'update'\u001b[0m\u001b[0;34m,\u001b[0m \u001b[0;34m'state'\u001b[0m\u001b[0;34m:\u001b[0m \u001b[0mstate\u001b[0m\u001b[0;34m,\u001b[0m \u001b[0;34m'buffer_paths'\u001b[0m\u001b[0;34m:\u001b[0m \u001b[0mbuffer_paths\u001b[0m\u001b[0;34m}\u001b[0m\u001b[0;34m\u001b[0m\u001b[0m\n\u001b[1;32m    484\u001b[0m             \u001b[0mself\u001b[0m\u001b[0;34m.\u001b[0m\u001b[0m_send\u001b[0m\u001b[0;34m(\u001b[0m\u001b[0mmsg\u001b[0m\u001b[0;34m,\u001b[0m \u001b[0mbuffers\u001b[0m\u001b[0;34m=\u001b[0m\u001b[0mbuffers\u001b[0m\u001b[0;34m)\u001b[0m\u001b[0;34m\u001b[0m\u001b[0m\n",
      "\u001b[0;32m~/anaconda3/lib/python3.6/site-packages/ipywidgets/widgets/widget.py\u001b[0m in \u001b[0;36m_remove_buffers\u001b[0;34m(state)\u001b[0m\n\u001b[1;32m    125\u001b[0m     \"\"\"\n\u001b[1;32m    126\u001b[0m     \u001b[0mbuffer_paths\u001b[0m\u001b[0;34m,\u001b[0m \u001b[0mbuffers\u001b[0m \u001b[0;34m=\u001b[0m \u001b[0;34m[\u001b[0m\u001b[0;34m]\u001b[0m\u001b[0;34m,\u001b[0m \u001b[0;34m[\u001b[0m\u001b[0;34m]\u001b[0m\u001b[0;34m\u001b[0m\u001b[0m\n\u001b[0;32m--> 127\u001b[0;31m     \u001b[0mstate\u001b[0m \u001b[0;34m=\u001b[0m \u001b[0m_separate_buffers\u001b[0m\u001b[0;34m(\u001b[0m\u001b[0mstate\u001b[0m\u001b[0;34m,\u001b[0m \u001b[0;34m[\u001b[0m\u001b[0;34m]\u001b[0m\u001b[0;34m,\u001b[0m \u001b[0mbuffer_paths\u001b[0m\u001b[0;34m,\u001b[0m \u001b[0mbuffers\u001b[0m\u001b[0;34m)\u001b[0m\u001b[0;34m\u001b[0m\u001b[0m\n\u001b[0m\u001b[1;32m    128\u001b[0m     \u001b[0;32mreturn\u001b[0m \u001b[0mstate\u001b[0m\u001b[0;34m,\u001b[0m \u001b[0mbuffer_paths\u001b[0m\u001b[0;34m,\u001b[0m \u001b[0mbuffers\u001b[0m\u001b[0;34m\u001b[0m\u001b[0m\n\u001b[1;32m    129\u001b[0m \u001b[0;34m\u001b[0m\u001b[0m\n",
      "\u001b[0;32m~/anaconda3/lib/python3.6/site-packages/ipywidgets/widgets/widget.py\u001b[0m in \u001b[0;36m_separate_buffers\u001b[0;34m(substate, path, buffer_paths, buffers)\u001b[0m\n\u001b[1;32m    101\u001b[0m                 \u001b[0mbuffers\u001b[0m\u001b[0;34m.\u001b[0m\u001b[0mappend\u001b[0m\u001b[0;34m(\u001b[0m\u001b[0mv\u001b[0m\u001b[0;34m)\u001b[0m\u001b[0;34m\u001b[0m\u001b[0m\n\u001b[1;32m    102\u001b[0m                 \u001b[0mbuffer_paths\u001b[0m\u001b[0;34m.\u001b[0m\u001b[0mappend\u001b[0m\u001b[0;34m(\u001b[0m\u001b[0mpath\u001b[0m \u001b[0;34m+\u001b[0m \u001b[0;34m[\u001b[0m\u001b[0mk\u001b[0m\u001b[0;34m]\u001b[0m\u001b[0;34m)\u001b[0m\u001b[0;34m\u001b[0m\u001b[0m\n\u001b[0;32m--> 103\u001b[0;31m             \u001b[0;32melif\u001b[0m \u001b[0misinstance\u001b[0m\u001b[0;34m(\u001b[0m\u001b[0mv\u001b[0m\u001b[0;34m,\u001b[0m \u001b[0;34m(\u001b[0m\u001b[0mdict\u001b[0m\u001b[0;34m,\u001b[0m \u001b[0mlist\u001b[0m\u001b[0;34m,\u001b[0m \u001b[0mtuple\u001b[0m\u001b[0;34m)\u001b[0m\u001b[0;34m)\u001b[0m\u001b[0;34m:\u001b[0m\u001b[0;34m\u001b[0m\u001b[0m\n\u001b[0m\u001b[1;32m    104\u001b[0m                 \u001b[0mvnew\u001b[0m \u001b[0;34m=\u001b[0m \u001b[0m_separate_buffers\u001b[0m\u001b[0;34m(\u001b[0m\u001b[0mv\u001b[0m\u001b[0;34m,\u001b[0m \u001b[0mpath\u001b[0m \u001b[0;34m+\u001b[0m \u001b[0;34m[\u001b[0m\u001b[0mk\u001b[0m\u001b[0;34m]\u001b[0m\u001b[0;34m,\u001b[0m \u001b[0mbuffer_paths\u001b[0m\u001b[0;34m,\u001b[0m \u001b[0mbuffers\u001b[0m\u001b[0;34m)\u001b[0m\u001b[0;34m\u001b[0m\u001b[0m\n\u001b[1;32m    105\u001b[0m                 \u001b[0;32mif\u001b[0m \u001b[0mv\u001b[0m \u001b[0;32mis\u001b[0m \u001b[0;32mnot\u001b[0m \u001b[0mvnew\u001b[0m\u001b[0;34m:\u001b[0m \u001b[0;31m# only assign when value changed\u001b[0m\u001b[0;34m\u001b[0m\u001b[0m\n",
      "\u001b[0;31mKeyboardInterrupt\u001b[0m: "
     ]
    }
   ],
   "source": [
    "%%time\n",
    "\n",
    "for row in tqdm_notebook(not_conv_ds.iterrows(), total=len(not_conv_ds), desc='Walking rows'):\n",
    "    idx, row = row\n",
    "    if idx%5==0: conv_ds.to_csv(converted_ds_fname)\n",
    "    \n",
    "    prename = 'bb' if row['ds']=='billboard' else 'cl'\n",
    "    fname = '{}_{}_{}-{}'.format(prename, row['number'], row['artist'], row['title'])\n",
    "    try:\n",
    "        sound = AudioSegment.from_mp3(MP3_DIR+fname+'.mp3')\n",
    "        mono = sound.set_channels(1)\n",
    "        mono.export(WAV_DIR+fname+'.wav', format=\"wav\")\n",
    "        conv_ds.at[idx, 'wav'] = 'success'\n",
    "    except Exception as e:\n",
    "        conv_ds.at[idx, 'wav'] = str(e)\n",
    "else:\n",
    "    conv_ds.to_csv(converted_ds_fname)        "
   ]
  },
  {
   "cell_type": "code",
   "execution_count": 434,
   "metadata": {},
   "outputs": [
    {
     "name": "stdout",
     "output_type": "stream",
     "text": [
      "Успешно переведено в wav:\t13\t1.26%\n",
      "Ошибочно переведено в wav:\t0\t0.00%\n",
      "Не переводилось в wav:\t\t1016\t98.74%\n"
     ]
    }
   ],
   "source": [
    "succ_num = len(conv_ds[conv_ds['wav']=='success'])\n",
    "ntried_num = len(conv_ds[conv_ds['wav']=='not tried'])\n",
    "error_num = len(conv_ds)-succ_num-ntried_num\n",
    "print('Успешно переведено в wav:\\t{}\\t{:.2%}'.format(succ_num, succ_num/len(conv_ds)))\n",
    "print('Ошибочно переведено в wav:\\t{}\\t{:.2%}'.format(error_num, error_num/len(conv_ds)))\n",
    "print('Не переводилось в wav:\\t\\t{}\\t{:.2%}'.format(ntried_num, ntried_num/len(conv_ds)))"
   ]
  },
  {
   "cell_type": "markdown",
   "metadata": {},
   "source": [
    "# Wav To Npz"
   ]
  },
  {
   "cell_type": "markdown",
   "metadata": {},
   "source": [
    "## Тестируем перевод для одного файла"
   ]
  },
  {
   "cell_type": "markdown",
   "metadata": {},
   "source": [
    "Значения установлены, согласно работам А. Кольяти (A. Cogliati)"
   ]
  },
  {
   "cell_type": "code",
   "execution_count": 151,
   "metadata": {
    "collapsed": true
   },
   "outputs": [],
   "source": [
    "flength = 2048\n",
    "wind = signal.hamming\n",
    "hopsize = 128"
   ]
  },
  {
   "cell_type": "markdown",
   "metadata": {},
   "source": [
    "Параметры функции stft.spectrogram по умолчанию:\n",
    "\n",
    "stft.spectrogram(data, framelength=1024, hopsize=None, overlap=None, centered=True, window=None, halved=True, transform=None, padding=0, save_settings=True)\n",
    "\n",
    "Размер спектрограммы == частоты x временные_кадры"
   ]
  },
  {
   "cell_type": "markdown",
   "metadata": {},
   "source": [
    "Переводим файл в тестовом режиме"
   ]
  },
  {
   "cell_type": "code",
   "execution_count": 157,
   "metadata": {},
   "outputs": [
    {
     "data": {
      "text/plain": [
       "(1025, 51777)"
      ]
     },
     "execution_count": 157,
     "metadata": {},
     "output_type": "execute_result"
    }
   ],
   "source": [
    "sample_rate, samples = wavfile.read(WAV_DIR+'bb_3_james_brown-i_dont_mind.wav')\n",
    "spectrogramm = stft.spectrogram(samples, framelength=flength, hopsize=hopsize, window=wind)\n",
    "spectrogramm = absolute(spectrogramm)\n",
    "spectrogramm.shape"
   ]
  },
  {
   "cell_type": "markdown",
   "metadata": {},
   "source": [
    "Спектрограмма получается невероятно большой и тяжёлой для памяти. Попробуем преобразовать её в разреженный вид"
   ]
  },
  {
   "cell_type": "code",
   "execution_count": 236,
   "metadata": {},
   "outputs": [
    {
     "name": "stdout",
     "output_type": "stream",
     "text": [
      "Максимальное значение пустой ячейки:\t7000\n",
      "Кол-во пустых ячеек:\t47830625\t90.13%\n"
     ]
    }
   ],
   "source": [
    "test_limit = 7000\n",
    "n_small = int((spectrogramm<test_limit).sum())\n",
    "print('Максимальное значение пустой ячейки:\\t{}'.format(test_limit))\n",
    "print('Кол-во пустых ячеек:\\t{}\\t{:.2%}'.format(n_small, n_small/spectrogramm.size))"
   ]
  },
  {
   "cell_type": "markdown",
   "metadata": {},
   "source": [
    "Значение лимита выбрано из-за красивого числа 90%. Его, конечно, надо теоретически обосновать, но это позже."
   ]
  },
  {
   "cell_type": "code",
   "execution_count": 225,
   "metadata": {
    "collapsed": true
   },
   "outputs": [],
   "source": [
    "spectrogramm[spectrogramm<limit]=0\n",
    "spar = csc_matrix(spectrogramm)"
   ]
  },
  {
   "cell_type": "code",
   "execution_count": 242,
   "metadata": {
    "collapsed": true
   },
   "outputs": [],
   "source": [
    "del spectrogrammctrogramm\n",
    "del spar"
   ]
  },
  {
   "cell_type": "markdown",
   "metadata": {},
   "source": [
    "## Переводим все файлы"
   ]
  },
  {
   "cell_type": "markdown",
   "metadata": {},
   "source": [
    "Загружаем датасет"
   ]
  },
  {
   "cell_type": "code",
   "execution_count": 435,
   "metadata": {},
   "outputs": [
    {
     "data": {
      "text/html": [
       "<div>\n",
       "<style>\n",
       "    .dataframe thead tr:only-child th {\n",
       "        text-align: right;\n",
       "    }\n",
       "\n",
       "    .dataframe thead th {\n",
       "        text-align: left;\n",
       "    }\n",
       "\n",
       "    .dataframe tbody tr th {\n",
       "        vertical-align: top;\n",
       "    }\n",
       "</style>\n",
       "<table border=\"1\" class=\"dataframe\">\n",
       "  <thead>\n",
       "    <tr style=\"text-align: right;\">\n",
       "      <th></th>\n",
       "      <th>title</th>\n",
       "      <th>artist</th>\n",
       "      <th>number</th>\n",
       "      <th>duration</th>\n",
       "      <th>t_eps</th>\n",
       "      <th>href</th>\n",
       "      <th>ds</th>\n",
       "      <th>wav</th>\n",
       "      <th>npz</th>\n",
       "      <th>chords</th>\n",
       "    </tr>\n",
       "  </thead>\n",
       "  <tbody>\n",
       "    <tr>\n",
       "      <th>0</th>\n",
       "      <td>i_dont_mind</td>\n",
       "      <td>james_brown</td>\n",
       "      <td>3</td>\n",
       "      <td>02:31</td>\n",
       "      <td>1.0</td>\n",
       "      <td>NaN</td>\n",
       "      <td>billboard</td>\n",
       "      <td>success</td>\n",
       "      <td>not tried</td>\n",
       "      <td>not tried</td>\n",
       "    </tr>\n",
       "    <tr>\n",
       "      <th>1</th>\n",
       "      <td>youve_got_a_friend</td>\n",
       "      <td>roberta_flack_and_donny_hathaway</td>\n",
       "      <td>4</td>\n",
       "      <td>03:27</td>\n",
       "      <td>0.0</td>\n",
       "      <td>NaN</td>\n",
       "      <td>billboard</td>\n",
       "      <td>success</td>\n",
       "      <td>not tried</td>\n",
       "      <td>not tried</td>\n",
       "    </tr>\n",
       "    <tr>\n",
       "      <th>2</th>\n",
       "      <td>the_rose</td>\n",
       "      <td>bette_midler</td>\n",
       "      <td>6</td>\n",
       "      <td>03:41</td>\n",
       "      <td>-1.0</td>\n",
       "      <td>NaN</td>\n",
       "      <td>billboard</td>\n",
       "      <td>success</td>\n",
       "      <td>not tried</td>\n",
       "      <td>not tried</td>\n",
       "    </tr>\n",
       "    <tr>\n",
       "      <th>3</th>\n",
       "      <td>an_innocent_man</td>\n",
       "      <td>billy_joel</td>\n",
       "      <td>10</td>\n",
       "      <td>05:18</td>\n",
       "      <td>0.0</td>\n",
       "      <td>NaN</td>\n",
       "      <td>billboard</td>\n",
       "      <td>success</td>\n",
       "      <td>not tried</td>\n",
       "      <td>not tried</td>\n",
       "    </tr>\n",
       "    <tr>\n",
       "      <th>4</th>\n",
       "      <td>lookin_for_love</td>\n",
       "      <td>johnny_lee</td>\n",
       "      <td>12</td>\n",
       "      <td>03:32</td>\n",
       "      <td>0.0</td>\n",
       "      <td>NaN</td>\n",
       "      <td>billboard</td>\n",
       "      <td>success</td>\n",
       "      <td>not tried</td>\n",
       "      <td>not tried</td>\n",
       "    </tr>\n",
       "  </tbody>\n",
       "</table>\n",
       "</div>"
      ],
      "text/plain": [
       "                title                            artist  number duration  \\\n",
       "0         i_dont_mind                       james_brown       3    02:31   \n",
       "1  youve_got_a_friend  roberta_flack_and_donny_hathaway       4    03:27   \n",
       "2            the_rose                      bette_midler       6    03:41   \n",
       "3     an_innocent_man                        billy_joel      10    05:18   \n",
       "4     lookin_for_love                        johnny_lee      12    03:32   \n",
       "\n",
       "   t_eps href         ds      wav        npz     chords  \n",
       "0    1.0  NaN  billboard  success  not tried  not tried  \n",
       "1    0.0  NaN  billboard  success  not tried  not tried  \n",
       "2   -1.0  NaN  billboard  success  not tried  not tried  \n",
       "3    0.0  NaN  billboard  success  not tried  not tried  \n",
       "4    0.0  NaN  billboard  success  not tried  not tried  "
      ]
     },
     "execution_count": 435,
     "metadata": {},
     "output_type": "execute_result"
    }
   ],
   "source": [
    "conv_ds = pd.read_csv(converted_ds_fname, index_col=0)\n",
    "conv_ds.head()"
   ]
  },
  {
   "cell_type": "markdown",
   "metadata": {},
   "source": [
    "Проверяем уже переведённые файлы"
   ]
  },
  {
   "cell_type": "code",
   "execution_count": 445,
   "metadata": {},
   "outputs": [
    {
     "data": {
      "text/plain": [
       "(11, 10)"
      ]
     },
     "execution_count": 445,
     "metadata": {},
     "output_type": "execute_result"
    }
   ],
   "source": [
    "wav_success_ds = conv_ds[conv_ds['wav']=='success']\n",
    "wav_success_ds.shape"
   ]
  },
  {
   "cell_type": "code",
   "execution_count": 446,
   "metadata": {},
   "outputs": [
    {
     "data": {
      "application/vnd.jupyter.widget-view+json": {
       "model_id": "9e3819deb8bc4f85861d3e9abf5257db",
       "version_major": 2,
       "version_minor": 0
      },
      "text/plain": [
       "A Jupyter Widget"
      ]
     },
     "metadata": {},
     "output_type": "display_data"
    }
   ],
   "source": [
    "conv_ds['npz'] = 'not tried'\n",
    "for row in tqdm_notebook(wav_success_ds.iterrows(), total=len(wav_success_ds), desc='Walking rows'):\n",
    "    idx, row = row\n",
    "    \n",
    "    prename = 'bb' if row['ds']=='billboard' else 'cl'\n",
    "    fname = '{}_{}_{}-{}'.format(prename, row['number'], row['artist'], row['title'])\n",
    "    \n",
    "    if os.path.isfile(SPECTRS_DIR+fname+'.npz'):\n",
    "        conv_ds.at[idx,'npz'] = 'success'"
   ]
  },
  {
   "cell_type": "markdown",
   "metadata": {},
   "source": [
    "Выносим непереведённые файлы в отдельный датасет"
   ]
  },
  {
   "cell_type": "code",
   "execution_count": 452,
   "metadata": {},
   "outputs": [
    {
     "data": {
      "text/plain": [
       "(4, 10)"
      ]
     },
     "execution_count": 452,
     "metadata": {},
     "output_type": "execute_result"
    }
   ],
   "source": [
    "not_conv_ds = conv_ds[(conv_ds['wav']=='success')&(conv_ds['npz']!='success')]\n",
    "not_conv_ds.shape"
   ]
  },
  {
   "cell_type": "markdown",
   "metadata": {},
   "source": [
    "Пороговое значение. Все ячейки спектрограммы ниже него, приравниваются к нулю\n",
    "\n",
    "*!!!Внимание!!!* Установлен (почти) случайным образом"
   ]
  },
  {
   "cell_type": "code",
   "execution_count": 271,
   "metadata": {
    "collapsed": true
   },
   "outputs": [],
   "source": [
    "limit = 7000"
   ]
  },
  {
   "cell_type": "markdown",
   "metadata": {},
   "source": [
    "Переводим файлы"
   ]
  },
  {
   "cell_type": "code",
   "execution_count": 440,
   "metadata": {},
   "outputs": [
    {
     "data": {
      "application/vnd.jupyter.widget-view+json": {
       "model_id": "9e5bdddfc7e245e1b020a664d9d50483",
       "version_major": 2,
       "version_minor": 0
      },
      "text/plain": [
       "A Jupyter Widget"
      ]
     },
     "metadata": {},
     "output_type": "display_data"
    },
    {
     "ename": "KeyboardInterrupt",
     "evalue": "",
     "output_type": "error",
     "traceback": [
      "\u001b[0;31m---------------------------------------------------------------------------\u001b[0m",
      "\u001b[0;31mKeyboardInterrupt\u001b[0m                         Traceback (most recent call last)",
      "\u001b[0;32m<timed exec>\u001b[0m in \u001b[0;36m<module>\u001b[0;34m()\u001b[0m\n",
      "\u001b[0;32m~/anaconda3/lib/python3.6/site-packages/stft/stft.py\u001b[0m in \u001b[0;36mspectrogram\u001b[0;34m(data, framelength, hopsize, overlap, centered, window, halved, transform, padding, save_settings)\u001b[0m\n\u001b[1;32m    240\u001b[0m         \u001b[0;32mraise\u001b[0m \u001b[0mValueError\u001b[0m\u001b[0;34m(\u001b[0m\u001b[0;34m\"spectrogram: Only 1D or 2D input data allowed\"\u001b[0m\u001b[0;34m)\u001b[0m\u001b[0;34m\u001b[0m\u001b[0m\n\u001b[1;32m    241\u001b[0m     \u001b[0;32mif\u001b[0m \u001b[0mdata\u001b[0m\u001b[0;34m.\u001b[0m\u001b[0mndim\u001b[0m \u001b[0;34m==\u001b[0m \u001b[0;36m1\u001b[0m\u001b[0;34m:\u001b[0m\u001b[0;34m\u001b[0m\u001b[0m\n\u001b[0;32m--> 242\u001b[0;31m         \u001b[0mout\u001b[0m \u001b[0;34m=\u001b[0m \u001b[0mtraf\u001b[0m\u001b[0;34m(\u001b[0m\u001b[0mdata\u001b[0m\u001b[0;34m)\u001b[0m\u001b[0;34m\u001b[0m\u001b[0m\n\u001b[0m\u001b[1;32m    243\u001b[0m     \u001b[0;32melif\u001b[0m \u001b[0mdata\u001b[0m\u001b[0;34m.\u001b[0m\u001b[0mndim\u001b[0m \u001b[0;34m==\u001b[0m \u001b[0;36m2\u001b[0m\u001b[0;34m:\u001b[0m\u001b[0;34m\u001b[0m\u001b[0m\n\u001b[1;32m    244\u001b[0m         \u001b[0;32mfor\u001b[0m \u001b[0mi\u001b[0m \u001b[0;32min\u001b[0m \u001b[0mrange\u001b[0m\u001b[0;34m(\u001b[0m\u001b[0mdata\u001b[0m\u001b[0;34m.\u001b[0m\u001b[0mshape\u001b[0m\u001b[0;34m[\u001b[0m\u001b[0;36m1\u001b[0m\u001b[0;34m]\u001b[0m\u001b[0;34m)\u001b[0m\u001b[0;34m:\u001b[0m\u001b[0;34m\u001b[0m\u001b[0m\n",
      "\u001b[0;32m~/anaconda3/lib/python3.6/site-packages/stft/stft.py\u001b[0m in \u001b[0;36mtraf\u001b[0;34m(data)\u001b[0m\n\u001b[1;32m    220\u001b[0m \u001b[0;34m\u001b[0m\u001b[0m\n\u001b[1;32m    221\u001b[0m         \u001b[0;32mfor\u001b[0m \u001b[0mj\u001b[0m\u001b[0;34m,\u001b[0m \u001b[0mi\u001b[0m \u001b[0;32min\u001b[0m \u001b[0mvalues\u001b[0m\u001b[0;34m:\u001b[0m\u001b[0;34m\u001b[0m\u001b[0m\n\u001b[0;32m--> 222\u001b[0;31m             sig = process(\n\u001b[0m\u001b[1;32m    223\u001b[0m                 \u001b[0mdata\u001b[0m\u001b[0;34m[\u001b[0m\u001b[0mi\u001b[0m\u001b[0;34m:\u001b[0m\u001b[0mi\u001b[0m \u001b[0;34m+\u001b[0m \u001b[0mframelength\u001b[0m\u001b[0;34m]\u001b[0m\u001b[0;34m,\u001b[0m\u001b[0;34m\u001b[0m\u001b[0m\n\u001b[1;32m    224\u001b[0m                 \u001b[0mwindow\u001b[0m\u001b[0;34m=\u001b[0m\u001b[0mwindow_array\u001b[0m\u001b[0;34m,\u001b[0m\u001b[0;34m\u001b[0m\u001b[0m\n",
      "\u001b[0;31mKeyboardInterrupt\u001b[0m: "
     ]
    }
   ],
   "source": [
    "%%time\n",
    "\n",
    "for row in tqdm_notebook(not_conv_ds.iterrows(), total=len(not_conv_ds), desc='Walking rows'):\n",
    "    idx, row = row\n",
    "    if idx%5==0: conv_ds.to_csv(converted_ds_fname)\n",
    "    \n",
    "    prename = 'bb' if row['ds']=='billboard' else 'cl'\n",
    "    fname = '{}_{}_{}-{}'.format(prename, row['number'], row['artist'], row['title'])\n",
    "    \n",
    "    try:\n",
    "        sample_rate, samples = wavfile.read(WAV_DIR+fname+'.wav')\n",
    "        spm = absolute(stft.spectrogram(samples, framelength=flength, hopsize=hopsize, window=wind))\n",
    "\n",
    "        spm[spm<limit]=0\n",
    "        spar = csc_matrix(spm)\n",
    "        save_npz(SPECTRS_DIR+fname+'.npz', spar)\n",
    "        conv_ds.at[idx,'npz'] = 'success'\n",
    "    except Exception as e:\n",
    "        conv_ds.at[idx,'npz'] = str(e)\n",
    "else:\n",
    "    conv_ds.to_csv(converted_ds_fname)"
   ]
  },
  {
   "cell_type": "code",
   "execution_count": 442,
   "metadata": {},
   "outputs": [
    {
     "name": "stdout",
     "output_type": "stream",
     "text": [
      "Успешно переведено в npz:\t7\t0.68%\n",
      "Ошибочно переведено в npz:\t0\t0.00%\n",
      "Не переводилось в npz:\t\t1022\t99.32%\n"
     ]
    }
   ],
   "source": [
    "succ_num = len(conv_ds[conv_ds['npz']=='success'])\n",
    "ntried_num = len(conv_ds[conv_ds['npz']=='not tried'])\n",
    "error_num = len(conv_ds)-succ_num-ntried_num\n",
    "print('Успешно переведено в npz:\\t{}\\t{:.2%}'.format(succ_num, succ_num/len(conv_ds)))\n",
    "print('Ошибочно переведено в npz:\\t{}\\t{:.2%}'.format(error_num, error_num/len(conv_ds)))\n",
    "print('Не переводилось в npz:\\t\\t{}\\t{:.2%}'.format(ntried_num, ntried_num/len(conv_ds)))"
   ]
  },
  {
   "cell_type": "markdown",
   "metadata": {},
   "source": [
    "# Npz To Chords"
   ]
  },
  {
   "cell_type": "markdown",
   "metadata": {},
   "source": [
    "Загружаем датасет"
   ]
  },
  {
   "cell_type": "code",
   "execution_count": 449,
   "metadata": {},
   "outputs": [
    {
     "data": {
      "text/html": [
       "<div>\n",
       "<style>\n",
       "    .dataframe thead tr:only-child th {\n",
       "        text-align: right;\n",
       "    }\n",
       "\n",
       "    .dataframe thead th {\n",
       "        text-align: left;\n",
       "    }\n",
       "\n",
       "    .dataframe tbody tr th {\n",
       "        vertical-align: top;\n",
       "    }\n",
       "</style>\n",
       "<table border=\"1\" class=\"dataframe\">\n",
       "  <thead>\n",
       "    <tr style=\"text-align: right;\">\n",
       "      <th></th>\n",
       "      <th>title</th>\n",
       "      <th>artist</th>\n",
       "      <th>number</th>\n",
       "      <th>duration</th>\n",
       "      <th>t_eps</th>\n",
       "      <th>href</th>\n",
       "      <th>ds</th>\n",
       "      <th>wav</th>\n",
       "      <th>npz</th>\n",
       "      <th>chords</th>\n",
       "    </tr>\n",
       "  </thead>\n",
       "  <tbody>\n",
       "    <tr>\n",
       "      <th>0</th>\n",
       "      <td>i_dont_mind</td>\n",
       "      <td>james_brown</td>\n",
       "      <td>3</td>\n",
       "      <td>02:31</td>\n",
       "      <td>1.0</td>\n",
       "      <td>NaN</td>\n",
       "      <td>billboard</td>\n",
       "      <td>success</td>\n",
       "      <td>success</td>\n",
       "      <td>not tried</td>\n",
       "    </tr>\n",
       "    <tr>\n",
       "      <th>1</th>\n",
       "      <td>youve_got_a_friend</td>\n",
       "      <td>roberta_flack_and_donny_hathaway</td>\n",
       "      <td>4</td>\n",
       "      <td>03:27</td>\n",
       "      <td>0.0</td>\n",
       "      <td>NaN</td>\n",
       "      <td>billboard</td>\n",
       "      <td>success</td>\n",
       "      <td>success</td>\n",
       "      <td>not tried</td>\n",
       "    </tr>\n",
       "    <tr>\n",
       "      <th>2</th>\n",
       "      <td>the_rose</td>\n",
       "      <td>bette_midler</td>\n",
       "      <td>6</td>\n",
       "      <td>03:41</td>\n",
       "      <td>-1.0</td>\n",
       "      <td>NaN</td>\n",
       "      <td>billboard</td>\n",
       "      <td>success</td>\n",
       "      <td>success</td>\n",
       "      <td>not tried</td>\n",
       "    </tr>\n",
       "    <tr>\n",
       "      <th>3</th>\n",
       "      <td>an_innocent_man</td>\n",
       "      <td>billy_joel</td>\n",
       "      <td>10</td>\n",
       "      <td>05:18</td>\n",
       "      <td>0.0</td>\n",
       "      <td>NaN</td>\n",
       "      <td>billboard</td>\n",
       "      <td>success</td>\n",
       "      <td>success</td>\n",
       "      <td>not tried</td>\n",
       "    </tr>\n",
       "    <tr>\n",
       "      <th>4</th>\n",
       "      <td>lookin_for_love</td>\n",
       "      <td>johnny_lee</td>\n",
       "      <td>12</td>\n",
       "      <td>03:32</td>\n",
       "      <td>0.0</td>\n",
       "      <td>NaN</td>\n",
       "      <td>billboard</td>\n",
       "      <td>success</td>\n",
       "      <td>success</td>\n",
       "      <td>not tried</td>\n",
       "    </tr>\n",
       "  </tbody>\n",
       "</table>\n",
       "</div>"
      ],
      "text/plain": [
       "                title                            artist  number duration  \\\n",
       "0         i_dont_mind                       james_brown       3    02:31   \n",
       "1  youve_got_a_friend  roberta_flack_and_donny_hathaway       4    03:27   \n",
       "2            the_rose                      bette_midler       6    03:41   \n",
       "3     an_innocent_man                        billy_joel      10    05:18   \n",
       "4     lookin_for_love                        johnny_lee      12    03:32   \n",
       "\n",
       "   t_eps href         ds      wav      npz     chords  \n",
       "0    1.0  NaN  billboard  success  success  not tried  \n",
       "1    0.0  NaN  billboard  success  success  not tried  \n",
       "2   -1.0  NaN  billboard  success  success  not tried  \n",
       "3    0.0  NaN  billboard  success  success  not tried  \n",
       "4    0.0  NaN  billboard  success  success  not tried  "
      ]
     },
     "execution_count": 449,
     "metadata": {},
     "output_type": "execute_result"
    }
   ],
   "source": [
    "conv_ds = pd.read_csv(converted_ds_fname, index_col=0)\n",
    "conv_ds.head()"
   ]
  },
  {
   "cell_type": "markdown",
   "metadata": {},
   "source": [
    "Удаляем все созданные прежде спектрограммы аккордов. Это проще, чем считать, какие из них уже были вычленены из песен. Хотя потом и это можно сделать"
   ]
  },
  {
   "cell_type": "code",
   "execution_count": 450,
   "metadata": {
    "collapsed": true
   },
   "outputs": [],
   "source": [
    "shutil.rmtree(CHORDS_DIR, ignore_errors=True)\n",
    "os.mkdir(CHORDS_DIR)"
   ]
  },
  {
   "cell_type": "markdown",
   "metadata": {},
   "source": [
    "Вынесем неразделённые песни в отдельный датасет"
   ]
  },
  {
   "cell_type": "code",
   "execution_count": 453,
   "metadata": {},
   "outputs": [
    {
     "data": {
      "text/plain": [
       "(7, 10)"
      ]
     },
     "execution_count": 453,
     "metadata": {},
     "output_type": "execute_result"
    }
   ],
   "source": [
    "no_chords_ds = conv_ds[(conv_ds['wav']=='success')&(conv_ds['npz']=='success')&(conv_ds['chords']!='success')]\n",
    "no_chords_ds.shape"
   ]
  },
  {
   "cell_type": "code",
   "execution_count": 454,
   "metadata": {},
   "outputs": [
    {
     "data": {
      "application/vnd.jupyter.widget-view+json": {
       "model_id": "15a96915e0a94dd8aa089d054739b559",
       "version_major": 2,
       "version_minor": 0
      },
      "text/plain": [
       "A Jupyter Widget"
      ]
     },
     "metadata": {},
     "output_type": "display_data"
    },
    {
     "data": {
      "application/vnd.jupyter.widget-view+json": {
       "model_id": "4630b881fc4e420a9b9a23b4aaa0a171",
       "version_major": 2,
       "version_minor": 0
      },
      "text/plain": [
       "A Jupyter Widget"
      ]
     },
     "metadata": {},
     "output_type": "display_data"
    },
    {
     "data": {
      "application/vnd.jupyter.widget-view+json": {
       "model_id": "66ed45a4f423493eb6fb6141e1a3026a",
       "version_major": 2,
       "version_minor": 0
      },
      "text/plain": [
       "A Jupyter Widget"
      ]
     },
     "metadata": {},
     "output_type": "display_data"
    },
    {
     "data": {
      "application/vnd.jupyter.widget-view+json": {
       "model_id": "ba5af2eda8ff460995563002e5c89206",
       "version_major": 2,
       "version_minor": 0
      },
      "text/plain": [
       "A Jupyter Widget"
      ]
     },
     "metadata": {},
     "output_type": "display_data"
    },
    {
     "data": {
      "application/vnd.jupyter.widget-view+json": {
       "model_id": "b90b4a7f7bed4a24a4cb3286087500c1",
       "version_major": 2,
       "version_minor": 0
      },
      "text/plain": [
       "A Jupyter Widget"
      ]
     },
     "metadata": {},
     "output_type": "display_data"
    },
    {
     "data": {
      "application/vnd.jupyter.widget-view+json": {
       "model_id": "90eb9e88e93a44f39bdacb64789c961a",
       "version_major": 2,
       "version_minor": 0
      },
      "text/plain": [
       "A Jupyter Widget"
      ]
     },
     "metadata": {},
     "output_type": "display_data"
    },
    {
     "name": "stdout",
     "output_type": "stream",
     "text": [
      "\n"
     ]
    },
    {
     "name": "stderr",
     "output_type": "stream",
     "text": [
      "Exception in thread Thread-42:\n",
      "Traceback (most recent call last):\n",
      "  File \"/home/egor/anaconda3/lib/python3.6/threading.py\", line 916, in _bootstrap_inner\n",
      "    self.run()\n",
      "  File \"/home/egor/anaconda3/lib/python3.6/site-packages/tqdm/_tqdm.py\", line 144, in run\n",
      "    for instance in self.tqdm_cls._instances:\n",
      "  File \"/home/egor/anaconda3/lib/python3.6/_weakrefset.py\", line 60, in __iter__\n",
      "    for itemref in self.data:\n",
      "RuntimeError: Set changed size during iteration\n",
      "\n"
     ]
    },
    {
     "data": {
      "application/vnd.jupyter.widget-view+json": {
       "model_id": "8e7c7e9e5dcb41f2a7458f62599f352c",
       "version_major": 2,
       "version_minor": 0
      },
      "text/plain": [
       "A Jupyter Widget"
      ]
     },
     "metadata": {},
     "output_type": "display_data"
    },
    {
     "data": {
      "application/vnd.jupyter.widget-view+json": {
       "model_id": "bd736b7f26404e71aa7e746a29e8a64e",
       "version_major": 2,
       "version_minor": 0
      },
      "text/plain": [
       "A Jupyter Widget"
      ]
     },
     "metadata": {},
     "output_type": "display_data"
    },
    {
     "name": "stdout",
     "output_type": "stream",
     "text": [
      "\n"
     ]
    }
   ],
   "source": [
    "for song_row in tqdm_notebook(no_chords_ds.iterrows(), total=len(no_chords_ds), desc='Walking rows'):\n",
    "    song_idx, song_row = song_row\n",
    "    if song_idx%5==0: conv_ds.to_csv(converted_ds_fname)\n",
    "    \n",
    "    try:\n",
    "        dur = string_to_secs(song_row['duration'])+song_row['t_eps']\n",
    "        prename = 'bb' if row['ds']=='billboard' else 'cl'\n",
    "\n",
    "        fname = '{}_{}_{}-{}'.format(prename, song_row['number'], song_row['artist'], song_row['title'])\n",
    "        song_df = pd.read_csv(PARSED_DIR+fname+'.lab', delimiter='\\t',header=None, names=['start','stop','label'])    \n",
    "\n",
    "        full_sp = load_npz(SPECTRS_DIR+fname+'.npz')\n",
    "        sp_block_time = dur/full_sp.shape[1]\n",
    "\n",
    "        chords_sp = {}\n",
    "        for ch_row in tqdm_notebook(song_df.iterrows(), total=len(song_df), desc='Walking chord', leave=False):\n",
    "            ch_idx, ch_row = ch_row\n",
    "            start, stop = list(map(lambda x: round( round(x/sp_block_time)*sp_block_time ),\n",
    "                                  [ch_row['start'],ch_row['stop']]))\n",
    "            chords_sp[ch_row['label']]= hstack([chords_sp.get(ch_row['label']),\n",
    "                                                         full_sp[:,start:stop]])\n",
    "\n",
    "        for chName, chSp in chords_sp.items():\n",
    "            chName = chName.replace(r'/', '_inv_')\n",
    "            if not os.path.isdir(CHORDS_DIR+chName):\n",
    "                os.mkdir(CHORDS_DIR+chName)\n",
    "            save_npz(CHORDS_DIR+chName+'/'+fname+'.npz',chSp)\n",
    "        conv_ds.at[song_idx,'chords'] = 'success'\n",
    "    except Exception as e:\n",
    "        conv_ds.at[song_idx,'chords'] = str(e)\n",
    "else:\n",
    "    if song_idx%5==0: conv_ds.to_csv(converted_ds_fname)"
   ]
  },
  {
   "cell_type": "code",
   "execution_count": 456,
   "metadata": {},
   "outputs": [
    {
     "name": "stdout",
     "output_type": "stream",
     "text": [
      "Успешно переведено в npz:\t7\t0.68%\n",
      "Ошибочно переведено в npz:\t0\t0.00%\n",
      "Не переводилось в npz:\t\t1022\t99.32%\n"
     ]
    }
   ],
   "source": [
    "succ_num = len(conv_ds[conv_ds['chords']=='success'])\n",
    "ntried_num = len(conv_ds[conv_ds['chords']=='not tried'])\n",
    "error_num = len(conv_ds)-succ_num-ntried_num\n",
    "print('Успешно переведено в npz:\\t{}\\t{:.2%}'.format(succ_num, succ_num/len(conv_ds)))\n",
    "print('Ошибочно переведено в npz:\\t{}\\t{:.2%}'.format(error_num, error_num/len(conv_ds)))\n",
    "print('Не переводилось в npz:\\t\\t{}\\t{:.2%}'.format(ntried_num, ntried_num/len(conv_ds)))"
   ]
  }
 ],
 "metadata": {
  "kernelspec": {
   "display_name": "Python 3",
   "language": "python",
   "name": "python3"
  },
  "language_info": {
   "codemirror_mode": {
    "name": "ipython",
    "version": 3
   },
   "file_extension": ".py",
   "mimetype": "text/x-python",
   "name": "python",
   "nbconvert_exporter": "python",
   "pygments_lexer": "ipython3",
   "version": "3.6.3"
  }
 },
 "nbformat": 4,
 "nbformat_minor": 2
}
