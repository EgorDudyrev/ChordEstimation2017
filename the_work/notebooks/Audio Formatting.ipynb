{
 "cells": [
  {
   "cell_type": "markdown",
   "metadata": {},
   "source": [
    "# Описание ноутбука\n",
    "Содержит скрипты для перевода аудио из mp3 в wav. Wav в разреженные спектрограммы и формат npy. Затем разбивает npz файл песни на несколько npz файлов аккордов.\n",
    "\n",
    "Т.о. на вход ноутбука подаются mp3 файлы, а на выходе получается список спектрограмм аккордов."
   ]
  },
  {
   "cell_type": "code",
   "execution_count": 1,
   "metadata": {},
   "outputs": [],
   "source": [
    "import pandas as pd\n",
    "from pydub import AudioSegment\n",
    "import os\n",
    "import shutil\n",
    "from tqdm import tqdm_notebook\n",
    "import numpy as np\n",
    "from scipy.sparse import csc_matrix,load_npz, save_npz, hstack\n",
    "from scipy.io import wavfile\n",
    "from scipy import signal, absolute\n",
    "import stft\n",
    "\n",
    "from chord_scripts import format_fname, string_to_secs, secs_to_string"
   ]
  },
  {
   "cell_type": "code",
   "execution_count": 2,
   "metadata": {
    "collapsed": true
   },
   "outputs": [],
   "source": [
    "BASE_DIR = os.path.realpath(os.getcwd()+'../../..')\n",
    "DSETS_DIR = BASE_DIR+'/dsets/'\n",
    "MP3_DIR = BASE_DIR+'/audio/united/'\n",
    "WAV_DIR = BASE_DIR+'/audio/wavs/'\n",
    "PARSED_DIR = BASE_DIR+'/parsed/united/'\n",
    "SPECTRS_DIR = BASE_DIR+'/spectrs/'\n",
    "CHORDS_DIR = BASE_DIR+'/chords/'"
   ]
  },
  {
   "cell_type": "code",
   "execution_count": 3,
   "metadata": {
    "collapsed": true
   },
   "outputs": [],
   "source": [
    "songs_ds_fname = DSETS_DIR+'united_songs_ds.csv'\n",
    "converted_ds_fname = DSETS_DIR+'converted_ds.csv'"
   ]
  },
  {
   "cell_type": "markdown",
   "metadata": {},
   "source": [
    "# Создаём датасет, для информации об изменении форматов форматов"
   ]
  },
  {
   "cell_type": "code",
   "execution_count": 4,
   "metadata": {
    "collapsed": true
   },
   "outputs": [],
   "source": [
    "#conv_ds = pd.read_csv(songs_ds_fname,index_col=0)\n",
    "#conv_ds['wav'] = 'not tried'\n",
    "#conv_ds['npz'] = 'not tried'\n",
    "#conv_ds['chords'] = 'not tried'\n",
    "#conv_ds.to_csv(converted_ds_fname)"
   ]
  },
  {
   "cell_type": "markdown",
   "metadata": {},
   "source": [
    "# Mp3 To Wav"
   ]
  },
  {
   "cell_type": "markdown",
   "metadata": {},
   "source": [
    "Загружаем датасет песен"
   ]
  },
  {
   "cell_type": "code",
   "execution_count": 5,
   "metadata": {},
   "outputs": [
    {
     "data": {
      "text/html": [
       "<div>\n",
       "<style>\n",
       "    .dataframe thead tr:only-child th {\n",
       "        text-align: right;\n",
       "    }\n",
       "\n",
       "    .dataframe thead th {\n",
       "        text-align: left;\n",
       "    }\n",
       "\n",
       "    .dataframe tbody tr th {\n",
       "        vertical-align: top;\n",
       "    }\n",
       "</style>\n",
       "<table border=\"1\" class=\"dataframe\">\n",
       "  <thead>\n",
       "    <tr style=\"text-align: right;\">\n",
       "      <th></th>\n",
       "      <th>title</th>\n",
       "      <th>artist</th>\n",
       "      <th>number</th>\n",
       "      <th>duration</th>\n",
       "      <th>t_eps</th>\n",
       "      <th>href</th>\n",
       "      <th>ds</th>\n",
       "      <th>wav</th>\n",
       "      <th>npz</th>\n",
       "      <th>chords</th>\n",
       "    </tr>\n",
       "  </thead>\n",
       "  <tbody>\n",
       "    <tr>\n",
       "      <th>0</th>\n",
       "      <td>i_dont_mind</td>\n",
       "      <td>james_brown</td>\n",
       "      <td>3</td>\n",
       "      <td>02:31</td>\n",
       "      <td>1.0</td>\n",
       "      <td>NaN</td>\n",
       "      <td>billboard</td>\n",
       "      <td>success</td>\n",
       "      <td>not tried</td>\n",
       "      <td>not tried</td>\n",
       "    </tr>\n",
       "    <tr>\n",
       "      <th>1</th>\n",
       "      <td>youve_got_a_friend</td>\n",
       "      <td>roberta_flack_and_donny_hathaway</td>\n",
       "      <td>4</td>\n",
       "      <td>03:27</td>\n",
       "      <td>0.0</td>\n",
       "      <td>NaN</td>\n",
       "      <td>billboard</td>\n",
       "      <td>success</td>\n",
       "      <td>not tried</td>\n",
       "      <td>not tried</td>\n",
       "    </tr>\n",
       "    <tr>\n",
       "      <th>2</th>\n",
       "      <td>the_rose</td>\n",
       "      <td>bette_midler</td>\n",
       "      <td>6</td>\n",
       "      <td>03:41</td>\n",
       "      <td>-1.0</td>\n",
       "      <td>NaN</td>\n",
       "      <td>billboard</td>\n",
       "      <td>success</td>\n",
       "      <td>not tried</td>\n",
       "      <td>not tried</td>\n",
       "    </tr>\n",
       "    <tr>\n",
       "      <th>3</th>\n",
       "      <td>an_innocent_man</td>\n",
       "      <td>billy_joel</td>\n",
       "      <td>10</td>\n",
       "      <td>05:18</td>\n",
       "      <td>0.0</td>\n",
       "      <td>NaN</td>\n",
       "      <td>billboard</td>\n",
       "      <td>success</td>\n",
       "      <td>not tried</td>\n",
       "      <td>not tried</td>\n",
       "    </tr>\n",
       "    <tr>\n",
       "      <th>4</th>\n",
       "      <td>lookin_for_love</td>\n",
       "      <td>johnny_lee</td>\n",
       "      <td>12</td>\n",
       "      <td>03:32</td>\n",
       "      <td>0.0</td>\n",
       "      <td>NaN</td>\n",
       "      <td>billboard</td>\n",
       "      <td>success</td>\n",
       "      <td>not tried</td>\n",
       "      <td>not tried</td>\n",
       "    </tr>\n",
       "  </tbody>\n",
       "</table>\n",
       "</div>"
      ],
      "text/plain": [
       "                title                            artist  number duration  \\\n",
       "0         i_dont_mind                       james_brown       3    02:31   \n",
       "1  youve_got_a_friend  roberta_flack_and_donny_hathaway       4    03:27   \n",
       "2            the_rose                      bette_midler       6    03:41   \n",
       "3     an_innocent_man                        billy_joel      10    05:18   \n",
       "4     lookin_for_love                        johnny_lee      12    03:32   \n",
       "\n",
       "   t_eps href         ds      wav        npz     chords  \n",
       "0    1.0  NaN  billboard  success  not tried  not tried  \n",
       "1    0.0  NaN  billboard  success  not tried  not tried  \n",
       "2   -1.0  NaN  billboard  success  not tried  not tried  \n",
       "3    0.0  NaN  billboard  success  not tried  not tried  \n",
       "4    0.0  NaN  billboard  success  not tried  not tried  "
      ]
     },
     "execution_count": 5,
     "metadata": {},
     "output_type": "execute_result"
    }
   ],
   "source": [
    "conv_ds = pd.read_csv(converted_ds_fname,index_col=0)\n",
    "conv_ds.head()"
   ]
  },
  {
   "cell_type": "markdown",
   "metadata": {},
   "source": [
    "Смотрим, какие песни уже сконвертированы в wav"
   ]
  },
  {
   "cell_type": "code",
   "execution_count": 6,
   "metadata": {},
   "outputs": [
    {
     "data": {
      "application/vnd.jupyter.widget-view+json": {
       "model_id": "ba508d4d751946dfba9782b0a6f6dd80",
       "version_major": 2,
       "version_minor": 0
      },
      "text/plain": [
       "A Jupyter Widget"
      ]
     },
     "metadata": {},
     "output_type": "display_data"
    },
    {
     "name": "stdout",
     "output_type": "stream",
     "text": [
      "\n"
     ]
    }
   ],
   "source": [
    "conv_ds['wav'] = 'not tried'\n",
    "for row in tqdm_notebook(conv_ds.iterrows(), total=len(conv_ds), desc='Walking rows'):\n",
    "    idx, row = row\n",
    "    \n",
    "    prename = 'bb' if row['ds']=='billboard' else 'cl'\n",
    "    fname = '{}_{}_{}-{}'.format(prename, row['number'], row['artist'], row['title'])\n",
    "    if os.path.isfile(WAV_DIR+fname+'.wav'):\n",
    "        conv_ds.at[idx,'wav'] = 'success'\n",
    "else:\n",
    "    conv_ds.to_csv(converted_ds_fname)"
   ]
  },
  {
   "cell_type": "markdown",
   "metadata": {},
   "source": [
    "Выносим непереведённые песни в отдельный датасет"
   ]
  },
  {
   "cell_type": "code",
   "execution_count": 7,
   "metadata": {},
   "outputs": [
    {
     "data": {
      "text/plain": [
       "(5, 10)"
      ]
     },
     "execution_count": 7,
     "metadata": {},
     "output_type": "execute_result"
    }
   ],
   "source": [
    "not_conv_ds = conv_ds[conv_ds['wav']!='success']\n",
    "not_conv_ds.shape"
   ]
  },
  {
   "cell_type": "code",
   "execution_count": 8,
   "metadata": {},
   "outputs": [
    {
     "data": {
      "application/vnd.jupyter.widget-view+json": {
       "model_id": "ed141bd0a2604706931a04911ce9a6fd",
       "version_major": 2,
       "version_minor": 0
      },
      "text/plain": [
       "A Jupyter Widget"
      ]
     },
     "metadata": {},
     "output_type": "display_data"
    },
    {
     "name": "stdout",
     "output_type": "stream",
     "text": [
      "\n",
      "CPU times: user 76 ms, sys: 20 ms, total: 96 ms\n",
      "Wall time: 238 ms\n"
     ]
    }
   ],
   "source": [
    "%%time\n",
    "\n",
    "for row in tqdm_notebook(not_conv_ds.iterrows(), total=len(not_conv_ds), desc='Walking rows'):\n",
    "    idx, row = row\n",
    "    if idx%5==0: conv_ds.to_csv(converted_ds_fname)\n",
    "    \n",
    "    prename = 'bb' if row['ds']=='billboard' else 'cl'\n",
    "    fname = '{}_{}_{}-{}'.format(prename, row['number'], row['artist'], row['title'])\n",
    "    try:\n",
    "        sound = AudioSegment.from_mp3(MP3_DIR+fname+'.mp3')\n",
    "        mono = sound.set_channels(1)\n",
    "        mono.export(WAV_DIR+fname+'.wav', format=\"wav\")\n",
    "        conv_ds.at[idx, 'wav'] = 'success'\n",
    "    except Exception as e:\n",
    "        conv_ds.at[idx, 'wav'] = str(e)\n",
    "else:\n",
    "    conv_ds.to_csv(converted_ds_fname)        "
   ]
  },
  {
   "cell_type": "code",
   "execution_count": 9,
   "metadata": {},
   "outputs": [
    {
     "name": "stdout",
     "output_type": "stream",
     "text": [
      "Успешно переведено в wav:\t1024\t99.51%\n",
      "Ошибочно переведено в wav:\t5\t0.49%\n",
      "Не переводилось в wav:\t\t0\t0.00%\n"
     ]
    }
   ],
   "source": [
    "succ_num = len(conv_ds[conv_ds['wav']=='success'])\n",
    "ntried_num = len(conv_ds[conv_ds['wav']=='not tried'])\n",
    "error_num = len(conv_ds)-succ_num-ntried_num\n",
    "print('Успешно переведено в wav:\\t{}\\t{:.2%}'.format(succ_num, succ_num/len(conv_ds)))\n",
    "print('Ошибочно переведено в wav:\\t{}\\t{:.2%}'.format(error_num, error_num/len(conv_ds)))\n",
    "print('Не переводилось в wav:\\t\\t{}\\t{:.2%}'.format(ntried_num, ntried_num/len(conv_ds)))"
   ]
  },
  {
   "cell_type": "markdown",
   "metadata": {},
   "source": [
    "# Wav To Npz"
   ]
  },
  {
   "cell_type": "markdown",
   "metadata": {},
   "source": [
    "## Тестируем перевод для одного файла"
   ]
  },
  {
   "cell_type": "markdown",
   "metadata": {},
   "source": [
    "Значения установлены, согласно работам А. Кольяти (A. Cogliati)"
   ]
  },
  {
   "cell_type": "code",
   "execution_count": 10,
   "metadata": {
    "collapsed": true
   },
   "outputs": [],
   "source": [
    "flength = 2048\n",
    "wind = signal.hamming\n",
    "hopsize = 128"
   ]
  },
  {
   "cell_type": "markdown",
   "metadata": {},
   "source": [
    "Параметры функции stft.spectrogram по умолчанию:\n",
    "\n",
    "stft.spectrogram(data, framelength=1024, hopsize=None, overlap=None, centered=True, window=None, halved=True, transform=None, padding=0, save_settings=True)\n",
    "\n",
    "Размер спектрограммы == частоты x временные_кадры"
   ]
  },
  {
   "cell_type": "markdown",
   "metadata": {},
   "source": [
    "Переводим файл в тестовом режиме"
   ]
  },
  {
   "cell_type": "code",
   "execution_count": 11,
   "metadata": {},
   "outputs": [
    {
     "data": {
      "text/plain": [
       "(1025, 51777)"
      ]
     },
     "execution_count": 11,
     "metadata": {},
     "output_type": "execute_result"
    }
   ],
   "source": [
    "sample_rate, samples = wavfile.read(WAV_DIR+'bb_3_james_brown-i_dont_mind.wav')\n",
    "spectrogramm = stft.spectrogram(samples, framelength=flength, hopsize=hopsize, window=wind)\n",
    "spectrogramm = absolute(spectrogramm)\n",
    "spectrogramm.shape"
   ]
  },
  {
   "cell_type": "markdown",
   "metadata": {},
   "source": [
    "Спектрограмма получается невероятно большой и тяжёлой для памяти. Попробуем преобразовать её в разреженный вид"
   ]
  },
  {
   "cell_type": "code",
   "execution_count": 12,
   "metadata": {},
   "outputs": [
    {
     "name": "stdout",
     "output_type": "stream",
     "text": [
      "Максимальное значение пустой ячейки:\t7000\n",
      "Кол-во пустых ячеек:\t47830625\t90.13%\n"
     ]
    }
   ],
   "source": [
    "test_limit = 7000\n",
    "n_small = int((spectrogramm<test_limit).sum())\n",
    "print('Максимальное значение пустой ячейки:\\t{}'.format(test_limit))\n",
    "print('Кол-во пустых ячеек:\\t{}\\t{:.2%}'.format(n_small, n_small/spectrogramm.size))"
   ]
  },
  {
   "cell_type": "markdown",
   "metadata": {},
   "source": [
    "Значение лимита выбрано из-за красивого числа 90%. Его, конечно, надо теоретически обосновать, но это позже."
   ]
  },
  {
   "cell_type": "code",
   "execution_count": 13,
   "metadata": {},
   "outputs": [],
   "source": [
    "spectrogramm[spectrogramm<test_limit]=0\n",
    "spar = csc_matrix(spectrogramm)"
   ]
  },
  {
   "cell_type": "code",
   "execution_count": 14,
   "metadata": {},
   "outputs": [],
   "source": [
    "del spectrogramm\n",
    "del spar"
   ]
  },
  {
   "cell_type": "markdown",
   "metadata": {},
   "source": [
    "## Переводим все файлы"
   ]
  },
  {
   "cell_type": "markdown",
   "metadata": {},
   "source": [
    "Загружаем датасет"
   ]
  },
  {
   "cell_type": "code",
   "execution_count": 15,
   "metadata": {},
   "outputs": [
    {
     "data": {
      "text/html": [
       "<div>\n",
       "<style>\n",
       "    .dataframe thead tr:only-child th {\n",
       "        text-align: right;\n",
       "    }\n",
       "\n",
       "    .dataframe thead th {\n",
       "        text-align: left;\n",
       "    }\n",
       "\n",
       "    .dataframe tbody tr th {\n",
       "        vertical-align: top;\n",
       "    }\n",
       "</style>\n",
       "<table border=\"1\" class=\"dataframe\">\n",
       "  <thead>\n",
       "    <tr style=\"text-align: right;\">\n",
       "      <th></th>\n",
       "      <th>title</th>\n",
       "      <th>artist</th>\n",
       "      <th>number</th>\n",
       "      <th>duration</th>\n",
       "      <th>t_eps</th>\n",
       "      <th>href</th>\n",
       "      <th>ds</th>\n",
       "      <th>wav</th>\n",
       "      <th>npz</th>\n",
       "      <th>chords</th>\n",
       "    </tr>\n",
       "  </thead>\n",
       "  <tbody>\n",
       "    <tr>\n",
       "      <th>0</th>\n",
       "      <td>i_dont_mind</td>\n",
       "      <td>james_brown</td>\n",
       "      <td>3</td>\n",
       "      <td>02:31</td>\n",
       "      <td>1.0</td>\n",
       "      <td>NaN</td>\n",
       "      <td>billboard</td>\n",
       "      <td>success</td>\n",
       "      <td>not tried</td>\n",
       "      <td>not tried</td>\n",
       "    </tr>\n",
       "    <tr>\n",
       "      <th>1</th>\n",
       "      <td>youve_got_a_friend</td>\n",
       "      <td>roberta_flack_and_donny_hathaway</td>\n",
       "      <td>4</td>\n",
       "      <td>03:27</td>\n",
       "      <td>0.0</td>\n",
       "      <td>NaN</td>\n",
       "      <td>billboard</td>\n",
       "      <td>success</td>\n",
       "      <td>not tried</td>\n",
       "      <td>not tried</td>\n",
       "    </tr>\n",
       "    <tr>\n",
       "      <th>2</th>\n",
       "      <td>the_rose</td>\n",
       "      <td>bette_midler</td>\n",
       "      <td>6</td>\n",
       "      <td>03:41</td>\n",
       "      <td>-1.0</td>\n",
       "      <td>NaN</td>\n",
       "      <td>billboard</td>\n",
       "      <td>success</td>\n",
       "      <td>not tried</td>\n",
       "      <td>not tried</td>\n",
       "    </tr>\n",
       "    <tr>\n",
       "      <th>3</th>\n",
       "      <td>an_innocent_man</td>\n",
       "      <td>billy_joel</td>\n",
       "      <td>10</td>\n",
       "      <td>05:18</td>\n",
       "      <td>0.0</td>\n",
       "      <td>NaN</td>\n",
       "      <td>billboard</td>\n",
       "      <td>success</td>\n",
       "      <td>not tried</td>\n",
       "      <td>not tried</td>\n",
       "    </tr>\n",
       "    <tr>\n",
       "      <th>4</th>\n",
       "      <td>lookin_for_love</td>\n",
       "      <td>johnny_lee</td>\n",
       "      <td>12</td>\n",
       "      <td>03:32</td>\n",
       "      <td>0.0</td>\n",
       "      <td>NaN</td>\n",
       "      <td>billboard</td>\n",
       "      <td>success</td>\n",
       "      <td>not tried</td>\n",
       "      <td>not tried</td>\n",
       "    </tr>\n",
       "  </tbody>\n",
       "</table>\n",
       "</div>"
      ],
      "text/plain": [
       "                title                            artist  number duration  \\\n",
       "0         i_dont_mind                       james_brown       3    02:31   \n",
       "1  youve_got_a_friend  roberta_flack_and_donny_hathaway       4    03:27   \n",
       "2            the_rose                      bette_midler       6    03:41   \n",
       "3     an_innocent_man                        billy_joel      10    05:18   \n",
       "4     lookin_for_love                        johnny_lee      12    03:32   \n",
       "\n",
       "   t_eps href         ds      wav        npz     chords  \n",
       "0    1.0  NaN  billboard  success  not tried  not tried  \n",
       "1    0.0  NaN  billboard  success  not tried  not tried  \n",
       "2   -1.0  NaN  billboard  success  not tried  not tried  \n",
       "3    0.0  NaN  billboard  success  not tried  not tried  \n",
       "4    0.0  NaN  billboard  success  not tried  not tried  "
      ]
     },
     "execution_count": 15,
     "metadata": {},
     "output_type": "execute_result"
    }
   ],
   "source": [
    "conv_ds = pd.read_csv(converted_ds_fname, index_col=0)\n",
    "conv_ds.head()"
   ]
  },
  {
   "cell_type": "markdown",
   "metadata": {},
   "source": [
    "Проверяем уже переведённые файлы"
   ]
  },
  {
   "cell_type": "code",
   "execution_count": 16,
   "metadata": {},
   "outputs": [
    {
     "data": {
      "text/plain": [
       "(1024, 10)"
      ]
     },
     "execution_count": 16,
     "metadata": {},
     "output_type": "execute_result"
    }
   ],
   "source": [
    "wav_success_ds = conv_ds[conv_ds['wav']=='success']\n",
    "wav_success_ds.shape"
   ]
  },
  {
   "cell_type": "code",
   "execution_count": 17,
   "metadata": {},
   "outputs": [
    {
     "data": {
      "application/vnd.jupyter.widget-view+json": {
       "model_id": "682269505a8648c1954539c9fb652a83",
       "version_major": 2,
       "version_minor": 0
      },
      "text/plain": [
       "A Jupyter Widget"
      ]
     },
     "metadata": {},
     "output_type": "display_data"
    },
    {
     "name": "stdout",
     "output_type": "stream",
     "text": [
      "\n"
     ]
    }
   ],
   "source": [
    "conv_ds['npz'] = 'not tried'\n",
    "for row in tqdm_notebook(wav_success_ds.iterrows(), total=len(wav_success_ds), desc='Walking rows'):\n",
    "    idx, row = row\n",
    "    \n",
    "    prename = 'bb' if row['ds']=='billboard' else 'cl'\n",
    "    fname = '{}_{}_{}-{}'.format(prename, row['number'], row['artist'], row['title'])\n",
    "    \n",
    "    if os.path.isfile(SPECTRS_DIR+fname+'.npz'):\n",
    "        conv_ds.at[idx,'npz'] = 'success'"
   ]
  },
  {
   "cell_type": "markdown",
   "metadata": {},
   "source": [
    "Выносим непереведённые файлы в отдельный датасет"
   ]
  },
  {
   "cell_type": "code",
   "execution_count": 18,
   "metadata": {},
   "outputs": [
    {
     "data": {
      "text/plain": [
       "(1017, 10)"
      ]
     },
     "execution_count": 18,
     "metadata": {},
     "output_type": "execute_result"
    }
   ],
   "source": [
    "not_conv_ds = conv_ds[(conv_ds['wav']=='success')&(conv_ds['npz']!='success')]\n",
    "not_conv_ds.shape"
   ]
  },
  {
   "cell_type": "markdown",
   "metadata": {},
   "source": [
    "Пороговое значение. Все ячейки спектрограммы ниже него, приравниваются к нулю\n",
    "\n",
    "*!!!Внимание!!!* Установлен (почти) случайным образом"
   ]
  },
  {
   "cell_type": "code",
   "execution_count": 19,
   "metadata": {
    "collapsed": true
   },
   "outputs": [],
   "source": [
    "limit = 7000"
   ]
  },
  {
   "cell_type": "markdown",
   "metadata": {},
   "source": [
    "Переводим файлы"
   ]
  },
  {
   "cell_type": "code",
   "execution_count": 20,
   "metadata": {},
   "outputs": [
    {
     "data": {
      "application/vnd.jupyter.widget-view+json": {
       "model_id": "462315a134c84817ab8cf8db3b80338d",
       "version_major": 2,
       "version_minor": 0
      },
      "text/plain": [
       "A Jupyter Widget"
      ]
     },
     "metadata": {},
     "output_type": "display_data"
    },
    {
     "name": "stdout",
     "output_type": "stream",
     "text": [
      "\n",
      "CPU times: user 6h 32min 27s, sys: 20min 38s, total: 6h 53min 6s\n",
      "Wall time: 7h 14min 33s\n"
     ]
    }
   ],
   "source": [
    "%%time\n",
    "\n",
    "for row in tqdm_notebook(not_conv_ds.iterrows(), total=len(not_conv_ds), desc='Walking rows'):\n",
    "    idx, row = row\n",
    "    if idx%5==0: conv_ds.to_csv(converted_ds_fname)\n",
    "    \n",
    "    prename = 'bb' if row['ds']=='billboard' else 'cl'\n",
    "    fname = '{}_{}_{}-{}'.format(prename, row['number'], row['artist'], row['title'])\n",
    "    \n",
    "    try:\n",
    "        sample_rate, samples = wavfile.read(WAV_DIR+fname+'.wav')\n",
    "        spm = absolute(stft.spectrogram(samples, framelength=flength, hopsize=hopsize, window=wind))\n",
    "\n",
    "        spm[spm<limit]=0\n",
    "        spar = csc_matrix(spm)\n",
    "        save_npz(SPECTRS_DIR+fname+'.npz', spar)\n",
    "        conv_ds.at[idx,'npz'] = 'success'\n",
    "    except Exception as e:\n",
    "        conv_ds.at[idx,'npz'] = str(e)\n",
    "else:\n",
    "    conv_ds.to_csv(converted_ds_fname)"
   ]
  },
  {
   "cell_type": "code",
   "execution_count": 21,
   "metadata": {},
   "outputs": [
    {
     "name": "stdout",
     "output_type": "stream",
     "text": [
      "Успешно переведено в npz:\t1024\t99.51%\n",
      "Ошибочно переведено в npz:\t0\t0.00%\n",
      "Не переводилось в npz:\t\t5\t0.49%\n"
     ]
    }
   ],
   "source": [
    "succ_num = len(conv_ds[conv_ds['npz']=='success'])\n",
    "ntried_num = len(conv_ds[conv_ds['npz']=='not tried'])\n",
    "error_num = len(conv_ds)-succ_num-ntried_num\n",
    "print('Успешно переведено в npz:\\t{}\\t{:.2%}'.format(succ_num, succ_num/len(conv_ds)))\n",
    "print('Ошибочно переведено в npz:\\t{}\\t{:.2%}'.format(error_num, error_num/len(conv_ds)))\n",
    "print('Не переводилось в npz:\\t\\t{}\\t{:.2%}'.format(ntried_num, ntried_num/len(conv_ds)))"
   ]
  },
  {
   "cell_type": "markdown",
   "metadata": {},
   "source": [
    "# Npz To Chords"
   ]
  },
  {
   "cell_type": "markdown",
   "metadata": {},
   "source": [
    "Загружаем датасет"
   ]
  },
  {
   "cell_type": "code",
   "execution_count": 22,
   "metadata": {},
   "outputs": [
    {
     "data": {
      "text/html": [
       "<div>\n",
       "<style>\n",
       "    .dataframe thead tr:only-child th {\n",
       "        text-align: right;\n",
       "    }\n",
       "\n",
       "    .dataframe thead th {\n",
       "        text-align: left;\n",
       "    }\n",
       "\n",
       "    .dataframe tbody tr th {\n",
       "        vertical-align: top;\n",
       "    }\n",
       "</style>\n",
       "<table border=\"1\" class=\"dataframe\">\n",
       "  <thead>\n",
       "    <tr style=\"text-align: right;\">\n",
       "      <th></th>\n",
       "      <th>title</th>\n",
       "      <th>artist</th>\n",
       "      <th>number</th>\n",
       "      <th>duration</th>\n",
       "      <th>t_eps</th>\n",
       "      <th>href</th>\n",
       "      <th>ds</th>\n",
       "      <th>wav</th>\n",
       "      <th>npz</th>\n",
       "      <th>chords</th>\n",
       "    </tr>\n",
       "  </thead>\n",
       "  <tbody>\n",
       "    <tr>\n",
       "      <th>0</th>\n",
       "      <td>i_dont_mind</td>\n",
       "      <td>james_brown</td>\n",
       "      <td>3</td>\n",
       "      <td>02:31</td>\n",
       "      <td>1.0</td>\n",
       "      <td>NaN</td>\n",
       "      <td>billboard</td>\n",
       "      <td>success</td>\n",
       "      <td>success</td>\n",
       "      <td>not tried</td>\n",
       "    </tr>\n",
       "    <tr>\n",
       "      <th>1</th>\n",
       "      <td>youve_got_a_friend</td>\n",
       "      <td>roberta_flack_and_donny_hathaway</td>\n",
       "      <td>4</td>\n",
       "      <td>03:27</td>\n",
       "      <td>0.0</td>\n",
       "      <td>NaN</td>\n",
       "      <td>billboard</td>\n",
       "      <td>success</td>\n",
       "      <td>success</td>\n",
       "      <td>not tried</td>\n",
       "    </tr>\n",
       "    <tr>\n",
       "      <th>2</th>\n",
       "      <td>the_rose</td>\n",
       "      <td>bette_midler</td>\n",
       "      <td>6</td>\n",
       "      <td>03:41</td>\n",
       "      <td>-1.0</td>\n",
       "      <td>NaN</td>\n",
       "      <td>billboard</td>\n",
       "      <td>success</td>\n",
       "      <td>success</td>\n",
       "      <td>not tried</td>\n",
       "    </tr>\n",
       "    <tr>\n",
       "      <th>3</th>\n",
       "      <td>an_innocent_man</td>\n",
       "      <td>billy_joel</td>\n",
       "      <td>10</td>\n",
       "      <td>05:18</td>\n",
       "      <td>0.0</td>\n",
       "      <td>NaN</td>\n",
       "      <td>billboard</td>\n",
       "      <td>success</td>\n",
       "      <td>success</td>\n",
       "      <td>not tried</td>\n",
       "    </tr>\n",
       "    <tr>\n",
       "      <th>4</th>\n",
       "      <td>lookin_for_love</td>\n",
       "      <td>johnny_lee</td>\n",
       "      <td>12</td>\n",
       "      <td>03:32</td>\n",
       "      <td>0.0</td>\n",
       "      <td>NaN</td>\n",
       "      <td>billboard</td>\n",
       "      <td>success</td>\n",
       "      <td>success</td>\n",
       "      <td>not tried</td>\n",
       "    </tr>\n",
       "  </tbody>\n",
       "</table>\n",
       "</div>"
      ],
      "text/plain": [
       "                title                            artist  number duration  \\\n",
       "0         i_dont_mind                       james_brown       3    02:31   \n",
       "1  youve_got_a_friend  roberta_flack_and_donny_hathaway       4    03:27   \n",
       "2            the_rose                      bette_midler       6    03:41   \n",
       "3     an_innocent_man                        billy_joel      10    05:18   \n",
       "4     lookin_for_love                        johnny_lee      12    03:32   \n",
       "\n",
       "   t_eps href         ds      wav      npz     chords  \n",
       "0    1.0  NaN  billboard  success  success  not tried  \n",
       "1    0.0  NaN  billboard  success  success  not tried  \n",
       "2   -1.0  NaN  billboard  success  success  not tried  \n",
       "3    0.0  NaN  billboard  success  success  not tried  \n",
       "4    0.0  NaN  billboard  success  success  not tried  "
      ]
     },
     "execution_count": 22,
     "metadata": {},
     "output_type": "execute_result"
    }
   ],
   "source": [
    "conv_ds = pd.read_csv(converted_ds_fname, index_col=0)\n",
    "conv_ds.head()"
   ]
  },
  {
   "cell_type": "markdown",
   "metadata": {},
   "source": [
    "Удаляем все созданные прежде спектрограммы аккордов. Это проще, чем считать, какие из них уже были вычленены из песен. Хотя потом и это можно сделать"
   ]
  },
  {
   "cell_type": "code",
   "execution_count": 23,
   "metadata": {
    "collapsed": true
   },
   "outputs": [],
   "source": [
    "shutil.rmtree(CHORDS_DIR, ignore_errors=True)\n",
    "os.mkdir(CHORDS_DIR)"
   ]
  },
  {
   "cell_type": "markdown",
   "metadata": {},
   "source": [
    "Вынесем неразделённые песни в отдельный датасет"
   ]
  },
  {
   "cell_type": "code",
   "execution_count": 67,
   "metadata": {},
   "outputs": [
    {
     "data": {
      "text/plain": [
       "(176, 10)"
      ]
     },
     "execution_count": 67,
     "metadata": {},
     "output_type": "execute_result"
    }
   ],
   "source": [
    "no_chords_ds = conv_ds[(conv_ds['wav']=='success')&(conv_ds['npz']=='success')&(conv_ds['chords']!='success')]\n",
    "no_chords_ds.shape"
   ]
  },
  {
   "cell_type": "markdown",
   "metadata": {},
   "source": [
    "В песнях The Beatles датасета chordlab, в отличие от остальных файлов, в качестве пробельных символов стоят пробелы, а не табуляции"
   ]
  },
  {
   "cell_type": "code",
   "execution_count": 66,
   "metadata": {
    "collapsed": true
   },
   "outputs": [],
   "source": [
    "for fname in os.listdir(PARSED_DIR):\n",
    "    with open(PARSED_DIR+fname, 'r') as f:\n",
    "        lines = f.readlines()\n",
    "    lines = [l.replace(' ', '\\t') for l in lines]\n",
    "    with open(PARSED_DIR+fname, 'w') as f:\n",
    "        f.write(''.join(lines))"
   ]
  },
  {
   "cell_type": "code",
   "execution_count": null,
   "metadata": {},
   "outputs": [
    {
     "data": {
      "application/vnd.jupyter.widget-view+json": {
       "model_id": "bcff1a75d33d40589ec48a4be02291eb",
       "version_major": 2,
       "version_minor": 0
      },
      "text/plain": [
       "A Jupyter Widget"
      ]
     },
     "metadata": {},
     "output_type": "display_data"
    },
    {
     "data": {
      "application/vnd.jupyter.widget-view+json": {
       "model_id": "335aa9c25ea34a6fa8796ae9784c20a6",
       "version_major": 2,
       "version_minor": 0
      },
      "text/plain": [
       "A Jupyter Widget"
      ]
     },
     "metadata": {},
     "output_type": "display_data"
    },
    {
     "data": {
      "application/vnd.jupyter.widget-view+json": {
       "model_id": "e61aeb873d384da08508e4c2604b2bde",
       "version_major": 2,
       "version_minor": 0
      },
      "text/plain": [
       "A Jupyter Widget"
      ]
     },
     "metadata": {},
     "output_type": "display_data"
    },
    {
     "data": {
      "application/vnd.jupyter.widget-view+json": {
       "model_id": "ee9d9fb417194178995341e1723bc6e3",
       "version_major": 2,
       "version_minor": 0
      },
      "text/plain": [
       "A Jupyter Widget"
      ]
     },
     "metadata": {},
     "output_type": "display_data"
    },
    {
     "data": {
      "application/vnd.jupyter.widget-view+json": {
       "model_id": "69a17d5d8d4f42b18e22ce1417596ab7",
       "version_major": 2,
       "version_minor": 0
      },
      "text/plain": [
       "A Jupyter Widget"
      ]
     },
     "metadata": {},
     "output_type": "display_data"
    },
    {
     "data": {
      "application/vnd.jupyter.widget-view+json": {
       "model_id": "7010fca9dea54e14988d797f213bf289",
       "version_major": 2,
       "version_minor": 0
      },
      "text/plain": [
       "A Jupyter Widget"
      ]
     },
     "metadata": {},
     "output_type": "display_data"
    },
    {
     "data": {
      "application/vnd.jupyter.widget-view+json": {
       "model_id": "a7de17e55bc04d459937297004d6022c",
       "version_major": 2,
       "version_minor": 0
      },
      "text/plain": [
       "A Jupyter Widget"
      ]
     },
     "metadata": {},
     "output_type": "display_data"
    },
    {
     "data": {
      "application/vnd.jupyter.widget-view+json": {
       "model_id": "ba24657136884a4bbd093b6f24c16b65",
       "version_major": 2,
       "version_minor": 0
      },
      "text/plain": [
       "A Jupyter Widget"
      ]
     },
     "metadata": {},
     "output_type": "display_data"
    },
    {
     "data": {
      "application/vnd.jupyter.widget-view+json": {
       "model_id": "fbdb4007ecb9412e94cf0d65e6e85cbc",
       "version_major": 2,
       "version_minor": 0
      },
      "text/plain": [
       "A Jupyter Widget"
      ]
     },
     "metadata": {},
     "output_type": "display_data"
    },
    {
     "data": {
      "application/vnd.jupyter.widget-view+json": {
       "model_id": "19cf8b2f55a445d3b5660009c9338f57",
       "version_major": 2,
       "version_minor": 0
      },
      "text/plain": [
       "A Jupyter Widget"
      ]
     },
     "metadata": {},
     "output_type": "display_data"
    },
    {
     "data": {
      "application/vnd.jupyter.widget-view+json": {
       "model_id": "b289e89d92bb4a98b996576bdcbe7c02",
       "version_major": 2,
       "version_minor": 0
      },
      "text/plain": [
       "A Jupyter Widget"
      ]
     },
     "metadata": {},
     "output_type": "display_data"
    },
    {
     "data": {
      "application/vnd.jupyter.widget-view+json": {
       "model_id": "2a664ec636d84523b3fc96d8882f551c",
       "version_major": 2,
       "version_minor": 0
      },
      "text/plain": [
       "A Jupyter Widget"
      ]
     },
     "metadata": {},
     "output_type": "display_data"
    },
    {
     "data": {
      "application/vnd.jupyter.widget-view+json": {
       "model_id": "6f18783411c04058a012ba07be60fb58",
       "version_major": 2,
       "version_minor": 0
      },
      "text/plain": [
       "A Jupyter Widget"
      ]
     },
     "metadata": {},
     "output_type": "display_data"
    },
    {
     "data": {
      "application/vnd.jupyter.widget-view+json": {
       "model_id": "4b411a1b21a0401bb38f675f32b63820",
       "version_major": 2,
       "version_minor": 0
      },
      "text/plain": [
       "A Jupyter Widget"
      ]
     },
     "metadata": {},
     "output_type": "display_data"
    },
    {
     "data": {
      "application/vnd.jupyter.widget-view+json": {
       "model_id": "eeed074470884996ba8864e86da97384",
       "version_major": 2,
       "version_minor": 0
      },
      "text/plain": [
       "A Jupyter Widget"
      ]
     },
     "metadata": {},
     "output_type": "display_data"
    },
    {
     "data": {
      "application/vnd.jupyter.widget-view+json": {
       "model_id": "3f3826c4f9a44e75aa942933e8a1a2fe",
       "version_major": 2,
       "version_minor": 0
      },
      "text/plain": [
       "A Jupyter Widget"
      ]
     },
     "metadata": {},
     "output_type": "display_data"
    },
    {
     "data": {
      "application/vnd.jupyter.widget-view+json": {
       "model_id": "b9697acd723e4e868b774696b711013e",
       "version_major": 2,
       "version_minor": 0
      },
      "text/plain": [
       "A Jupyter Widget"
      ]
     },
     "metadata": {},
     "output_type": "display_data"
    },
    {
     "data": {
      "application/vnd.jupyter.widget-view+json": {
       "model_id": "086888d8fd924dd48ba80c577e8eca23",
       "version_major": 2,
       "version_minor": 0
      },
      "text/plain": [
       "A Jupyter Widget"
      ]
     },
     "metadata": {},
     "output_type": "display_data"
    },
    {
     "data": {
      "application/vnd.jupyter.widget-view+json": {
       "model_id": "025a1009c7cf46f09f609dbf3aa6a1db",
       "version_major": 2,
       "version_minor": 0
      },
      "text/plain": [
       "A Jupyter Widget"
      ]
     },
     "metadata": {},
     "output_type": "display_data"
    },
    {
     "data": {
      "application/vnd.jupyter.widget-view+json": {
       "model_id": "91866a739b604b228bd9daffd7041267",
       "version_major": 2,
       "version_minor": 0
      },
      "text/plain": [
       "A Jupyter Widget"
      ]
     },
     "metadata": {},
     "output_type": "display_data"
    },
    {
     "data": {
      "application/vnd.jupyter.widget-view+json": {
       "model_id": "f96155d6f5864667a999d7092128989c",
       "version_major": 2,
       "version_minor": 0
      },
      "text/plain": [
       "A Jupyter Widget"
      ]
     },
     "metadata": {},
     "output_type": "display_data"
    },
    {
     "data": {
      "application/vnd.jupyter.widget-view+json": {
       "model_id": "70b015cf0b2148d79bd7091c44fc9294",
       "version_major": 2,
       "version_minor": 0
      },
      "text/plain": [
       "A Jupyter Widget"
      ]
     },
     "metadata": {},
     "output_type": "display_data"
    },
    {
     "data": {
      "application/vnd.jupyter.widget-view+json": {
       "model_id": "97ba778e5e3b4b189a20b08521da9884",
       "version_major": 2,
       "version_minor": 0
      },
      "text/plain": [
       "A Jupyter Widget"
      ]
     },
     "metadata": {},
     "output_type": "display_data"
    },
    {
     "data": {
      "application/vnd.jupyter.widget-view+json": {
       "model_id": "6f9ac92ceda544fb934aa60caf39f832",
       "version_major": 2,
       "version_minor": 0
      },
      "text/plain": [
       "A Jupyter Widget"
      ]
     },
     "metadata": {},
     "output_type": "display_data"
    },
    {
     "data": {
      "application/vnd.jupyter.widget-view+json": {
       "model_id": "b2b83315023b416a930a2e8eee2a2516",
       "version_major": 2,
       "version_minor": 0
      },
      "text/plain": [
       "A Jupyter Widget"
      ]
     },
     "metadata": {},
     "output_type": "display_data"
    },
    {
     "data": {
      "application/vnd.jupyter.widget-view+json": {
       "model_id": "f2a073c902764bc9b67a95370d20f565",
       "version_major": 2,
       "version_minor": 0
      },
      "text/plain": [
       "A Jupyter Widget"
      ]
     },
     "metadata": {},
     "output_type": "display_data"
    },
    {
     "data": {
      "application/vnd.jupyter.widget-view+json": {
       "model_id": "d47a8a9015f342d9b9df930849370b9d",
       "version_major": 2,
       "version_minor": 0
      },
      "text/plain": [
       "A Jupyter Widget"
      ]
     },
     "metadata": {},
     "output_type": "display_data"
    },
    {
     "data": {
      "application/vnd.jupyter.widget-view+json": {
       "model_id": "c1d64bdc7b854f49937e1f12c407ec6a",
       "version_major": 2,
       "version_minor": 0
      },
      "text/plain": [
       "A Jupyter Widget"
      ]
     },
     "metadata": {},
     "output_type": "display_data"
    },
    {
     "data": {
      "application/vnd.jupyter.widget-view+json": {
       "model_id": "f7ec3a82480049e9af74b845b35abb86",
       "version_major": 2,
       "version_minor": 0
      },
      "text/plain": [
       "A Jupyter Widget"
      ]
     },
     "metadata": {},
     "output_type": "display_data"
    },
    {
     "data": {
      "application/vnd.jupyter.widget-view+json": {
       "model_id": "58daf6e444ab4eeeae283a32bea596f8",
       "version_major": 2,
       "version_minor": 0
      },
      "text/plain": [
       "A Jupyter Widget"
      ]
     },
     "metadata": {},
     "output_type": "display_data"
    },
    {
     "data": {
      "application/vnd.jupyter.widget-view+json": {
       "model_id": "cfb6e7f257994916b8a1618e381d637b",
       "version_major": 2,
       "version_minor": 0
      },
      "text/plain": [
       "A Jupyter Widget"
      ]
     },
     "metadata": {},
     "output_type": "display_data"
    },
    {
     "data": {
      "application/vnd.jupyter.widget-view+json": {
       "model_id": "5b3777cf83b84542a67146e5f1f5c3d7",
       "version_major": 2,
       "version_minor": 0
      },
      "text/plain": [
       "A Jupyter Widget"
      ]
     },
     "metadata": {},
     "output_type": "display_data"
    },
    {
     "data": {
      "application/vnd.jupyter.widget-view+json": {
       "model_id": "7439f2025f424aa2b87c6c8ae4a14899",
       "version_major": 2,
       "version_minor": 0
      },
      "text/plain": [
       "A Jupyter Widget"
      ]
     },
     "metadata": {},
     "output_type": "display_data"
    },
    {
     "data": {
      "application/vnd.jupyter.widget-view+json": {
       "model_id": "2c43f8eb4ddd458faa90f6b073d2a6b6",
       "version_major": 2,
       "version_minor": 0
      },
      "text/plain": [
       "A Jupyter Widget"
      ]
     },
     "metadata": {},
     "output_type": "display_data"
    },
    {
     "data": {
      "application/vnd.jupyter.widget-view+json": {
       "model_id": "7334a45a76f249aebb0617d05b3e28f7",
       "version_major": 2,
       "version_minor": 0
      },
      "text/plain": [
       "A Jupyter Widget"
      ]
     },
     "metadata": {},
     "output_type": "display_data"
    },
    {
     "data": {
      "application/vnd.jupyter.widget-view+json": {
       "model_id": "14a7d16ae7f442eab35e191331ea8309",
       "version_major": 2,
       "version_minor": 0
      },
      "text/plain": [
       "A Jupyter Widget"
      ]
     },
     "metadata": {},
     "output_type": "display_data"
    },
    {
     "data": {
      "application/vnd.jupyter.widget-view+json": {
       "model_id": "a665d955ab0f4b98bbb422b5f8b05c7a",
       "version_major": 2,
       "version_minor": 0
      },
      "text/plain": [
       "A Jupyter Widget"
      ]
     },
     "metadata": {},
     "output_type": "display_data"
    },
    {
     "data": {
      "application/vnd.jupyter.widget-view+json": {
       "model_id": "9d90203b10df4c19b7bd53eec93dd40f",
       "version_major": 2,
       "version_minor": 0
      },
      "text/plain": [
       "A Jupyter Widget"
      ]
     },
     "metadata": {},
     "output_type": "display_data"
    },
    {
     "data": {
      "application/vnd.jupyter.widget-view+json": {
       "model_id": "16ae59bcea7346c2aac8bb503f145d89",
       "version_major": 2,
       "version_minor": 0
      },
      "text/plain": [
       "A Jupyter Widget"
      ]
     },
     "metadata": {},
     "output_type": "display_data"
    },
    {
     "data": {
      "application/vnd.jupyter.widget-view+json": {
       "model_id": "53d7fd5325164922bbbc3c51611bee50",
       "version_major": 2,
       "version_minor": 0
      },
      "text/plain": [
       "A Jupyter Widget"
      ]
     },
     "metadata": {},
     "output_type": "display_data"
    },
    {
     "data": {
      "application/vnd.jupyter.widget-view+json": {
       "model_id": "e74fb1f69e9e4c87a1d6f868f967dbe8",
       "version_major": 2,
       "version_minor": 0
      },
      "text/plain": [
       "A Jupyter Widget"
      ]
     },
     "metadata": {},
     "output_type": "display_data"
    },
    {
     "data": {
      "application/vnd.jupyter.widget-view+json": {
       "model_id": "f364544fa02c455794a0d93226bc65c7",
       "version_major": 2,
       "version_minor": 0
      },
      "text/plain": [
       "A Jupyter Widget"
      ]
     },
     "metadata": {},
     "output_type": "display_data"
    },
    {
     "data": {
      "application/vnd.jupyter.widget-view+json": {
       "model_id": "1ce92180b88c4e17bad9f5999ef0213c",
       "version_major": 2,
       "version_minor": 0
      },
      "text/plain": [
       "A Jupyter Widget"
      ]
     },
     "metadata": {},
     "output_type": "display_data"
    },
    {
     "data": {
      "application/vnd.jupyter.widget-view+json": {
       "model_id": "27eeceafac0744aa85acd56877a77110",
       "version_major": 2,
       "version_minor": 0
      },
      "text/plain": [
       "A Jupyter Widget"
      ]
     },
     "metadata": {},
     "output_type": "display_data"
    },
    {
     "data": {
      "application/vnd.jupyter.widget-view+json": {
       "model_id": "9ea881de43624172805efbe7732e0bac",
       "version_major": 2,
       "version_minor": 0
      },
      "text/plain": [
       "A Jupyter Widget"
      ]
     },
     "metadata": {},
     "output_type": "display_data"
    },
    {
     "data": {
      "application/vnd.jupyter.widget-view+json": {
       "model_id": "e83c9f59b8aa4c81ab4ea2d3e3de6500",
       "version_major": 2,
       "version_minor": 0
      },
      "text/plain": [
       "A Jupyter Widget"
      ]
     },
     "metadata": {},
     "output_type": "display_data"
    },
    {
     "data": {
      "application/vnd.jupyter.widget-view+json": {
       "model_id": "b8d516b2366345d288e4d1a02352485d",
       "version_major": 2,
       "version_minor": 0
      },
      "text/plain": [
       "A Jupyter Widget"
      ]
     },
     "metadata": {},
     "output_type": "display_data"
    },
    {
     "data": {
      "application/vnd.jupyter.widget-view+json": {
       "model_id": "571495e1e7c84a47a07e1ec8d8ebb7be",
       "version_major": 2,
       "version_minor": 0
      },
      "text/plain": [
       "A Jupyter Widget"
      ]
     },
     "metadata": {},
     "output_type": "display_data"
    },
    {
     "data": {
      "application/vnd.jupyter.widget-view+json": {
       "model_id": "d163f6ad24734c1cbc53654fa7ba658f",
       "version_major": 2,
       "version_minor": 0
      },
      "text/plain": [
       "A Jupyter Widget"
      ]
     },
     "metadata": {},
     "output_type": "display_data"
    },
    {
     "data": {
      "application/vnd.jupyter.widget-view+json": {
       "model_id": "84d6b91e0b6741759075afeb848b1b65",
       "version_major": 2,
       "version_minor": 0
      },
      "text/plain": [
       "A Jupyter Widget"
      ]
     },
     "metadata": {},
     "output_type": "display_data"
    },
    {
     "data": {
      "application/vnd.jupyter.widget-view+json": {
       "model_id": "bb8274efdcc1462f93c9767d5c45a579",
       "version_major": 2,
       "version_minor": 0
      },
      "text/plain": [
       "A Jupyter Widget"
      ]
     },
     "metadata": {},
     "output_type": "display_data"
    },
    {
     "data": {
      "application/vnd.jupyter.widget-view+json": {
       "model_id": "a60f2a07e4eb444fbf740ba79d4aed3e",
       "version_major": 2,
       "version_minor": 0
      },
      "text/plain": [
       "A Jupyter Widget"
      ]
     },
     "metadata": {},
     "output_type": "display_data"
    },
    {
     "data": {
      "application/vnd.jupyter.widget-view+json": {
       "model_id": "19aee73d035848b090da78fe4e6b91be",
       "version_major": 2,
       "version_minor": 0
      },
      "text/plain": [
       "A Jupyter Widget"
      ]
     },
     "metadata": {},
     "output_type": "display_data"
    },
    {
     "data": {
      "application/vnd.jupyter.widget-view+json": {
       "model_id": "ac15b47c41f2492fade7fb8b788ab8b7",
       "version_major": 2,
       "version_minor": 0
      },
      "text/plain": [
       "A Jupyter Widget"
      ]
     },
     "metadata": {},
     "output_type": "display_data"
    },
    {
     "data": {
      "application/vnd.jupyter.widget-view+json": {
       "model_id": "e372defa61cc405784658f00d6540866",
       "version_major": 2,
       "version_minor": 0
      },
      "text/plain": [
       "A Jupyter Widget"
      ]
     },
     "metadata": {},
     "output_type": "display_data"
    },
    {
     "data": {
      "application/vnd.jupyter.widget-view+json": {
       "model_id": "ff7116c2123b46aaa2859a86dff34fc6",
       "version_major": 2,
       "version_minor": 0
      },
      "text/plain": [
       "A Jupyter Widget"
      ]
     },
     "metadata": {},
     "output_type": "display_data"
    },
    {
     "data": {
      "application/vnd.jupyter.widget-view+json": {
       "model_id": "f8d751df2b5447ad8dc06f4388dffc05",
       "version_major": 2,
       "version_minor": 0
      },
      "text/plain": [
       "A Jupyter Widget"
      ]
     },
     "metadata": {},
     "output_type": "display_data"
    },
    {
     "data": {
      "application/vnd.jupyter.widget-view+json": {
       "model_id": "c1b9d37d41da4d08acf0e911223cbaa5",
       "version_major": 2,
       "version_minor": 0
      },
      "text/plain": [
       "A Jupyter Widget"
      ]
     },
     "metadata": {},
     "output_type": "display_data"
    },
    {
     "data": {
      "application/vnd.jupyter.widget-view+json": {
       "model_id": "161e1073e42f477182a1f57f3128c08c",
       "version_major": 2,
       "version_minor": 0
      },
      "text/plain": [
       "A Jupyter Widget"
      ]
     },
     "metadata": {},
     "output_type": "display_data"
    },
    {
     "data": {
      "application/vnd.jupyter.widget-view+json": {
       "model_id": "412d9510a21b4df2b55ddb67d614d0e0",
       "version_major": 2,
       "version_minor": 0
      },
      "text/plain": [
       "A Jupyter Widget"
      ]
     },
     "metadata": {},
     "output_type": "display_data"
    },
    {
     "data": {
      "application/vnd.jupyter.widget-view+json": {
       "model_id": "b9bb7da6b0734731942e0ab9fe004534",
       "version_major": 2,
       "version_minor": 0
      },
      "text/plain": [
       "A Jupyter Widget"
      ]
     },
     "metadata": {},
     "output_type": "display_data"
    }
   ],
   "source": [
    "%%time\n",
    "\n",
    "for song_row in tqdm_notebook(no_chords_ds.iterrows(), total=len(no_chords_ds), desc='Walking rows'):\n",
    "    song_idx, song_row = song_row\n",
    "    if song_idx%5==0: conv_ds.to_csv(converted_ds_fname)\n",
    "    \n",
    "    try:\n",
    "        dur = string_to_secs(song_row['duration'])+song_row['t_eps']\n",
    "        prename = 'bb' if song_row['ds']=='billboard' else 'cl'\n",
    "\n",
    "        fname = '{}_{}_{}-{}'.format(prename, song_row['number'], song_row['artist'], song_row['title'])\n",
    "        song_df = pd.read_csv(PARSED_DIR+fname+'.lab', delimiter='\\t',header=None, names=['start','stop','label'])    \n",
    "        full_sp = load_npz(SPECTRS_DIR+fname+'.npz')\n",
    "        sp_block_time = dur/full_sp.shape[1]\n",
    "\n",
    "        chords_sp = {}\n",
    "        for ch_row in tqdm_notebook(song_df.iterrows(), total=len(song_df), desc='Walking chord', leave=False):\n",
    "            ch_idx, ch_row = ch_row\n",
    "            start, stop = list(map(lambda x: round( round(float(x)/sp_block_time)*sp_block_time ),\n",
    "                                  [ch_row['start'],ch_row['stop']]))\n",
    "            chords_sp[ch_row['label']]= hstack([chords_sp.get(ch_row['label']),\n",
    "                                                         full_sp[:,start:stop]])\n",
    "\n",
    "        for chName, chSp in chords_sp.items():\n",
    "            chName = chName.replace(r'/', '_inv_')\n",
    "            if not os.path.isdir(CHORDS_DIR+chName):\n",
    "                os.mkdir(CHORDS_DIR+chName)\n",
    "            save_npz(CHORDS_DIR+chName+'/'+fname+'.npz',chSp)\n",
    "        conv_ds.at[song_idx,'chords'] = 'success'\n",
    "    except Exception as e:\n",
    "        conv_ds.at[song_idx,'chords'] = str(e)\n",
    "else:\n",
    "    if song_idx%5==0: conv_ds.to_csv(converted_ds_fname)"
   ]
  },
  {
   "cell_type": "code",
   "execution_count": null,
   "metadata": {},
   "outputs": [],
   "source": [
    "succ_num = len(conv_ds[conv_ds['chords']=='success'])\n",
    "ntried_num = len(conv_ds[conv_ds['chords']=='not tried'])\n",
    "error_num = len(conv_ds)-succ_num-ntried_num\n",
    "print('Успешно переведено в npz:\\t{}\\t{:.2%}'.format(succ_num, succ_num/len(conv_ds)))\n",
    "print('Ошибочно переведено в npz:\\t{}\\t{:.2%}'.format(error_num, error_num/len(conv_ds)))\n",
    "print('Не переводилось в npz:\\t\\t{}\\t{:.2%}'.format(ntried_num, ntried_num/len(conv_ds)))"
   ]
  }
 ],
 "metadata": {
  "kernelspec": {
   "display_name": "Python 3",
   "language": "python",
   "name": "python3"
  },
  "language_info": {
   "codemirror_mode": {
    "name": "ipython",
    "version": 3
   },
   "file_extension": ".py",
   "mimetype": "text/x-python",
   "name": "python",
   "nbconvert_exporter": "python",
   "pygments_lexer": "ipython3",
   "version": "3.6.3"
  }
 },
 "nbformat": 4,
 "nbformat_minor": 2
}
