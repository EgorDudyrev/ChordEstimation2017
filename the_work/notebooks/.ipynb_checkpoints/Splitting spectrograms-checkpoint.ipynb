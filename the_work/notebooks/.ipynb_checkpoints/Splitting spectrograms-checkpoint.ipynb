{
 "cells": [
  {
   "cell_type": "markdown",
   "metadata": {},
   "source": [
    "# Описание ноутбука\n",
    "Скрипты, извлекающие спектрограммы аккордов из wav аудиозаписей"
   ]
  },
  {
   "cell_type": "code",
   "execution_count": 1,
   "metadata": {
    "collapsed": true
   },
   "outputs": [],
   "source": [
    "import numpy as np\n",
    "from scipy.sparse import csc_matrix, csr_matrix, load_npz, save_npz, hstack\n",
    "from scipy.io import wavfile\n",
    "from pydub import AudioSegment\n",
    "import pandas as pd\n",
    "from chord_scripts import *"
   ]
  },
  {
   "cell_type": "markdown",
   "metadata": {},
   "source": [
    "# Тестовая версия"
   ]
  },
  {
   "cell_type": "markdown",
   "metadata": {},
   "source": [
    "## Загрузка данных"
   ]
  },
  {
   "cell_type": "code",
   "execution_count": 2,
   "metadata": {
    "collapsed": true
   },
   "outputs": [],
   "source": [
    "full_spectr = load_npz('Testing spectrosplit/sparse.npz')"
   ]
  },
  {
   "cell_type": "code",
   "execution_count": 3,
   "metadata": {},
   "outputs": [
    {
     "data": {
      "text/plain": [
       "148.06204081632654"
      ]
     },
     "execution_count": 3,
     "metadata": {},
     "output_type": "execute_result"
    }
   ],
   "source": [
    "durat = AudioSegment.from_wav('Testing spectrosplit/audio.wav').duration_seconds\n",
    "#durat = wav.duration_seconds\n",
    "durat"
   ]
  },
  {
   "cell_type": "code",
   "execution_count": 4,
   "metadata": {
    "collapsed": true
   },
   "outputs": [],
   "source": [
    "def size_by_shape(shape):\n",
    "    return shape[0]*shape[1]"
   ]
  },
  {
   "cell_type": "code",
   "execution_count": 5,
   "metadata": {},
   "outputs": [
    {
     "data": {
      "text/plain": [
       "(1025, 51025)"
      ]
     },
     "execution_count": 5,
     "metadata": {},
     "output_type": "execute_result"
    }
   ],
   "source": [
    "full_spectr.shape"
   ]
  },
  {
   "cell_type": "code",
   "execution_count": 6,
   "metadata": {},
   "outputs": [
    {
     "data": {
      "text/plain": [
       "0.0029017548420642147"
      ]
     },
     "execution_count": 6,
     "metadata": {},
     "output_type": "execute_result"
    }
   ],
   "source": [
    "spectr_block_time = durat/max(full_spectr.shape)\n",
    "spectr_block_time"
   ]
  },
  {
   "cell_type": "code",
   "execution_count": 7,
   "metadata": {},
   "outputs": [
    {
     "data": {
      "text/html": [
       "<div>\n",
       "<style>\n",
       "    .dataframe thead tr:only-child th {\n",
       "        text-align: right;\n",
       "    }\n",
       "\n",
       "    .dataframe thead th {\n",
       "        text-align: left;\n",
       "    }\n",
       "\n",
       "    .dataframe tbody tr th {\n",
       "        vertical-align: top;\n",
       "    }\n",
       "</style>\n",
       "<table border=\"1\" class=\"dataframe\">\n",
       "  <thead>\n",
       "    <tr style=\"text-align: right;\">\n",
       "      <th></th>\n",
       "      <th>start</th>\n",
       "      <th>stop</th>\n",
       "      <th>label</th>\n",
       "    </tr>\n",
       "  </thead>\n",
       "  <tbody>\n",
       "    <tr>\n",
       "      <th>0</th>\n",
       "      <td>0.000000</td>\n",
       "      <td>0.139320</td>\n",
       "      <td>N</td>\n",
       "    </tr>\n",
       "    <tr>\n",
       "      <th>1</th>\n",
       "      <td>0.139320</td>\n",
       "      <td>1.895306</td>\n",
       "      <td>N</td>\n",
       "    </tr>\n",
       "    <tr>\n",
       "      <th>2</th>\n",
       "      <td>1.895306</td>\n",
       "      <td>3.651293</td>\n",
       "      <td>N</td>\n",
       "    </tr>\n",
       "    <tr>\n",
       "      <th>3</th>\n",
       "      <td>3.651293</td>\n",
       "      <td>5.385544</td>\n",
       "      <td>E:maj</td>\n",
       "    </tr>\n",
       "    <tr>\n",
       "      <th>4</th>\n",
       "      <td>5.385544</td>\n",
       "      <td>7.119796</td>\n",
       "      <td>C#:min</td>\n",
       "    </tr>\n",
       "  </tbody>\n",
       "</table>\n",
       "</div>"
      ],
      "text/plain": [
       "      start      stop   label\n",
       "0  0.000000  0.139320       N\n",
       "1  0.139320  1.895306       N\n",
       "2  1.895306  3.651293       N\n",
       "3  3.651293  5.385544   E:maj\n",
       "4  5.385544  7.119796  C#:min"
      ]
     },
     "execution_count": 7,
     "metadata": {},
     "output_type": "execute_result"
    }
   ],
   "source": [
    "song_df = pd.read_csv('Testing spectrosplit/full.lab', delimiter='\\t',header=None)\n",
    "song_df.columns = ['start','stop','label']\n",
    "song_df.head()"
   ]
  },
  {
   "cell_type": "markdown",
   "metadata": {},
   "source": [
    "## Обработка данных"
   ]
  },
  {
   "cell_type": "code",
   "execution_count": 8,
   "metadata": {
    "collapsed": true
   },
   "outputs": [],
   "source": [
    "song_df['label'] = map_chords(song_df['label'])"
   ]
  },
  {
   "cell_type": "code",
   "execution_count": 9,
   "metadata": {},
   "outputs": [
    {
     "data": {
      "text/html": [
       "<div>\n",
       "<style>\n",
       "    .dataframe thead tr:only-child th {\n",
       "        text-align: right;\n",
       "    }\n",
       "\n",
       "    .dataframe thead th {\n",
       "        text-align: left;\n",
       "    }\n",
       "\n",
       "    .dataframe tbody tr th {\n",
       "        vertical-align: top;\n",
       "    }\n",
       "</style>\n",
       "<table border=\"1\" class=\"dataframe\">\n",
       "  <thead>\n",
       "    <tr style=\"text-align: right;\">\n",
       "      <th></th>\n",
       "      <th>start</th>\n",
       "      <th>stop</th>\n",
       "      <th>label</th>\n",
       "    </tr>\n",
       "  </thead>\n",
       "  <tbody>\n",
       "    <tr>\n",
       "      <th>0</th>\n",
       "      <td>0.000000</td>\n",
       "      <td>0.139320</td>\n",
       "      <td>N</td>\n",
       "    </tr>\n",
       "    <tr>\n",
       "      <th>1</th>\n",
       "      <td>0.139320</td>\n",
       "      <td>1.895306</td>\n",
       "      <td>N</td>\n",
       "    </tr>\n",
       "    <tr>\n",
       "      <th>2</th>\n",
       "      <td>1.895306</td>\n",
       "      <td>3.651293</td>\n",
       "      <td>N</td>\n",
       "    </tr>\n",
       "    <tr>\n",
       "      <th>3</th>\n",
       "      <td>3.651293</td>\n",
       "      <td>5.385544</td>\n",
       "      <td>E:maj</td>\n",
       "    </tr>\n",
       "    <tr>\n",
       "      <th>4</th>\n",
       "      <td>5.385544</td>\n",
       "      <td>7.119796</td>\n",
       "      <td>C#:min</td>\n",
       "    </tr>\n",
       "  </tbody>\n",
       "</table>\n",
       "</div>"
      ],
      "text/plain": [
       "      start      stop   label\n",
       "0  0.000000  0.139320       N\n",
       "1  0.139320  1.895306       N\n",
       "2  1.895306  3.651293       N\n",
       "3  3.651293  5.385544   E:maj\n",
       "4  5.385544  7.119796  C#:min"
      ]
     },
     "execution_count": 9,
     "metadata": {},
     "output_type": "execute_result"
    }
   ],
   "source": [
    "song_df.head()"
   ]
  },
  {
   "cell_type": "code",
   "execution_count": 10,
   "metadata": {},
   "outputs": [
    {
     "data": {
      "text/plain": [
       "48.01232618979357"
      ]
     },
     "execution_count": 10,
     "metadata": {},
     "output_type": "execute_result"
    }
   ],
   "source": [
    "0.139320/spectr_block_time"
   ]
  },
  {
   "cell_type": "code",
   "execution_count": 25,
   "metadata": {
    "collapsed": true
   },
   "outputs": [],
   "source": [
    "chords_spectr = {}\n",
    "for labeled_row in song_df.iterrows():\n",
    "    idx, labeled_row = labeled_row\n",
    "    start, stop = map(lambda x: int(x/spectr_block_time), [labeled_row['start'],labeled_row['stop']])\n",
    "    if labeled_row['label'] in chords_spectr:    \n",
    "        chords_spectr[labeled_row['label']]= hstack([full_spectr[:,start:stop],chords_spectr[labeled_row['label']]])\n",
    "    else:\n",
    "        chords_spectr[labeled_row['label']] = full_spectr[:,start:stop]"
   ]
  },
  {
   "cell_type": "code",
   "execution_count": 14,
   "metadata": {},
   "outputs": [
    {
     "data": {
      "text/plain": [
       "{'A:maj': <1025x10643 sparse matrix of type '<type 'numpy.complex128'>'\n",
       " \twith 78674 stored elements in Compressed Sparse Column format>,\n",
       " 'B:maj': <1025x10643 sparse matrix of type '<type 'numpy.complex128'>'\n",
       " \twith 81030 stored elements in Compressed Sparse Column format>,\n",
       " 'C#:min': <1025x10645 sparse matrix of type '<type 'numpy.complex128'>'\n",
       " \twith 102019 stored elements in Compressed Sparse Column format>,\n",
       " 'E:maj': <1025x16631 sparse matrix of type '<type 'numpy.complex128'>'\n",
       " \twith 113568 stored elements in Compressed Sparse Column format>,\n",
       " 'N': <1025x2336 sparse matrix of type '<type 'numpy.complex128'>'\n",
       " \twith 1089 stored elements in Compressed Sparse Column format>}"
      ]
     },
     "execution_count": 14,
     "metadata": {},
     "output_type": "execute_result"
    }
   ],
   "source": [
    "chords_spectr"
   ]
  },
  {
   "cell_type": "code",
   "execution_count": null,
   "metadata": {
    "collapsed": true,
    "scrolled": false
   },
   "outputs": [],
   "source": [
    "plot_spectrogram(chords_spectr['N'].toarray())"
   ]
  },
  {
   "cell_type": "code",
   "execution_count": null,
   "metadata": {
    "collapsed": true
   },
   "outputs": [],
   "source": [
    "plot_spectrogram((chords_spectr['A:maj']-chords_spectr['B:maj']).toarray())"
   ]
  },
  {
   "cell_type": "code",
   "execution_count": null,
   "metadata": {
    "collapsed": true
   },
   "outputs": [],
   "source": [
    "plot_spectrogram(chords_spectr['A:maj'].toarray())"
   ]
  },
  {
   "cell_type": "code",
   "execution_count": null,
   "metadata": {
    "collapsed": true
   },
   "outputs": [],
   "source": [
    "plot_spectrogram(chords_spectr['B:maj'].toarray())"
   ]
  },
  {
   "cell_type": "code",
   "execution_count": null,
   "metadata": {
    "collapsed": true
   },
   "outputs": [],
   "source": [
    "plot_spectrogram(chords_spectr['C#:min'].toarray())"
   ]
  },
  {
   "cell_type": "markdown",
   "metadata": {},
   "source": [
    "# Для всех файлов"
   ]
  },
  {
   "cell_type": "code",
   "execution_count": 29,
   "metadata": {},
   "outputs": [
    {
     "name": "stdout",
     "output_type": "stream",
     "text": [
      "All songs: 739 converted: 442\n"
     ]
    },
    {
     "data": {
      "text/html": [
       "<div>\n",
       "<style>\n",
       "    .dataframe thead tr:only-child th {\n",
       "        text-align: right;\n",
       "    }\n",
       "\n",
       "    .dataframe thead th {\n",
       "        text-align: left;\n",
       "    }\n",
       "\n",
       "    .dataframe tbody tr th {\n",
       "        vertical-align: top;\n",
       "    }\n",
       "</style>\n",
       "<table border=\"1\" class=\"dataframe\">\n",
       "  <thead>\n",
       "    <tr style=\"text-align: right;\">\n",
       "      <th></th>\n",
       "      <th>title</th>\n",
       "      <th>artist</th>\n",
       "      <th>number</th>\n",
       "      <th>duration</th>\n",
       "      <th>t_eps</th>\n",
       "      <th>href</th>\n",
       "      <th>status</th>\n",
       "      <th>converted</th>\n",
       "    </tr>\n",
       "  </thead>\n",
       "  <tbody>\n",
       "    <tr>\n",
       "      <th>0</th>\n",
       "      <td>Chicago</td>\n",
       "      <td>25 or 6 to 4</td>\n",
       "      <td>176</td>\n",
       "      <td>4:50</td>\n",
       "      <td>0.0</td>\n",
       "      <td>https://ipleer.fm/song/101272384/Chicago_Chica...</td>\n",
       "      <td>Downloaded</td>\n",
       "      <td>True</td>\n",
       "    </tr>\n",
       "    <tr>\n",
       "      <th>1</th>\n",
       "      <td>Sukiyaki</td>\n",
       "      <td>A Taste Of Honey</td>\n",
       "      <td>1286</td>\n",
       "      <td>3:43</td>\n",
       "      <td>1.0</td>\n",
       "      <td>https://ipleer.fm/song/2787937/A_Taste_Of_Hone...</td>\n",
       "      <td>Downloaded</td>\n",
       "      <td>True</td>\n",
       "    </tr>\n",
       "    <tr>\n",
       "      <th>2</th>\n",
       "      <td>Chiquitita</td>\n",
       "      <td>ABBA</td>\n",
       "      <td>183</td>\n",
       "      <td>5:25</td>\n",
       "      <td>0.0</td>\n",
       "      <td>https://ipleer.fm/song/1958012/ABBA_-_Chiquitita/</td>\n",
       "      <td>Downloaded</td>\n",
       "      <td>True</td>\n",
       "    </tr>\n",
       "    <tr>\n",
       "      <th>3</th>\n",
       "      <td>Knowing Me, Knowing You</td>\n",
       "      <td>ABBA</td>\n",
       "      <td>231</td>\n",
       "      <td>4:04</td>\n",
       "      <td>1.0</td>\n",
       "      <td>https://ipleer.fm/song/1823039/ABBA_-_Knowing_...</td>\n",
       "      <td>Downloaded</td>\n",
       "      <td>True</td>\n",
       "    </tr>\n",
       "    <tr>\n",
       "      <th>4</th>\n",
       "      <td>Honey Honey</td>\n",
       "      <td>ABBA</td>\n",
       "      <td>902</td>\n",
       "      <td>2:54</td>\n",
       "      <td>0.0</td>\n",
       "      <td>https://ipleer.fm/song/7201410/ABBA_-_Honey_Ho...</td>\n",
       "      <td>Downloaded</td>\n",
       "      <td>True</td>\n",
       "    </tr>\n",
       "  </tbody>\n",
       "</table>\n",
       "</div>"
      ],
      "text/plain": [
       "                     title            artist  number duration  t_eps  \\\n",
       "0                  Chicago      25 or 6 to 4     176     4:50    0.0   \n",
       "1                 Sukiyaki  A Taste Of Honey    1286     3:43    1.0   \n",
       "2               Chiquitita              ABBA     183     5:25    0.0   \n",
       "3  Knowing Me, Knowing You              ABBA     231     4:04    1.0   \n",
       "4              Honey Honey              ABBA     902     2:54    0.0   \n",
       "\n",
       "                                                href      status converted  \n",
       "0  https://ipleer.fm/song/101272384/Chicago_Chica...  Downloaded      True  \n",
       "1  https://ipleer.fm/song/2787937/A_Taste_Of_Hone...  Downloaded      True  \n",
       "2  https://ipleer.fm/song/1958012/ABBA_-_Chiquitita/  Downloaded      True  \n",
       "3  https://ipleer.fm/song/1823039/ABBA_-_Knowing_...  Downloaded      True  \n",
       "4  https://ipleer.fm/song/7201410/ABBA_-_Honey_Ho...  Downloaded      True  "
      ]
     },
     "execution_count": 29,
     "metadata": {},
     "output_type": "execute_result"
    }
   ],
   "source": [
    "all_songs = pd.read_csv('McGill-Billboard (2)/songs_converted.csv', index_col=0)\n",
    "converted_songs = all_songs[all_songs['converted']==True]\n",
    "print 'All songs:',all_songs.shape[0], 'converted:',converted_songs.shape[0]\n",
    "converted_songs.head()"
   ]
  },
  {
   "cell_type": "code",
   "execution_count": 28,
   "metadata": {
    "collapsed": true
   },
   "outputs": [],
   "source": [
    "for song in all_songs.iterrows():\n",
    "    song_idx, song = song\n",
    "    \n",
    "    dname = 'audio/billboard/'+'0'*(4-len(str(song.number)))+str(song.number)+'/'\n",
    "    fname = format_fname('{}-{}.mp3'.format(song.artist,song.title))\n",
    "    \n",
    "    full_spectr = load_npz(dname+'sparse.npz')\n",
    "    durat = AudioSegment.from_wav(dname+'audio.wav').duration_seconds\n",
    "    spectr_block_time = durat/max(full_spectr.shape)\n",
    "    \n",
    "    chords_file_name = 'McGill-Billboard Parsed/'+'0'*(4-len(str(song.number)))+str(song.number)+'/full.lab'\n",
    "    song_df = pd.read_csv(chords_file_name, delimiter='\\t',header=None)\n",
    "    song_df.columns = ['start','stop','label']\n",
    "    \n",
    "    chords_spectr = {}\n",
    "    for labeled_row in song_df.iterrows():\n",
    "        idx, labeled_row = labeled_row\n",
    "        start, stop = map(lambda x: int(x/spectr_block_time), [labeled_row['start'],labeled_row['stop']])\n",
    "        if labeled_row['label'] in chords_spectr:    \n",
    "            chords_spectr[labeled_row['label']]= hstack([full_spectr[:,start:stop],chords_spectr[labeled_row['label']]])\n",
    "        else:\n",
    "            chords_spectr[labeled_row['label']] = full_spectr[:,start:stop]\n",
    "    \n",
    "    for chName, chSpectr in chords_spectr.items():\n",
    "        try:\n",
    "            !mkdir chords/{chName}\n",
    "        except:\n",
    "            pass\n",
    "        save_npz('chords/'+chName,chSpectr)"
   ]
  }
 ],
 "metadata": {
  "kernelspec": {
   "display_name": "Python 2",
   "language": "python",
   "name": "python2"
  },
  "language_info": {
   "codemirror_mode": {
    "name": "ipython",
    "version": 2
   },
   "file_extension": ".py",
   "mimetype": "text/x-python",
   "name": "python",
   "nbconvert_exporter": "python",
   "pygments_lexer": "ipython2",
   "version": "2.7.13"
  }
 },
 "nbformat": 4,
 "nbformat_minor": 2
}
