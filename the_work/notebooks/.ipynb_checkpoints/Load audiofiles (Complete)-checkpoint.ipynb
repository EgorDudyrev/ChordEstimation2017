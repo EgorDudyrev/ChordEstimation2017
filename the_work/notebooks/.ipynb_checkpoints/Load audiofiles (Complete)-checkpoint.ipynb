{
 "cells": [
  {
   "cell_type": "markdown",
   "metadata": {},
   "source": [
    "# Описание ноутбука\n",
    "Парсинг песен из датасета Billboard"
   ]
  },
  {
   "cell_type": "code",
   "execution_count": 177,
   "metadata": {},
   "outputs": [],
   "source": [
    "import pandas as pd\n",
    "import numpy as np\n",
    "import requests\n",
    "from bs4 import BeautifulSoup\n",
    "from pydub import AudioSegment\n",
    "\n",
    "from chord_scripts import format_fname, secs_to_string, string_to_secs, time_delta\n",
    "\n",
    "from tqdm import tqdm_notebook\n",
    "import re\n",
    "import os"
   ]
  },
  {
   "cell_type": "code",
   "execution_count": 178,
   "metadata": {
    "collapsed": true
   },
   "outputs": [],
   "source": [
    "BASE_DIR = os.path.realpath(os.getcwd()+'../../..')"
   ]
  },
  {
   "cell_type": "markdown",
   "metadata": {},
   "source": [
    "# Функции для парсинга"
   ]
  },
  {
   "cell_type": "markdown",
   "metadata": {},
   "source": [
    "Во избежание скачивания каверов и т.п."
   ]
  },
  {
   "cell_type": "code",
   "execution_count": 179,
   "metadata": {
    "collapsed": true
   },
   "outputs": [],
   "source": [
    "not_include = [r'\\bcover\\b', r'\\bremix\\b', r'\\blive\\b', 'исполнен', r'\\bkaraoke\\b'] # Запрещённые слова для названий песен todo: 'Live'?"
   ]
  },
  {
   "cell_type": "markdown",
   "metadata": {},
   "source": [
    "Максимальное расхождение загруженной и распарсенной песни во времени в секундах"
   ]
  },
  {
   "cell_type": "code",
   "execution_count": 4,
   "metadata": {
    "collapsed": true
   },
   "outputs": [],
   "source": [
    "max_eps = 2"
   ]
  },
  {
   "cell_type": "markdown",
   "metadata": {},
   "source": [
    "Загрузка записи в определённый файл"
   ]
  },
  {
   "cell_type": "code",
   "execution_count": 10,
   "metadata": {
    "collapsed": true
   },
   "outputs": [],
   "source": [
    "def download_file(artist, title, number, href, ds_name):\n",
    "    dname = '/audio/'+ds_name+'/'\n",
    "    fname = format_fname('{}_{}-{}.mp3'.format(number, artist,title))\n",
    "    try:\n",
    "        with open(BASE_DIR+dname+fname, \"wb\") as file:\n",
    "            response = requests.get(href)\n",
    "            file.write(response.content)\n",
    "    except:\n",
    "        raise Exception('Found but not downloaded')"
   ]
  },
  {
   "cell_type": "markdown",
   "metadata": {},
   "source": [
    "Проверка правильности загрузки файла"
   ]
  },
  {
   "cell_type": "code",
   "execution_count": 11,
   "metadata": {
    "collapsed": true
   },
   "outputs": [],
   "source": [
    "def check_correct_dl(artist, title, number, duration, eps, ds_name):\n",
    "    fname = BASE_DIR+'/audio/'+ds_name+format_fname('/{}_{}-{}.mp3'.format(number,artist,title))\n",
    "    audio = AudioSegment.from_mp3(fname)\n",
    "    dur_real = round(audio.duration_seconds)\n",
    "    del audio\n",
    "    return True if dur_real == string_to_secs(duration)+eps else False"
   ]
  },
  {
   "cell_type": "code",
   "execution_count": 12,
   "metadata": {},
   "outputs": [
    {
     "data": {
      "text/plain": [
       "True"
      ]
     },
     "execution_count": 12,
     "metadata": {},
     "output_type": "execute_result"
    }
   ],
   "source": [
    "check_correct_dl('25_or_6_to_4','chicago',176,'4:50',-1, ds_name='billboard')"
   ]
  },
  {
   "cell_type": "markdown",
   "metadata": {},
   "source": [
    "Проверка аттрибутов песни: автора 'a', названия 't', длительности 'd'"
   ]
  },
  {
   "cell_type": "code",
   "execution_count": 13,
   "metadata": {
    "collapsed": true
   },
   "outputs": [],
   "source": [
    "def check_attributes(a,t,d,artist, title, duration, to_print = False):\n",
    "    a,t,artist,title = map(lambda x: format_fname(x.lower(), ' '), [a,t,artist,title])\n",
    "    # Если кавер или ремикс (автор и название могут быть перепутаны местами)\n",
    "    if len(list(filter(lambda x: x in t, not_include)))>0\\\n",
    "     or len(list(filter(lambda x: x in a, not_include)))>0:\n",
    "        if to_print: print('is cover')        \n",
    "        return False\n",
    "    # Если автор не совпадает с заданным (автор и название могут быть перепутаны местами)\n",
    "    if len(list(filter(lambda x: x in a, artist.split()))) != len(artist.split())\\\n",
    "     and len(list(filter(lambda x: x in t, artist.split()))) != len(artist.split()):\n",
    "        if to_print: print('wrong artist: {} {}'.format(artist,a))\n",
    "        return False\n",
    "    # Если название не совпадает с заданным (автор и название могут быть перепутаны местами)\n",
    "    if len(list(filter(lambda x: x in t, title.split()))) != len(title.split())\\\n",
    "     and len(list(filter(lambda x: x in a, title.split()))) != len(title.split()):\n",
    "        if to_print: print('wrong title: {} {}'.format(title, t))\n",
    "        return False\n",
    "    try:\n",
    "        d = time_delta(needed=duration, real=d)\n",
    "    except:\n",
    "        return False\n",
    "    if abs(d) > max_eps:\n",
    "        return False\n",
    "    return True"
   ]
  },
  {
   "cell_type": "markdown",
   "metadata": {},
   "source": [
    "## Парсинг сайтов"
   ]
  },
  {
   "cell_type": "markdown",
   "metadata": {},
   "source": [
    "### ipleer.fm"
   ]
  },
  {
   "cell_type": "markdown",
   "metadata": {},
   "source": [
    "Нахождение информации о длительности музыки на сайте ipleer"
   ]
  },
  {
   "cell_type": "code",
   "execution_count": 8,
   "metadata": {
    "collapsed": true
   },
   "outputs": [],
   "source": [
    "def parse_duration_ipleer(track_html):\n",
    "    d = track_html.find('em')\n",
    "    while True:\n",
    "        try:\n",
    "            d.div.decompose()\n",
    "        except:\n",
    "            break\n",
    "    while True:\n",
    "        try:\n",
    "            d.a.decompose()\n",
    "        except:\n",
    "            break\n",
    "    return d.text.split()[0]"
   ]
  },
  {
   "cell_type": "markdown",
   "metadata": {},
   "source": [
    "Парсинг самого сайта"
   ]
  },
  {
   "cell_type": "code",
   "execution_count": 14,
   "metadata": {
    "collapsed": true
   },
   "outputs": [],
   "source": [
    "def parse_ipleer(artist, title, duration):\n",
    "    SEARCH_URL = 'https://ipleer.fm/search/q/'\n",
    "    SONGS_URL = 'https://ipleer.fm'\n",
    "    \n",
    "    url = format_fname('{}{}+{}/'.format(SEARCH_URL, artist, title), space_replacer='+')\n",
    "    list_page = requests.get(url=url)\n",
    "    \n",
    "    if list_page.status_code != 200:\n",
    "        raise Exception('List_page_not_found')\n",
    "    \n",
    "    list_soup = BeautifulSoup(list_page.text, 'html.parser')\n",
    "    tracks = list_soup.find_all('li',class_='track')\n",
    "    ntracks = []\n",
    "    for track_id,track in enumerate(tracks):\n",
    "        try:\n",
    "            a = track.find('span',class_='cartist').text\n",
    "            t = track.find('span',class_='ctitle').text\n",
    "            d = parse_duration_ipleer(track)\n",
    "            h = track.find('a',class_='playlist-down').get('href')\n",
    "        except:\n",
    "            a,t,d, h = None, None, None, None\n",
    "        if a and t and d and h:\n",
    "            if check_attributes(a,t,d,artist,title,duration):\n",
    "                d = time_delta(d,duration)\n",
    "                ntracks.append({'artist':a, 'title':t, 'time_delta':d, 'href':h, 'track':track})\n",
    "    \n",
    "    if len(ntracks)==0:\n",
    "        raise Exception('No_correct_songs_found',url)\n",
    "    \n",
    "    ntracks = sorted(ntracks, key= lambda x: abs(x['time_delta']))\n",
    "    \n",
    "    dur_eps = 0\n",
    "    for track in ntracks:\n",
    "        download_page = requests.get(SONGS_URL+track['href'])\n",
    "        if download_page.status_code == 200:\n",
    "            dur_eps = track['time_delta']\n",
    "            break\n",
    "    if download_page.status_code != 200:\n",
    "        raise Exception('Download_page_not_found')\n",
    "        \n",
    "    download_soup = BeautifulSoup(download_page.text, 'html.parser')\n",
    "    download_href = download_soup.find('a',class_='onesongblock-download').get('href')\n",
    "    \n",
    "    return download_href, download_page.url, dur_eps"
   ]
  },
  {
   "cell_type": "code",
   "execution_count": 15,
   "metadata": {},
   "outputs": [
    {
     "data": {
      "text/plain": [
       "('http://data.iplayer.info/file/1822708/VFV5dVRTS2RoS2orL1FZNkQ3dENIRG9vTUpJaGZPNThHaXQxNUorMXBzWFhhMW9MUy9NK3Nza1BXNUdoVzlHdENSNmVKSmdlTW1BOU9XRkUvb2NvTjllblh4akkyUlFNOG9lVEoxdXNucGpUT2s5czlTMm9XVm81b0ZpM1R5UTU/ABBA_-_Take_A_Chance_On_Me_(iPlayer.fm).mp3',\n",
       " 'https://ru123.iplayer.info/song/1822708/ABBA_-_Take_A_Chance_On_Me/',\n",
       " 0)"
      ]
     },
     "execution_count": 15,
     "metadata": {},
     "output_type": "execute_result"
    }
   ],
   "source": [
    "parse_ipleer('ABBA','Take a chance on me','4:04')"
   ]
  },
  {
   "cell_type": "markdown",
   "metadata": {},
   "source": [
    "### mp3co.ooo"
   ]
  },
  {
   "cell_type": "code",
   "execution_count": 16,
   "metadata": {
    "collapsed": true
   },
   "outputs": [],
   "source": [
    "def parse_mp3co(artist, title, duration):\n",
    "    SEARCH_URL = 'https://mp3co.ooo/s/'\n",
    "    SONGS_URL = 'https://mp3co.ooo'\n",
    "    \n",
    "    url = format_fname('{}{}%20{}/'.format(SEARCH_URL, artist, title), space_replacer='%20')\n",
    "    list_page = requests.get(url=url)\n",
    "    \n",
    "    if list_page.status_code != 200:\n",
    "        raise Exception('List_page_not_found')\n",
    "    \n",
    "    list_soup = BeautifulSoup(list_page.text, 'html.parser')\n",
    "    tracks = list_soup.find_all('tr')\n",
    "    ntracks = []\n",
    "    for track_id,track in enumerate(tracks):\n",
    "        try:\n",
    "            a,t = map(lambda x: x.text, track.find_all('a', class_='item'))\n",
    "            d = track.find('td', class_='time').text\n",
    "            h = track.find('td', class_='download').a.get('href')\n",
    "        except:\n",
    "            a,t,d, h = None, None, None, None\n",
    "        if a and t and d and h:\n",
    "            if check_attributes(a,t,d,artist,title,duration):\n",
    "                d = time_delta(d,duration)\n",
    "                ntracks.append({'artist':a, 'title':t, 'time_delta':d, 'href':h, 'track':track})\n",
    "    \n",
    "    if len(ntracks)==0:\n",
    "        raise Exception('No_correct_songs_found',url)\n",
    "    \n",
    "    ntracks = sorted(ntracks, key= lambda x: abs(x['time_delta']))\n",
    "    \n",
    "    download_href = ntracks[0]['href']\n",
    "    dur_eps = ntracks[0]['time_delta']\n",
    "    return download_href, url, dur_eps"
   ]
  },
  {
   "cell_type": "code",
   "execution_count": 17,
   "metadata": {},
   "outputs": [
    {
     "data": {
      "text/plain": [
       "('https://cs1.mp3co.ooo/download/73932420/NEtsZ1NSQ2IycGtkRUtON0VoMnBkRmt5SnNIMi96a2hhcFNRY3g1ZlFWQWVKZ1l1cDFGci9TY1RzVEgzTFFWZEJRcHJLK3ZkdytrYkpYTHRkQW1zTWxaVFRmVC9udGFPbDN3SUx1UStDems9/ABBA_v_ispolenii_Julie_Walters_Stellan_Skarsgard_Take_A_Chance_On_Me_(mp3co.ooo).mp3',\n",
       " 'https://mp3co.ooo/s/abba%20take%20a%20chance%20on%20me/',\n",
       " 0)"
      ]
     },
     "execution_count": 17,
     "metadata": {},
     "output_type": "execute_result"
    }
   ],
   "source": [
    "parse_mp3co('abba', 'take a chance on me', '4:02')"
   ]
  },
  {
   "cell_type": "markdown",
   "metadata": {},
   "source": [
    "### patefon.net"
   ]
  },
  {
   "cell_type": "code",
   "execution_count": 18,
   "metadata": {
    "collapsed": true
   },
   "outputs": [],
   "source": [
    "def parse_patefon(artist, title, duration):\n",
    "    SEARCH_URL = 'https://patefon.net/'\n",
    "\n",
    "    url = format_fname('{}{}-{}/'.format(SEARCH_URL, artist, title), space_replacer='-')\n",
    "    list_page = requests.get(url=url)\n",
    "    \n",
    "    if list_page.status_code != 200:\n",
    "        raise Exception('List_page_not_found')\n",
    "    \n",
    "    list_soup = BeautifulSoup(list_page.text, 'html.parser')\n",
    "    tracks = list_soup.find_all('li', class_='item')\n",
    "    ntracks = []\n",
    "    for track_id,track in enumerate(tracks):\n",
    "        try:\n",
    "            a = track.find('span', class_='artist').text\n",
    "            t = track.find('span', class_='track').text\n",
    "            d = track.find('div', class_='duration').text\n",
    "            h = track.find('a', class_='dl').get('href')\n",
    "        except:\n",
    "            a,t,d, h = None, None, None, None\n",
    "        if a and t and d and h:\n",
    "            if check_attributes(a,t,d,artist,title,duration):\n",
    "                d = time_delta(d,duration)\n",
    "                ntracks.append({'artist':a, 'title':t, 'time_delta':d, 'href':h, 'track':track})\n",
    "    \n",
    "    if len(ntracks)==0:\n",
    "        raise Exception('No_correct_songs_found',url)\n",
    "    \n",
    "    ntracks = sorted(ntracks, key= lambda x: abs(x['time_delta']))\n",
    "    \n",
    "    download_href = ntracks[0]['href']\n",
    "    dur_eps = ntracks[0]['time_delta']\n",
    "    return download_href, url, dur_eps"
   ]
  },
  {
   "cell_type": "code",
   "execution_count": 19,
   "metadata": {},
   "outputs": [
    {
     "data": {
      "text/plain": [
       "('http://dl3.patefon.net/aHR0cDovL2YubXAzcG9pc2submV0L21wMy8wMDAvNjQ4LzQzNy82NDg0MzcubXAzP3RpdGxlPWFiYmEtdGFrZS1hLWNoYW5jZS1vbi1tZS5tcDM=',\n",
       " 'https://patefon.net/abba-take-a-chance-on-me/',\n",
       " 2)"
      ]
     },
     "execution_count": 19,
     "metadata": {},
     "output_type": "execute_result"
    }
   ],
   "source": [
    "parse_patefon('abba', 'take a chance on me', '4:02')"
   ]
  },
  {
   "cell_type": "markdown",
   "metadata": {},
   "source": [
    "### xgetmus.ru"
   ]
  },
  {
   "cell_type": "code",
   "execution_count": 20,
   "metadata": {
    "collapsed": true
   },
   "outputs": [],
   "source": [
    "def parse_xgetmus(artist, title, duration):\n",
    "    SEARCH_URL = 'http://xgetmus.ru/s/'\n",
    "\n",
    "    url = format_fname('{}{}+{}/'.format(SEARCH_URL, artist, title), space_replacer='+')\n",
    "    list_page = requests.get(url=url)\n",
    "    \n",
    "    if list_page.status_code != 200:\n",
    "        raise Exception('List_page_not_found')\n",
    "    \n",
    "    list_soup = BeautifulSoup(list_page.text, 'html.parser')\n",
    "    tracks = list_soup.find_all('li', class_='item x-track track')\n",
    "    ntracks = []\n",
    "    for track_id,track in enumerate(tracks):\n",
    "        try:\n",
    "            a = track.find('span', class_='artist').text\n",
    "            t = track.find('span', class_='track').text\n",
    "            d = track.find('div', class_='duration').text\n",
    "            h = track.find('a', class_='dl download').get('href')\n",
    "        except:\n",
    "            a,t,d, h = None, None, None, None\n",
    "        if a and t and d and h:\n",
    "            if check_attributes(a,t,d,artist,title,duration):\n",
    "                d = time_delta(d,duration)\n",
    "                ntracks.append({'artist':a, 'title':t, 'time_delta':d, 'href':h, 'track':track})\n",
    "    \n",
    "    if len(ntracks)==0:\n",
    "        raise Exception('No_correct_songs_found',url)\n",
    "    \n",
    "    ntracks = sorted(ntracks, key= lambda x: abs(x['time_delta']))\n",
    "        \n",
    "    dur_eps = 0\n",
    "    for track in ntracks:\n",
    "        download_page = requests.get(track['href'])\n",
    "        if download_page.status_code == 200:\n",
    "            dur_eps = track['time_delta']\n",
    "            break\n",
    "    if download_page.status_code != 200:\n",
    "        raise Exception('Download_page_not_found')\n",
    "        \n",
    "    download_soup = BeautifulSoup(download_page.text, 'html.parser')\n",
    "    download_href = download_soup.find('a',class_='knopka download').get('href')\n",
    "    return download_href, download_page.url, dur_eps"
   ]
  },
  {
   "cell_type": "code",
   "execution_count": 21,
   "metadata": {},
   "outputs": [
    {
     "data": {
      "text/plain": [
       "('http://xgetmus.ru/download/YFlpmcXkrkyG3eMrHeQ1FtlJdj2hPrIAKelFy43nwrGapL6H5BD46KEeCv6QMTtq6HnXFHolZ9WRkx56l_krBm40kmc7vAYaSIN6-jGuofY/The+Karaoke+Channel+Undercover+Angel+Originally+Performed+by+Alan+O+day+Karaoke+Version(xgetmus.ru).mp3',\n",
       " 'http://xgetmus.ru/song/27614959.433004601-the-karaoke-channel-undercover-angel-originally-performed-by-alan-oday-karaoke-version',\n",
       " -1)"
      ]
     },
     "execution_count": 21,
     "metadata": {},
     "output_type": "execute_result"
    }
   ],
   "source": [
    "parse_xgetmus('Alan O\\'Day', 'Undercover Angel', '3:33')"
   ]
  },
  {
   "cell_type": "markdown",
   "metadata": {},
   "source": [
    "### vkmusic.me"
   ]
  },
  {
   "cell_type": "code",
   "execution_count": 22,
   "metadata": {
    "collapsed": true
   },
   "outputs": [],
   "source": [
    "def parse_vkmus(artist, title, duration):\n",
    "    SEARCH_URL = 'http://vkmusic.me/'\n",
    "    \n",
    "    url = format_fname('{}{}-{}/'.format(SEARCH_URL, artist, title), space_replacer='-')\n",
    "    list_page = requests.get(url=url)\n",
    "    \n",
    "    if list_page.status_code != 200:\n",
    "        raise Exception('List_page_not_found')\n",
    "    \n",
    "    list_soup = BeautifulSoup(list_page.text, 'html.parser')\n",
    "    tracks = list_soup.find_all('li', class_='item')\n",
    "    ntracks = []\n",
    "    for track_id,track in enumerate(tracks):\n",
    "        try:\n",
    "            a = track.find('span', class_='artist').text\n",
    "            t = track.find('span', class_='track').text\n",
    "            d = track.find('div', class_='duration').text\n",
    "            h = track.find('a', class_='dl').get('href')\n",
    "        except:\n",
    "            a,t,d, h = None, None, None, None\n",
    "        if a and t and d and h:\n",
    "            if check_attributes(a,t,d,artist,title,duration):\n",
    "                d = time_delta(d,duration)\n",
    "                ntracks.append({'artist':a, 'title':t, 'time_delta':d, 'href':h, 'track':track})\n",
    "    \n",
    "    if len(ntracks)==0:\n",
    "        raise Exception('No_correct_songs_found',url)\n",
    "    \n",
    "    ntracks = sorted(ntracks, key= lambda x: abs(x['time_delta']))\n",
    "        \n",
    "    download_href = ntracks[0]['href']\n",
    "    dur_eps = ntracks[0]['time_delta']\n",
    "    return download_href, url, dur_eps"
   ]
  },
  {
   "cell_type": "code",
   "execution_count": 23,
   "metadata": {},
   "outputs": [
    {
     "data": {
      "text/plain": [
       "('http://vkdlmsk2.vkmusic.me/aHR0cHM6Ly9wc3Y0LnVzZXJhcGkuY29tL2M2MTU4L3U1ODAzNjkxNi9hdWRpb3MvZDMzMzEwMTEyOTNiLm1wMz9leHRyYT12d2sxVk5wZ2JNekhhclpGeEk4M2U5RHhKR3E1YWhzUWR0UUc2YzNXcjFVU1NTYU8xNnhRUWpBNUZJU1I4RmVKRmx0QXdxcjVpaVdSdGZRYnZoWThIYjEtcE5Ra05VbmFSMHp5WTg5UFFVYVh3LWRQQ015SklHQ0owVmJGMHdDWWNRNWE4NDNXbHF4X2o4RSZ0aXRsZT1BbGljZStDb29wZXIrLStTY2hvb2xzK091dCslMjh6dnVrb2ZmLnJ1JTI5JmlkPTU4MDM2OTE2XzE2NTI3NDM3NQ==',\n",
       " 'http://vkmusic.me/alice-cooper-schools-out/',\n",
       " 0)"
      ]
     },
     "execution_count": 23,
     "metadata": {},
     "output_type": "execute_result"
    }
   ],
   "source": [
    "parse_vkmus('alice cooper', 'school\\'s out', '4:23')"
   ]
  },
  {
   "cell_type": "markdown",
   "metadata": {},
   "source": [
    "# Парсинг сайтов"
   ]
  },
  {
   "cell_type": "markdown",
   "metadata": {},
   "source": [
    "Составляем список песен, которые надо загрузить"
   ]
  },
  {
   "cell_type": "code",
   "execution_count": 24,
   "metadata": {
    "collapsed": true
   },
   "outputs": [],
   "source": [
    "bb_ds = pd.DataFrame(columns=['title', 'artist', 'number', 'duration', 't_eps', 'href', 'status'])"
   ]
  },
  {
   "cell_type": "markdown",
   "metadata": {},
   "source": [
    "Собираем информацию о песнях из распарсенных файлов"
   ]
  },
  {
   "cell_type": "code",
   "execution_count": 25,
   "metadata": {},
   "outputs": [
    {
     "data": {
      "application/vnd.jupyter.widget-view+json": {
       "model_id": "14cd35bd02c94a839ab71a82de895588",
       "version_major": 2,
       "version_minor": 0
      },
      "text/plain": [
       "A Jupyter Widget"
      ]
     },
     "metadata": {},
     "output_type": "display_data"
    },
    {
     "name": "stdout",
     "output_type": "stream",
     "text": [
      "\n"
     ]
    }
   ],
   "source": [
    "with open(BASE_DIR+'/dsets/all_billboard_songs.txt') as file:\n",
    "    lines = ''.join(file.readlines())\n",
    "    \n",
    "    artists = re.findall(r'# artist:.+\\n', lines)    \n",
    "    titles = re.findall(r'# title:.+\\n', lines)\n",
    "    durations = re.findall(r'\\d+\\.\\d+\\send', lines)\n",
    "    nums = sorted(os.listdir(BASE_DIR+'/parsed/billboard'))\n",
    "    \n",
    "    for a,t,d,n in tqdm_notebook(zip(artists,titles, durations, nums), desc='Adding rows', total=len(artists)):\n",
    "        a = format_fname(a.split(':')[1].strip(), space_replacer='_')\n",
    "        t = format_fname(t.split(':')[1].strip(), space_replacer='_')\n",
    "        d = secs_to_string(d.split('\\t')[0])\n",
    "        n = int(n)\n",
    "        bb_ds = bb_ds.append({'artist':a, 'title':t, 'duration':d, 'number':n}, ignore_index=True)"
   ]
  },
  {
   "cell_type": "markdown",
   "metadata": {},
   "source": [
    "Проверяем,какие песни уже загружены"
   ]
  },
  {
   "cell_type": "code",
   "execution_count": 26,
   "metadata": {},
   "outputs": [
    {
     "data": {
      "application/vnd.jupyter.widget-view+json": {
       "model_id": "2bb8cd8e1b8f43e5ba3e6683c82db80a",
       "version_major": 2,
       "version_minor": 0
      },
      "text/plain": [
       "A Jupyter Widget"
      ]
     },
     "metadata": {},
     "output_type": "display_data"
    },
    {
     "name": "stdout",
     "output_type": "stream",
     "text": [
      "\n"
     ]
    }
   ],
   "source": [
    "for row in tqdm_notebook(bb_ds.iterrows(), total=len(bb_ds), desc='Walking rows'):\n",
    "    ind, row = row\n",
    "    fname = BASE_DIR+'/audio/billboard/'\n",
    "    fname += '{}_{}-{}.mp3'.format(row['number'], row['artist'], row['title'], space_replacer='_')\n",
    "\n",
    "    if not os.path.isfile(fname):\n",
    "        bb_ds.at[ind, 'status'] = 'Not loaded'\n",
    "        continue\n",
    "    \n",
    "    try:\n",
    "        audio = AudioSegment.from_mp3(fname)\n",
    "        dur_real = round(audio.duration_seconds)\n",
    "        del audio\n",
    "        \n",
    "        eps = string_to_secs(row['duration'])-dur_real\n",
    "        if abs(eps)>max_eps:\n",
    "            bb_ds.at[ind, 'status'] = 'Big time_delta'\n",
    "        else:\n",
    "            bb_ds.at[ind, 'status'] = 'Downloaded'\n",
    "        bb_ds.at[ind, 't_eps'] = eps\n",
    "    except Exception as e:\n",
    "        #print(e)\n",
    "        bb_ds.at[ind, 'status'] = 'Incorrect load'"
   ]
  },
  {
   "cell_type": "markdown",
   "metadata": {},
   "source": [
    "Сохраняем полученную таблицу"
   ]
  },
  {
   "cell_type": "code",
   "execution_count": 27,
   "metadata": {
    "collapsed": true
   },
   "outputs": [],
   "source": [
    "songs_bb_ds_fname = BASE_DIR+'/dsets/billboard_songs_ds.csv'"
   ]
  },
  {
   "cell_type": "code",
   "execution_count": 159,
   "metadata": {
    "collapsed": true
   },
   "outputs": [],
   "source": [
    "bb_ds.to_csv(songs_bb_ds_fname)"
   ]
  },
  {
   "cell_type": "markdown",
   "metadata": {},
   "source": [
    "Загрузка БД песен"
   ]
  },
  {
   "cell_type": "code",
   "execution_count": 160,
   "metadata": {},
   "outputs": [
    {
     "data": {
      "text/html": [
       "<div>\n",
       "<style>\n",
       "    .dataframe thead tr:only-child th {\n",
       "        text-align: right;\n",
       "    }\n",
       "\n",
       "    .dataframe thead th {\n",
       "        text-align: left;\n",
       "    }\n",
       "\n",
       "    .dataframe tbody tr th {\n",
       "        vertical-align: top;\n",
       "    }\n",
       "</style>\n",
       "<table border=\"1\" class=\"dataframe\">\n",
       "  <thead>\n",
       "    <tr style=\"text-align: right;\">\n",
       "      <th></th>\n",
       "      <th>title</th>\n",
       "      <th>artist</th>\n",
       "      <th>number</th>\n",
       "      <th>duration</th>\n",
       "      <th>t_eps</th>\n",
       "      <th>href</th>\n",
       "      <th>status</th>\n",
       "    </tr>\n",
       "  </thead>\n",
       "  <tbody>\n",
       "    <tr>\n",
       "      <th>0</th>\n",
       "      <td>i_dont_mind</td>\n",
       "      <td>james_brown</td>\n",
       "      <td>3</td>\n",
       "      <td>02:31</td>\n",
       "      <td>1.0</td>\n",
       "      <td>NaN</td>\n",
       "      <td>Downloaded</td>\n",
       "    </tr>\n",
       "    <tr>\n",
       "      <th>1</th>\n",
       "      <td>youve_got_a_friend</td>\n",
       "      <td>roberta_flack_and_donny_hathaway</td>\n",
       "      <td>4</td>\n",
       "      <td>03:27</td>\n",
       "      <td>0.0</td>\n",
       "      <td>NaN</td>\n",
       "      <td>Downloaded</td>\n",
       "    </tr>\n",
       "    <tr>\n",
       "      <th>2</th>\n",
       "      <td>the_rose</td>\n",
       "      <td>bette_midler</td>\n",
       "      <td>6</td>\n",
       "      <td>03:41</td>\n",
       "      <td>-1.0</td>\n",
       "      <td>NaN</td>\n",
       "      <td>Downloaded</td>\n",
       "    </tr>\n",
       "    <tr>\n",
       "      <th>3</th>\n",
       "      <td>an_innocent_man</td>\n",
       "      <td>billy_joel</td>\n",
       "      <td>10</td>\n",
       "      <td>05:18</td>\n",
       "      <td>0.0</td>\n",
       "      <td>NaN</td>\n",
       "      <td>Downloaded</td>\n",
       "    </tr>\n",
       "    <tr>\n",
       "      <th>4</th>\n",
       "      <td>lookin_for_love</td>\n",
       "      <td>johnny_lee</td>\n",
       "      <td>12</td>\n",
       "      <td>03:32</td>\n",
       "      <td>0.0</td>\n",
       "      <td>NaN</td>\n",
       "      <td>Downloaded</td>\n",
       "    </tr>\n",
       "  </tbody>\n",
       "</table>\n",
       "</div>"
      ],
      "text/plain": [
       "                title                            artist  number duration  \\\n",
       "0         i_dont_mind                       james_brown       3    02:31   \n",
       "1  youve_got_a_friend  roberta_flack_and_donny_hathaway       4    03:27   \n",
       "2            the_rose                      bette_midler       6    03:41   \n",
       "3     an_innocent_man                        billy_joel      10    05:18   \n",
       "4     lookin_for_love                        johnny_lee      12    03:32   \n",
       "\n",
       "   t_eps  href      status  \n",
       "0    1.0   NaN  Downloaded  \n",
       "1    0.0   NaN  Downloaded  \n",
       "2   -1.0   NaN  Downloaded  \n",
       "3    0.0   NaN  Downloaded  \n",
       "4    0.0   NaN  Downloaded  "
      ]
     },
     "execution_count": 160,
     "metadata": {},
     "output_type": "execute_result"
    }
   ],
   "source": [
    "bb_ds = pd.read_csv(songs_bb_ds_fname, index_col=0)\n",
    "bb_ds.head()"
   ]
  },
  {
   "cell_type": "code",
   "execution_count": 163,
   "metadata": {},
   "outputs": [
    {
     "name": "stdout",
     "output_type": "stream",
     "text": [
      "Загружено:\t814\t91.46%\n",
      "Не загружено:\t76\t8.54%\n"
     ]
    }
   ],
   "source": [
    "dled_num = len(bb_ds[bb_ds['status']=='Downloaded'])\n",
    "print('Загружено:\\t{}\\t{:.2%}'.format(dled_num, dled_num/len(bb_ds)))\n",
    "print('Не загружено:\\t{}\\t{:.2%}'.format(len(bb_ds)-dled_num, 1-dled_num/len(bb_ds)))"
   ]
  },
  {
   "cell_type": "markdown",
   "metadata": {},
   "source": [
    "Считаем, что песни с погрешностью в длительности больше max_eps, не загружены"
   ]
  },
  {
   "cell_type": "code",
   "execution_count": 164,
   "metadata": {
    "collapsed": true
   },
   "outputs": [],
   "source": [
    "bb_ds.loc[bb_ds[bb_ds['t_eps']>max_eps].index,'status'] = 'Big time_delta'"
   ]
  },
  {
   "cell_type": "markdown",
   "metadata": {},
   "source": [
    "Вынесение всех незагруженных песен в отдельный датасет"
   ]
  },
  {
   "cell_type": "code",
   "execution_count": 165,
   "metadata": {},
   "outputs": [
    {
     "data": {
      "text/plain": [
       "(76, 7)"
      ]
     },
     "execution_count": 165,
     "metadata": {},
     "output_type": "execute_result"
    }
   ],
   "source": [
    "not_load = bb_ds[bb_ds['status']!='Downloaded']\n",
    "not_load.shape"
   ]
  },
  {
   "cell_type": "markdown",
   "metadata": {},
   "source": [
    "Парсинг песен из всех записанных источников"
   ]
  },
  {
   "cell_type": "code",
   "execution_count": 167,
   "metadata": {},
   "outputs": [
    {
     "data": {
      "application/vnd.jupyter.widget-view+json": {
       "model_id": "fe3cee43d3214e52b6fc076b125094b5",
       "version_major": 2,
       "version_minor": 0
      },
      "text/plain": [
       "A Jupyter Widget"
      ]
     },
     "metadata": {},
     "output_type": "display_data"
    },
    {
     "data": {
      "application/vnd.jupyter.widget-view+json": {
       "model_id": "89b84970a0224f8f843e0a397fd00c8f",
       "version_major": 2,
       "version_minor": 0
      },
      "text/plain": [
       "A Jupyter Widget"
      ]
     },
     "metadata": {},
     "output_type": "display_data"
    },
    {
     "data": {
      "application/vnd.jupyter.widget-view+json": {
       "model_id": "592a1f05dbe84261a64be782f364c1b7",
       "version_major": 2,
       "version_minor": 0
      },
      "text/plain": [
       "A Jupyter Widget"
      ]
     },
     "metadata": {},
     "output_type": "display_data"
    },
    {
     "data": {
      "application/vnd.jupyter.widget-view+json": {
       "model_id": "e455964f0f3441379738669cc597273c",
       "version_major": 2,
       "version_minor": 0
      },
      "text/plain": [
       "A Jupyter Widget"
      ]
     },
     "metadata": {},
     "output_type": "display_data"
    },
    {
     "data": {
      "application/vnd.jupyter.widget-view+json": {
       "model_id": "4645f0c2cd8c4fc78d1ed35aa8b4586b",
       "version_major": 2,
       "version_minor": 0
      },
      "text/plain": [
       "A Jupyter Widget"
      ]
     },
     "metadata": {},
     "output_type": "display_data"
    },
    {
     "data": {
      "application/vnd.jupyter.widget-view+json": {
       "model_id": "cd9fb08b73424556913dfebf3cbbb294",
       "version_major": 2,
       "version_minor": 0
      },
      "text/plain": [
       "A Jupyter Widget"
      ]
     },
     "metadata": {},
     "output_type": "display_data"
    },
    {
     "data": {
      "application/vnd.jupyter.widget-view+json": {
       "model_id": "032cb82c49ed4eb8b6b08f675d5f2a79",
       "version_major": 2,
       "version_minor": 0
      },
      "text/plain": [
       "A Jupyter Widget"
      ]
     },
     "metadata": {},
     "output_type": "display_data"
    },
    {
     "data": {
      "application/vnd.jupyter.widget-view+json": {
       "model_id": "e989f228f9d1466ba5730a914d72acb8",
       "version_major": 2,
       "version_minor": 0
      },
      "text/plain": [
       "A Jupyter Widget"
      ]
     },
     "metadata": {},
     "output_type": "display_data"
    },
    {
     "data": {
      "application/vnd.jupyter.widget-view+json": {
       "model_id": "00f7a108bb84419a92c06165a60e6e94",
       "version_major": 2,
       "version_minor": 0
      },
      "text/plain": [
       "A Jupyter Widget"
      ]
     },
     "metadata": {},
     "output_type": "display_data"
    },
    {
     "name": "stdout",
     "output_type": "stream",
     "text": [
      "\n",
      "CPU times: user 1min 28s, sys: 15.3 s, total: 1min 43s\n",
      "Wall time: 16min 15s\n"
     ]
    }
   ],
   "source": [
    "%%time\n",
    "\n",
    "not_load = bb_ds[bb_ds['status']!='Downloaded']\n",
    "for row in tqdm_notebook(not_load.iterrows(), total=len(not_load), desc='Walking rows'):\n",
    "    i,row = row\n",
    "    # Обновляем файл датасета\n",
    "    if i%5==0: bb_ds.to_csv(songs_bb_ds_fname)\n",
    "    \n",
    "    download_data = []\n",
    "    exceptions = []\n",
    "    # Загружаем ссылки на песни со всех сайтов\n",
    "    for parser in [parse_ipleer, parse_mp3co, parse_patefon, parse_xgetmus, parse_vkmus]:\n",
    "        try:\n",
    "            download_data.append(parser(artist=row.artist, title=row.title, duration=row.duration))\n",
    "        except Exception as e:\n",
    "            exceptions.append(e)\n",
    "    # Сортируем песни по совпадению длительностей\n",
    "    if len(download_data) > 0:\n",
    "        download_data = sorted(download_data, key=lambda x: abs(x[2]))\n",
    "        download_href, page_url, dur_eps = download_data[0]\n",
    "    else:\n",
    "        bb_ds.at[i,'status'] = exceptions\n",
    "        continue\n",
    "    # Загружаем файл\n",
    "    try:\n",
    "        is_loaded_correct = False\n",
    "        pbar = tqdm_notebook(desc='Trying to load', total=len(download_data), leave=False)\n",
    "        for idx, d_data in enumerate(download_data):\n",
    "            download_href, page_url, dur_eps = d_data\n",
    "            for ind_trying in range(2):\n",
    "                download_file(artist=row.artist, title=row.title, number=row.number, href=download_href,\\\n",
    "                             ds_name = 'billboard')\n",
    "                try:\n",
    "                    is_loaded_correct = check_correct_dl(artist=row.artist, title=row.title,\\\n",
    "                                                     number=row.number, duration=row.duration, eps=dur_eps,\\\n",
    "                                                        ds_name='billboard')\n",
    "                except:\n",
    "                    is_loaded_correct = False\n",
    "                if is_loaded_correct:\n",
    "                    break\n",
    "            if is_loaded_correct:\n",
    "                pbar.update(len(download_data)-idx)\n",
    "                pbar.close()\n",
    "                break\n",
    "            pbar.update(1)\n",
    "        pbar.close()\n",
    "        bb_ds.at[i,'status']='Downloaded'\n",
    "        bb_ds.at[i,'href']=page_url\n",
    "        bb_ds.at[i,'t_eps']=dur_eps\n",
    "    except Exception as e:\n",
    "        bb_ds.at[i, 'status'] = e.args[0]"
   ]
  },
  {
   "cell_type": "markdown",
   "metadata": {},
   "source": [
    "Сохраняем данные в файл"
   ]
  },
  {
   "cell_type": "code",
   "execution_count": 168,
   "metadata": {
    "collapsed": true
   },
   "outputs": [],
   "source": [
    "bb_ds.to_csv(songs_bb_ds_fname)"
   ]
  },
  {
   "cell_type": "code",
   "execution_count": 175,
   "metadata": {},
   "outputs": [
    {
     "name": "stdout",
     "output_type": "stream",
     "text": [
      "Загружено:\t822\t92.36%\n",
      "Не загружено:\t68\t7.64%\n"
     ]
    }
   ],
   "source": [
    "dled_num = len(bb_ds[bb_ds['status']=='Downloaded'])\n",
    "print('Загружено:\\t{}\\t{:.2%}'.format(dled_num, dled_num/len(bb_ds)))\n",
    "print('Не загружено:\\t{}\\t{:.2%}'.format(len(bb_ds)-dled_num, 1-dled_num/len(bb_ds)))"
   ]
  },
  {
   "cell_type": "markdown",
   "metadata": {},
   "source": [
    "# Парсим песни из 'не billboard' датасета"
   ]
  },
  {
   "cell_type": "markdown",
   "metadata": {},
   "source": [
    "Создаём датасет"
   ]
  },
  {
   "cell_type": "code",
   "execution_count": 124,
   "metadata": {
    "collapsed": true
   },
   "outputs": [],
   "source": [
    "cl_ds = pd.DataFrame(columns=['title', 'artist', 'number', 'duration', 't_eps', 'href', 'status'])"
   ]
  },
  {
   "cell_type": "markdown",
   "metadata": {},
   "source": [
    "Добавляем все песни TheBeatles"
   ]
  },
  {
   "cell_type": "code",
   "execution_count": 125,
   "metadata": {
    "collapsed": true
   },
   "outputs": [],
   "source": [
    "for album in os.listdir(BASE_DIR+'/parsed/chordlab/The_Beatles'):\n",
    "    alb_num = album.split('_')[0].replace('CD','')\n",
    "    dname = BASE_DIR+'/parsed/chordlab/The_Beatles/'+album+'/'\n",
    "    for fname in os.listdir(dname):\n",
    "        with open(dname+fname) as f:\n",
    "            duration = secs_to_string(f.readlines()[-1].split(' ')[1])            \n",
    "        #print(fname)\n",
    "        song_num = fname[:2]\n",
    "        title = fname[5:-4]\n",
    "        cl_ds = cl_ds.append({'title':title, 'artist':'the_beatles',\n",
    "                              'number':int(alb_num+song_num), 'duration':duration}, ignore_index=True)"
   ]
  },
  {
   "cell_type": "markdown",
   "metadata": {},
   "source": [
    "Добавляем все песни Queen"
   ]
  },
  {
   "cell_type": "code",
   "execution_count": 127,
   "metadata": {
    "collapsed": true
   },
   "outputs": [],
   "source": [
    "for dname in [BASE_DIR+'/parsed/chordlab/Queen_Greatest_Hits_1/',\n",
    "              BASE_DIR+'/parsed/chordlab/Queen_Greatest_Hits_2/']:\n",
    "    for fname in os.listdir(dname):\n",
    "        with open(dname+fname) as f:\n",
    "            duration = secs_to_string(f.readlines()[-1].split('\\t')[1])\n",
    "        song_num = dname[-2]+fname[:2]\n",
    "        title = fname[3:-4]\n",
    "        cl_ds = cl_ds.append({'title':title, 'artist':'queen',\n",
    "                                  'number':int(song_num), 'duration':duration}, ignore_index=True)"
   ]
  },
  {
   "cell_type": "markdown",
   "metadata": {},
   "source": [
    "Добавляем все песни Carol King"
   ]
  },
  {
   "cell_type": "code",
   "execution_count": 128,
   "metadata": {
    "collapsed": true
   },
   "outputs": [],
   "source": [
    "dname = BASE_DIR+'/parsed/chordlab/Carol_King/'\n",
    "for fname in os.listdir(dname):\n",
    "    with open(dname+fname) as f:\n",
    "        duration = secs_to_string(f.readlines()[-1].split('\\t')[1])\n",
    "    song_num = fname[:2]\n",
    "    title = fname[3:-4]\n",
    "    cl_ds = cl_ds.append({'title':title, 'artist':'carol_king',\n",
    "                          'number':int(song_num), 'duration':duration}, ignore_index=True)"
   ]
  },
  {
   "cell_type": "markdown",
   "metadata": {},
   "source": [
    "Проверяем,какие песни уже загружены"
   ]
  },
  {
   "cell_type": "code",
   "execution_count": 130,
   "metadata": {},
   "outputs": [
    {
     "data": {
      "application/vnd.jupyter.widget-view+json": {
       "model_id": "cda5aa373f4e47f4989f268a61d92ec0",
       "version_major": 2,
       "version_minor": 0
      },
      "text/plain": [
       "A Jupyter Widget"
      ]
     },
     "metadata": {},
     "output_type": "display_data"
    }
   ],
   "source": [
    "for row in tqdm_notebook(cl_ds.iterrows(), total=len(cl_ds), desc='Walking rows'):\n",
    "    ind, row = row\n",
    "    fname = BASE_DIR+'/audio/chordlab/'\n",
    "    fname += format_fname('{}_{}-{}.mp3'.format(row['number'], row['artist'], row['title']))\n",
    "\n",
    "    if not os.path.isfile(fname):\n",
    "        cl_ds.at[ind, 'status'] = 'Not loaded'\n",
    "        continue\n",
    "    \n",
    "    try:\n",
    "        audio = AudioSegment.from_mp3(fname)\n",
    "        dur_real = round(audio.duration_seconds)\n",
    "        del audio\n",
    "        \n",
    "        eps = string_to_secs(row['duration'])-dur_real\n",
    "        if abs(eps)>max_eps:\n",
    "            cl_ds.at[ind, 'status'] = 'Big time_delta'\n",
    "        else:\n",
    "            cl_ds.at[ind, 'status'] = 'Downloaded'\n",
    "        cl_ds.at[ind, 't_eps'] = eps\n",
    "    except Exception as e:\n",
    "        #print(e)\n",
    "        cl_ds.at[ind, 'status'] = 'Incorrect load'"
   ]
  },
  {
   "cell_type": "code",
   "execution_count": 131,
   "metadata": {},
   "outputs": [
    {
     "name": "stdout",
     "output_type": "stream",
     "text": [
      "(200, 7)\n",
      "(7, 7)\n"
     ]
    }
   ],
   "source": [
    "print(cl_ds[cl_ds['status']=='Downloaded'].shape)\n",
    "print(cl_ds[cl_ds['status']!='Downloaded'].shape)"
   ]
  },
  {
   "cell_type": "markdown",
   "metadata": {},
   "source": [
    "Сохраняем полученную таблицу"
   ]
  },
  {
   "cell_type": "code",
   "execution_count": 134,
   "metadata": {},
   "outputs": [
    {
     "data": {
      "text/html": [
       "<div>\n",
       "<style>\n",
       "    .dataframe thead tr:only-child th {\n",
       "        text-align: right;\n",
       "    }\n",
       "\n",
       "    .dataframe thead th {\n",
       "        text-align: left;\n",
       "    }\n",
       "\n",
       "    .dataframe tbody tr th {\n",
       "        vertical-align: top;\n",
       "    }\n",
       "</style>\n",
       "<table border=\"1\" class=\"dataframe\">\n",
       "  <thead>\n",
       "    <tr style=\"text-align: right;\">\n",
       "      <th></th>\n",
       "      <th>title</th>\n",
       "      <th>artist</th>\n",
       "      <th>number</th>\n",
       "      <th>duration</th>\n",
       "      <th>t_eps</th>\n",
       "      <th>href</th>\n",
       "      <th>status</th>\n",
       "    </tr>\n",
       "  </thead>\n",
       "  <tbody>\n",
       "    <tr>\n",
       "      <th>47</th>\n",
       "      <td>ob-la-di_ob-la-da</td>\n",
       "      <td>the_beatles</td>\n",
       "      <td>10104</td>\n",
       "      <td>03:09</td>\n",
       "      <td>NaN</td>\n",
       "      <td>NaN</td>\n",
       "      <td>Not loaded</td>\n",
       "    </tr>\n",
       "    <tr>\n",
       "      <th>51</th>\n",
       "      <td>im_so_tired</td>\n",
       "      <td>the_beatles</td>\n",
       "      <td>10110</td>\n",
       "      <td>02:03</td>\n",
       "      <td>NaN</td>\n",
       "      <td>NaN</td>\n",
       "      <td>Incorrect load</td>\n",
       "    </tr>\n",
       "    <tr>\n",
       "      <th>71</th>\n",
       "      <td>ill_be_back</td>\n",
       "      <td>the_beatles</td>\n",
       "      <td>313</td>\n",
       "      <td>02:20</td>\n",
       "      <td>NaN</td>\n",
       "      <td>NaN</td>\n",
       "      <td>Incorrect load</td>\n",
       "    </tr>\n",
       "    <tr>\n",
       "      <th>86</th>\n",
       "      <td>im_looking_through_you</td>\n",
       "      <td>the_beatles</td>\n",
       "      <td>610</td>\n",
       "      <td>02:28</td>\n",
       "      <td>NaN</td>\n",
       "      <td>NaN</td>\n",
       "      <td>Incorrect load</td>\n",
       "    </tr>\n",
       "    <tr>\n",
       "      <th>100</th>\n",
       "      <td>kansas_city-_hey_hey_hey_hey</td>\n",
       "      <td>the_beatles</td>\n",
       "      <td>407</td>\n",
       "      <td>02:33</td>\n",
       "      <td>NaN</td>\n",
       "      <td>NaN</td>\n",
       "      <td>Not loaded</td>\n",
       "    </tr>\n",
       "    <tr>\n",
       "      <th>128</th>\n",
       "      <td>when_im_sixty-four</td>\n",
       "      <td>the_beatles</td>\n",
       "      <td>809</td>\n",
       "      <td>02:38</td>\n",
       "      <td>NaN</td>\n",
       "      <td>NaN</td>\n",
       "      <td>Not loaded</td>\n",
       "    </tr>\n",
       "    <tr>\n",
       "      <th>136</th>\n",
       "      <td>theres_a_place</td>\n",
       "      <td>the_beatles</td>\n",
       "      <td>113</td>\n",
       "      <td>01:53</td>\n",
       "      <td>NaN</td>\n",
       "      <td>NaN</td>\n",
       "      <td>Incorrect load</td>\n",
       "    </tr>\n",
       "  </tbody>\n",
       "</table>\n",
       "</div>"
      ],
      "text/plain": [
       "                            title       artist number duration t_eps href  \\\n",
       "47              ob-la-di_ob-la-da  the_beatles  10104    03:09   NaN  NaN   \n",
       "51                    im_so_tired  the_beatles  10110    02:03   NaN  NaN   \n",
       "71                    ill_be_back  the_beatles    313    02:20   NaN  NaN   \n",
       "86         im_looking_through_you  the_beatles    610    02:28   NaN  NaN   \n",
       "100  kansas_city-_hey_hey_hey_hey  the_beatles    407    02:33   NaN  NaN   \n",
       "128            when_im_sixty-four  the_beatles    809    02:38   NaN  NaN   \n",
       "136                theres_a_place  the_beatles    113    01:53   NaN  NaN   \n",
       "\n",
       "             status  \n",
       "47       Not loaded  \n",
       "51   Incorrect load  \n",
       "71   Incorrect load  \n",
       "86   Incorrect load  \n",
       "100      Not loaded  \n",
       "128      Not loaded  \n",
       "136  Incorrect load  "
      ]
     },
     "execution_count": 134,
     "metadata": {},
     "output_type": "execute_result"
    }
   ],
   "source": [
    "cl_ds[cl_ds['status']!='Downloaded']"
   ]
  },
  {
   "cell_type": "code",
   "execution_count": 135,
   "metadata": {
    "collapsed": true
   },
   "outputs": [],
   "source": [
    "songs_cl_ds_fname = BASE_DIR+'/dsets/chordlab_songs_ds.csv'"
   ]
  },
  {
   "cell_type": "code",
   "execution_count": 136,
   "metadata": {
    "collapsed": true
   },
   "outputs": [],
   "source": [
    "cl_ds.to_csv(songs_cl_ds_fname)"
   ]
  },
  {
   "cell_type": "markdown",
   "metadata": {},
   "source": [
    "Загрузка БД песен"
   ]
  },
  {
   "cell_type": "code",
   "execution_count": 137,
   "metadata": {},
   "outputs": [
    {
     "data": {
      "text/html": [
       "<div>\n",
       "<style>\n",
       "    .dataframe thead tr:only-child th {\n",
       "        text-align: right;\n",
       "    }\n",
       "\n",
       "    .dataframe thead th {\n",
       "        text-align: left;\n",
       "    }\n",
       "\n",
       "    .dataframe tbody tr th {\n",
       "        vertical-align: top;\n",
       "    }\n",
       "</style>\n",
       "<table border=\"1\" class=\"dataframe\">\n",
       "  <thead>\n",
       "    <tr style=\"text-align: right;\">\n",
       "      <th></th>\n",
       "      <th>title</th>\n",
       "      <th>artist</th>\n",
       "      <th>number</th>\n",
       "      <th>duration</th>\n",
       "      <th>t_eps</th>\n",
       "      <th>href</th>\n",
       "      <th>status</th>\n",
       "    </tr>\n",
       "  </thead>\n",
       "  <tbody>\n",
       "    <tr>\n",
       "      <th>0</th>\n",
       "      <td>your_mother_should_know</td>\n",
       "      <td>the_beatles</td>\n",
       "      <td>905</td>\n",
       "      <td>02:30</td>\n",
       "      <td>0.0</td>\n",
       "      <td>NaN</td>\n",
       "      <td>Downloaded</td>\n",
       "    </tr>\n",
       "    <tr>\n",
       "      <th>1</th>\n",
       "      <td>baby_youre_a_rich_man</td>\n",
       "      <td>the_beatles</td>\n",
       "      <td>910</td>\n",
       "      <td>03:04</td>\n",
       "      <td>0.0</td>\n",
       "      <td>NaN</td>\n",
       "      <td>Downloaded</td>\n",
       "    </tr>\n",
       "    <tr>\n",
       "      <th>2</th>\n",
       "      <td>flying</td>\n",
       "      <td>the_beatles</td>\n",
       "      <td>903</td>\n",
       "      <td>02:17</td>\n",
       "      <td>0.0</td>\n",
       "      <td>NaN</td>\n",
       "      <td>Downloaded</td>\n",
       "    </tr>\n",
       "    <tr>\n",
       "      <th>3</th>\n",
       "      <td>hello_goodbye</td>\n",
       "      <td>the_beatles</td>\n",
       "      <td>907</td>\n",
       "      <td>03:31</td>\n",
       "      <td>0.0</td>\n",
       "      <td>NaN</td>\n",
       "      <td>Downloaded</td>\n",
       "    </tr>\n",
       "    <tr>\n",
       "      <th>4</th>\n",
       "      <td>i_am_the_walrus</td>\n",
       "      <td>the_beatles</td>\n",
       "      <td>906</td>\n",
       "      <td>04:37</td>\n",
       "      <td>0.0</td>\n",
       "      <td>NaN</td>\n",
       "      <td>Downloaded</td>\n",
       "    </tr>\n",
       "  </tbody>\n",
       "</table>\n",
       "</div>"
      ],
      "text/plain": [
       "                     title       artist  number duration  t_eps  href  \\\n",
       "0  your_mother_should_know  the_beatles     905    02:30    0.0   NaN   \n",
       "1    baby_youre_a_rich_man  the_beatles     910    03:04    0.0   NaN   \n",
       "2                   flying  the_beatles     903    02:17    0.0   NaN   \n",
       "3            hello_goodbye  the_beatles     907    03:31    0.0   NaN   \n",
       "4          i_am_the_walrus  the_beatles     906    04:37    0.0   NaN   \n",
       "\n",
       "       status  \n",
       "0  Downloaded  \n",
       "1  Downloaded  \n",
       "2  Downloaded  \n",
       "3  Downloaded  \n",
       "4  Downloaded  "
      ]
     },
     "execution_count": 137,
     "metadata": {},
     "output_type": "execute_result"
    }
   ],
   "source": [
    "cl_ds = pd.read_csv(songs_cl_ds_fname, index_col=0)\n",
    "cl_ds.head()"
   ]
  },
  {
   "cell_type": "code",
   "execution_count": 138,
   "metadata": {},
   "outputs": [
    {
     "name": "stdout",
     "output_type": "stream",
     "text": [
      "Загружено:\t200\t96.62%\n",
      "Не загружено:\t7\t3.38%\n"
     ]
    }
   ],
   "source": [
    "dled_num = len(cl_ds[cl_ds['status']=='Downloaded'])\n",
    "print('Загружено:\\t{}\\t{:.2%}'.format(dled_num, dled_num/len(cl_ds)))\n",
    "print('Не загружено:\\t{}\\t{:.2%}'.format(len(cl_ds)-dled_num, 1-dled_num/len(cl_ds)))"
   ]
  },
  {
   "cell_type": "markdown",
   "metadata": {},
   "source": [
    "Считаем, что песни с погрешностью в длительности больше max_eps, не загружены"
   ]
  },
  {
   "cell_type": "code",
   "execution_count": 139,
   "metadata": {
    "collapsed": true
   },
   "outputs": [],
   "source": [
    "cl_ds.loc[cl_ds[cl_ds['t_eps']>max_eps].index,'status'] = 'Big time_delta'"
   ]
  },
  {
   "cell_type": "markdown",
   "metadata": {},
   "source": [
    "Вынесение всех незагруженных песен в отдельный датасет"
   ]
  },
  {
   "cell_type": "code",
   "execution_count": 140,
   "metadata": {},
   "outputs": [
    {
     "data": {
      "text/plain": [
       "(7, 7)"
      ]
     },
     "execution_count": 140,
     "metadata": {},
     "output_type": "execute_result"
    }
   ],
   "source": [
    "not_load = cl_ds[cl_ds['status']!='Downloaded']\n",
    "not_load.shape"
   ]
  },
  {
   "cell_type": "markdown",
   "metadata": {},
   "source": [
    "Парсинг песен из всех записанных источников"
   ]
  },
  {
   "cell_type": "code",
   "execution_count": 148,
   "metadata": {},
   "outputs": [
    {
     "data": {
      "application/vnd.jupyter.widget-view+json": {
       "model_id": "9af99b48ecf24577958388c9428b7940",
       "version_major": 2,
       "version_minor": 0
      },
      "text/plain": [
       "A Jupyter Widget"
      ]
     },
     "metadata": {},
     "output_type": "display_data"
    },
    {
     "data": {
      "application/vnd.jupyter.widget-view+json": {
       "model_id": "7dc5c4cbb12b486fb4defaf2bdfcc3d5",
       "version_major": 2,
       "version_minor": 0
      },
      "text/plain": [
       "A Jupyter Widget"
      ]
     },
     "metadata": {},
     "output_type": "display_data"
    },
    {
     "data": {
      "application/vnd.jupyter.widget-view+json": {
       "model_id": "5f03fe7dc2c94904a1425d5c91f31093",
       "version_major": 2,
       "version_minor": 0
      },
      "text/plain": [
       "A Jupyter Widget"
      ]
     },
     "metadata": {},
     "output_type": "display_data"
    },
    {
     "data": {
      "application/vnd.jupyter.widget-view+json": {
       "model_id": "9ced0bcee1ed4827b51821fc3a48e8b3",
       "version_major": 2,
       "version_minor": 0
      },
      "text/plain": [
       "A Jupyter Widget"
      ]
     },
     "metadata": {},
     "output_type": "display_data"
    },
    {
     "data": {
      "application/vnd.jupyter.widget-view+json": {
       "model_id": "ca85e4e13fb342fa90154fed408b1e2a",
       "version_major": 2,
       "version_minor": 0
      },
      "text/plain": [
       "A Jupyter Widget"
      ]
     },
     "metadata": {},
     "output_type": "display_data"
    },
    {
     "data": {
      "application/vnd.jupyter.widget-view+json": {
       "model_id": "bc303ccd686146709d5f8096b0d8767a",
       "version_major": 2,
       "version_minor": 0
      },
      "text/plain": [
       "A Jupyter Widget"
      ]
     },
     "metadata": {},
     "output_type": "display_data"
    },
    {
     "data": {
      "application/vnd.jupyter.widget-view+json": {
       "model_id": "35dee87db98845c18787b6d6682ce91c",
       "version_major": 2,
       "version_minor": 0
      },
      "text/plain": [
       "A Jupyter Widget"
      ]
     },
     "metadata": {},
     "output_type": "display_data"
    },
    {
     "data": {
      "application/vnd.jupyter.widget-view+json": {
       "model_id": "bf1d9edc3d2b411b8b65de68d641edd5",
       "version_major": 2,
       "version_minor": 0
      },
      "text/plain": [
       "A Jupyter Widget"
      ]
     },
     "metadata": {},
     "output_type": "display_data"
    },
    {
     "name": "stdout",
     "output_type": "stream",
     "text": [
      "\n",
      "CPU times: user 13.7 s, sys: 3.21 s, total: 16.9 s\n",
      "Wall time: 2min 25s\n"
     ]
    }
   ],
   "source": [
    "%%time\n",
    "\n",
    "not_load = cl_ds[cl_ds['status']!='Downloaded']\n",
    "for row in tqdm_notebook(not_load.iterrows(), total=len(not_load), desc='Walking rows'):\n",
    "    i,row = row\n",
    "    # Обновляем файл датасета\n",
    "    if i%5==0: cl_ds.to_csv(songs_cl_ds_fname)\n",
    "    \n",
    "    download_data = []\n",
    "    exceptions = []\n",
    "    # Загружаем ссылки на песни со всех сайтов\n",
    "    for parser in [parse_ipleer, parse_mp3co, parse_patefon, parse_xgetmus, parse_vkmus]:\n",
    "        try:\n",
    "            download_data.append(parser(artist=row.artist, title=row.title, duration=row.duration))\n",
    "        except Exception as e:\n",
    "            exceptions.append(e)\n",
    "    # Сортируем песни по совпадению длительностей\n",
    "    if len(download_data) > 0:\n",
    "        download_data = sorted(download_data, key=lambda x: abs(x[2]))\n",
    "        download_href, page_url, dur_eps = download_data[0]\n",
    "    else:\n",
    "        cl_ds.at[i,'status'] = exceptions\n",
    "        continue\n",
    "    # Загружаем файл\n",
    "    try:\n",
    "        is_loaded_correct = False\n",
    "        pbar = tqdm_notebook(desc='Trying to load', total=len(download_data), leave=False)\n",
    "        for idx, d_data in enumerate(download_data):\n",
    "            download_href, page_url, dur_eps = d_data\n",
    "            for ind_trying in range(2):\n",
    "                download_file(artist=row.artist, title=row.title, number=row.number, href=download_href,\\\n",
    "                             ds_name = 'chordlab')\n",
    "                try:\n",
    "                    is_loaded_correct = check_correct_dl(artist=row.artist, title=row.title,\\\n",
    "                                                     number=row.number, duration=row.duration, eps=dur_eps,\\\n",
    "                                                        ds_name='chordlab')\n",
    "                except:\n",
    "                    is_loaded_correct = False\n",
    "                if is_loaded_correct:\n",
    "                    break\n",
    "            if is_loaded_correct:\n",
    "                pbar.update(len(download_data)-idx)\n",
    "                pbar.close()\n",
    "                break\n",
    "            pbar.update(1)\n",
    "        pbar.close()\n",
    "        cl_ds.at[i,'status']='Downloaded'\n",
    "        cl_ds.at[i,'href']=page_url\n",
    "        cl_ds.at[i,'t_eps']=dur_eps\n",
    "    except Exception as e:\n",
    "        cl_ds.at[i, 'status'] = e.args[0]"
   ]
  },
  {
   "cell_type": "markdown",
   "metadata": {},
   "source": [
    "Сохраняем данные в файл"
   ]
  },
  {
   "cell_type": "code",
   "execution_count": 149,
   "metadata": {
    "collapsed": true
   },
   "outputs": [],
   "source": [
    "cl_ds.to_csv(songs_cl_ds_fname)"
   ]
  },
  {
   "cell_type": "code",
   "execution_count": 150,
   "metadata": {},
   "outputs": [
    {
     "name": "stdout",
     "output_type": "stream",
     "text": [
      "Загружено:\t207\t100.00%\n",
      "Не загружено:\t0\t0.00%\n"
     ]
    }
   ],
   "source": [
    "dled_num = len(cl_ds[cl_ds['status']=='Downloaded'])\n",
    "print('Загружено:\\t{}\\t{:.2%}'.format(dled_num, dled_num/len(cl_ds)))\n",
    "print('Не загружено:\\t{}\\t{:.2%}'.format(len(cl_ds)-dled_num, 1-dled_num/len(cl_ds)))"
   ]
  },
  {
   "cell_type": "code",
   "execution_count": 151,
   "metadata": {},
   "outputs": [
    {
     "data": {
      "text/html": [
       "<div>\n",
       "<style>\n",
       "    .dataframe thead tr:only-child th {\n",
       "        text-align: right;\n",
       "    }\n",
       "\n",
       "    .dataframe thead th {\n",
       "        text-align: left;\n",
       "    }\n",
       "\n",
       "    .dataframe tbody tr th {\n",
       "        vertical-align: top;\n",
       "    }\n",
       "</style>\n",
       "<table border=\"1\" class=\"dataframe\">\n",
       "  <thead>\n",
       "    <tr style=\"text-align: right;\">\n",
       "      <th></th>\n",
       "      <th>title</th>\n",
       "      <th>artist</th>\n",
       "      <th>number</th>\n",
       "      <th>duration</th>\n",
       "      <th>t_eps</th>\n",
       "      <th>href</th>\n",
       "      <th>status</th>\n",
       "    </tr>\n",
       "  </thead>\n",
       "  <tbody>\n",
       "  </tbody>\n",
       "</table>\n",
       "</div>"
      ],
      "text/plain": [
       "Empty DataFrame\n",
       "Columns: [title, artist, number, duration, t_eps, href, status]\n",
       "Index: []"
      ]
     },
     "execution_count": 151,
     "metadata": {},
     "output_type": "execute_result"
    }
   ],
   "source": [
    "cl_ds[cl_ds['status']!='Downloaded'].head()"
   ]
  }
 ],
 "metadata": {
  "kernelspec": {
   "display_name": "Python 3",
   "language": "python",
   "name": "python3"
  },
  "language_info": {
   "codemirror_mode": {
    "name": "ipython",
    "version": 3
   },
   "file_extension": ".py",
   "mimetype": "text/x-python",
   "name": "python",
   "nbconvert_exporter": "python",
   "pygments_lexer": "ipython3",
   "version": "3.6.3"
  }
 },
 "nbformat": 4,
 "nbformat_minor": 2
}
