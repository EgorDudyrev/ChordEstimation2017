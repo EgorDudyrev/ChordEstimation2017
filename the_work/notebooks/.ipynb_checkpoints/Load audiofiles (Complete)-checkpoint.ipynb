{
 "cells": [
  {
   "cell_type": "code",
   "execution_count": 1,
   "metadata": {
    "collapsed": true
   },
   "outputs": [],
   "source": [
    "import pandas as pd\n",
    "import numpy as np\n",
    "import requests\n",
    "from bs4 import BeautifulSoup\n",
    "\n",
    "from tqdm import tqdm_notebook\n",
    "import re\n",
    "import os"
   ]
  },
  {
   "cell_type": "code",
   "execution_count": 2,
   "metadata": {
    "collapsed": true
   },
   "outputs": [],
   "source": [
    "BASE_DIR = os.path.realpath(os.getcwd()+'../../..')"
   ]
  },
  {
   "cell_type": "markdown",
   "metadata": {},
   "source": [
    "# Функции для парсинга"
   ]
  },
  {
   "cell_type": "markdown",
   "metadata": {},
   "source": [
    "Во избежание скачивания каверов и т.п."
   ]
  },
  {
   "cell_type": "code",
   "execution_count": 3,
   "metadata": {
    "collapsed": true
   },
   "outputs": [],
   "source": [
    "not_include = [r'\\bcover\\b', r'\\bremix\\b', r'\\blive\\b', 'исполнен', r'\\bkaraoke\\b'] # Запрещённые слова для названий песен todo: 'Live'?"
   ]
  },
  {
   "cell_type": "markdown",
   "metadata": {},
   "source": [
    "Преобразование секунд в минуты и обратно"
   ]
  },
  {
   "cell_type": "code",
   "execution_count": 4,
   "metadata": {
    "collapsed": true
   },
   "outputs": [],
   "source": [
    "def secs_to_string(secs):\n",
    "    m = str(secs//60)\n",
    "    m = '0'+m if len(m)==1 else m\n",
    "    s = str(secs%60)\n",
    "    s = '0'+s if len(s)==1 else s\n",
    "    return ':'.join([m,s])"
   ]
  },
  {
   "cell_type": "code",
   "execution_count": 5,
   "metadata": {
    "collapsed": true
   },
   "outputs": [],
   "source": [
    "def string_to_secs(string):\n",
    "    m,s = map(int,string.split(':'))\n",
    "    return m*60+s"
   ]
  },
  {
   "cell_type": "code",
   "execution_count": 6,
   "metadata": {
    "collapsed": true
   },
   "outputs": [],
   "source": [
    "def time_delta(real,needed):\n",
    "    return string_to_secs(real)-string_to_secs(needed)"
   ]
  },
  {
   "cell_type": "markdown",
   "metadata": {},
   "source": [
    "Нахождение информации о длительности музыки (?на отдельном сайте?)"
   ]
  },
  {
   "cell_type": "code",
   "execution_count": 7,
   "metadata": {
    "collapsed": true
   },
   "outputs": [],
   "source": [
    "def parse_duration_ipleer(track_html):\n",
    "    #print 'parsing'\n",
    "    d = track_html.find('em')\n",
    "    #print 'asdf'\n",
    "    while True:\n",
    "        try:\n",
    "            d.div.decompose()\n",
    "        except:\n",
    "            break\n",
    "    #print d\n",
    "    while True:\n",
    "        try:\n",
    "            d.a.decompose()\n",
    "        except:\n",
    "            break\n",
    "    #print d\n",
    "    return d.text.split()[0]"
   ]
  },
  {
   "cell_type": "markdown",
   "metadata": {},
   "source": [
    "Преобразование имени файла для адресной строки (наверняка это лишний велосипед)"
   ]
  },
  {
   "cell_type": "code",
   "execution_count": 8,
   "metadata": {
    "collapsed": true
   },
   "outputs": [],
   "source": [
    "def format_fname(s, space_replacer='_'):\n",
    "    s = re.sub(r'\\(|\\)|\\'', '', s)\n",
    "    #for c in ['(',')','\\'']:\n",
    "    #    s = s.replace(c,'')\n",
    "    s = s.strip(' ')\n",
    "    s = re.sub(r' ', space_replacer, s)\n",
    "    return s"
   ]
  },
  {
   "cell_type": "markdown",
   "metadata": {},
   "source": [
    "Загрузка записи в определённый файл"
   ]
  },
  {
   "cell_type": "code",
   "execution_count": 9,
   "metadata": {
    "collapsed": true
   },
   "outputs": [],
   "source": [
    "def download_file(artist, title, number, href):\n",
    "    #dname = 'audio/billboard/'+'0'*(4-len(str(number)))+str(number)+'/'\n",
    "    dname = '/audio/billboard'\n",
    "    fname = format_fname('{}_{}-{}.mp3'.format(number, artist,title))\n",
    "    fname = re.sub(r'&', '_and_', fname)\n",
    "    try:\n",
    "        !wget -q -t 1 -O {BASE_DIR+dname+fname} '{href}'\n",
    "    except:\n",
    "        raise Exception('Found but not downloaded')\n",
    "        #ds.at[i,'status']='Found but not downloaded'\n",
    "        #print('Found but not downloaded')\n",
    "        #continue"
   ]
  },
  {
   "cell_type": "markdown",
   "metadata": {},
   "source": [
    "Проверка аттрибутов песни: автора 'a', названия 't', длительности 'd'"
   ]
  },
  {
   "cell_type": "code",
   "execution_count": 10,
   "metadata": {
    "collapsed": true
   },
   "outputs": [],
   "source": [
    "def check_attributes(a,t,d,artist, title, duration, to_print = False):\n",
    "    a,t,artist,title = map(lambda x: format_fname(x.lower(), ' '), [a,t,artist,title])\n",
    "    # Если кавер или ремикс (автор и название могут быть перепутаны местами)\n",
    "    if len(list(filter(lambda x: x in t, not_include)))>0\\\n",
    "     or len(list(filter(lambda x: x in a, not_include)))>0:\n",
    "        if to_print:\n",
    "            print('is cover')        \n",
    "        return False\n",
    "    # Если автор не совпадает с заданным (автор и название могут быть перепутаны местами)\n",
    "    if len(list(filter(lambda x: x in a, artist.split()))) != len(artist.split())\\\n",
    "     and len(list(filter(lambda x: x in t, artist.split()))) != len(artist.split()):\n",
    "        if to_print:\n",
    "            print('wrong artist')\n",
    "            print(artist)\n",
    "            print(a)\n",
    "        return False\n",
    "    # Если название не совпадает с заданным (автор и название могут быть перепутаны местами)\n",
    "    if len(list(filter(lambda x: x in t, title.split()))) != len(title.split())\\\n",
    "     and len(list(filter(lambda x: x in a, title.split()))) != len(title.split()):\n",
    "        if to_print:\n",
    "            print('wrong title')\n",
    "            print(title)\n",
    "            print(t)\n",
    "        return False\n",
    "    #print('still at', a,t,d)\n",
    "    try:\n",
    "        d = time_delta(needed=duration, real=d)\n",
    "    except:\n",
    "        return False\n",
    "    if abs(d) > max_eps:\n",
    "        return False\n",
    "    return True"
   ]
  },
  {
   "cell_type": "markdown",
   "metadata": {},
   "source": [
    "## Парсинг сайтов"
   ]
  },
  {
   "cell_type": "markdown",
   "metadata": {},
   "source": [
    "### ipleer.fm"
   ]
  },
  {
   "cell_type": "code",
   "execution_count": 11,
   "metadata": {
    "collapsed": true
   },
   "outputs": [],
   "source": [
    "def parse_ipleer(artist, title, duration):\n",
    "    SEARCH_URL = 'https://ipleer.fm/search/q/'\n",
    "    SONGS_URL = 'https://ipleer.fm'\n",
    "    \n",
    "    url = format_fname('{}{}+{}/'.format(SEARCH_URL, artist, title), space_replacer='+')\n",
    "    list_page = requests.get(url=url)\n",
    "    \n",
    "    if list_page.status_code != 200:\n",
    "        raise Exception('List_page_not_found')\n",
    "    \n",
    "    list_soup = BeautifulSoup(list_page.text, 'html.parser')\n",
    "    tracks = list_soup.find_all('li',class_='track')\n",
    "    ntracks = []\n",
    "    for track_id,track in enumerate(tracks):\n",
    "        try:\n",
    "            a = track.find('span',class_='cartist').text\n",
    "            t = track.find('span',class_='ctitle').text\n",
    "            d = parse_duration_ipleer(track)\n",
    "            h = track.find('a',class_='playlist-down').get('href')\n",
    "        except:\n",
    "            a,t,d, h = None, None, None, None\n",
    "        if a and t and d and h:\n",
    "            if check_attributes(a,t,d,artist,title,duration):\n",
    "                d = time_delta(d,duration)\n",
    "                ntracks.append({'artist':a, 'title':t, 'time_delta':d, 'href':h, 'track':track})\n",
    "    \n",
    "    if len(ntracks)==0:\n",
    "        raise Exception('No_correct_songs_found',url)\n",
    "    \n",
    "    ntracks = sorted(ntracks, key= lambda x: abs(x['time_delta']))\n",
    "    \n",
    "    dur_eps = 0\n",
    "    for track in ntracks:\n",
    "        download_page = requests.get(SONGS_URL+track['href'])\n",
    "        if download_page.status_code == 200:\n",
    "            dur_eps = track['time_delta']\n",
    "            break\n",
    "    if download_page.status_code != 200:\n",
    "        raise Exception('Download_page_not_found')\n",
    "        \n",
    "    download_soup = BeautifulSoup(download_page.text, 'html.parser')\n",
    "    download_href = download_soup.find('a',class_='onesongblock-download').get('href')\n",
    "    \n",
    "    return download_href, download_page.url, dur_eps"
   ]
  },
  {
   "cell_type": "code",
   "execution_count": 12,
   "metadata": {},
   "outputs": [
    {
     "data": {
      "text/plain": [
       "('http://data.iplayer.info/file/1822708/ZGJZWjRmZnpCbWE0TE1VY2NicmdNbWloanBlOFpraGR0WHlUS25IZzNja2dSWVA2a3lSbkxMQTBqalJkUlh3TlV2dEZOdEF4Nk00bWYxQ2lDNGx1c2duc1FsQUxYVnZVelh2elZCaFd0OUdTZkhMUDNwTUZlZVJrUkoyN2ZTNU8/ABBA_-_Take_A_Chance_On_Me_(iPlayer.fm).mp3',\n",
       " 'https://ru123.iplayer.info/song/1822708/ABBA_-_Take_A_Chance_On_Me/',\n",
       " 0)"
      ]
     },
     "execution_count": 12,
     "metadata": {},
     "output_type": "execute_result"
    }
   ],
   "source": [
    "parse_ipleer('ABBA','Take a chance on me','4:04')\n",
    "#print max_eps"
   ]
  },
  {
   "cell_type": "markdown",
   "metadata": {},
   "source": [
    "### mp3co.ooo"
   ]
  },
  {
   "cell_type": "code",
   "execution_count": 13,
   "metadata": {
    "collapsed": true
   },
   "outputs": [],
   "source": [
    "def parse_mp3co(artist, title, duration):\n",
    "    SEARCH_URL = 'https://mp3co.ooo/s/'\n",
    "    SONGS_URL = 'https://mp3co.ooo'\n",
    "    \n",
    "    url = format_fname('{}{}%20{}/'.format(SEARCH_URL, artist, title), space_replacer='%20')\n",
    "    list_page = requests.get(url=url)\n",
    "    \n",
    "    if list_page.status_code != 200:\n",
    "        raise Exception('List_page_not_found')\n",
    "    \n",
    "    list_soup = BeautifulSoup(list_page.text, 'html.parser')\n",
    "    tracks = list_soup.find_all('tr')\n",
    "    ntracks = []\n",
    "    for track_id,track in enumerate(tracks):\n",
    "        try:\n",
    "            a,t = map(lambda x: x.text, track.find_all('a', class_='item'))\n",
    "            d = track.find('td', class_='time').text\n",
    "            h = track.find('td', class_='download').a.get('href')\n",
    "        except:\n",
    "            a,t,d, h = None, None, None, None\n",
    "        if a and t and d and h:\n",
    "            if check_attributes(a,t,d,artist,title,duration):\n",
    "                d = time_delta(d,duration)\n",
    "                ntracks.append({'artist':a, 'title':t, 'time_delta':d, 'href':h, 'track':track})\n",
    "    \n",
    "    if len(ntracks)==0:\n",
    "        raise Exception('No_correct_songs_found',url)\n",
    "    \n",
    "    ntracks = sorted(ntracks, key= lambda x: abs(x['time_delta']))\n",
    "    \n",
    "    download_href = ntracks[0]['href']\n",
    "    dur_eps = ntracks[0]['time_delta']\n",
    "    return download_href, url, dur_eps"
   ]
  },
  {
   "cell_type": "code",
   "execution_count": 14,
   "metadata": {},
   "outputs": [
    {
     "data": {
      "text/plain": [
       "('https://cs1.mp3co.ooo/download/73932420/NjdCVUk3YlNXZ3lPRXcrL1JDbnIrYmJEazA5aG4ram0xVFdUa0hCelc3alg5bGN6ZnJkQmRZOGlCWXVFN29WdTNIS0VWSkRMRVBnd0pXZkQxUjM3c0t1Z09uL3VtV0JaaVBIZGpJMkJ1aW89/ABBA_v_ispolenii_Julie_Walters_Stellan_Skarsgard_Take_A_Chance_On_Me_(mp3co.ooo).mp3',\n",
       " 'https://mp3co.ooo/s/abba%20take%20a%20chance%20on%20me/',\n",
       " 0)"
      ]
     },
     "execution_count": 14,
     "metadata": {},
     "output_type": "execute_result"
    }
   ],
   "source": [
    "parse_mp3co('abba', 'take a chance on me', '4:02')"
   ]
  },
  {
   "cell_type": "markdown",
   "metadata": {},
   "source": [
    "### patefon.net"
   ]
  },
  {
   "cell_type": "code",
   "execution_count": 15,
   "metadata": {
    "collapsed": true
   },
   "outputs": [],
   "source": [
    "def parse_patefon(artist, title, duration):\n",
    "    SEARCH_URL = 'https://patefon.net/'\n",
    "\n",
    "    url = format_fname('{}{}-{}/'.format(SEARCH_URL, artist, title), space_replacer='-')\n",
    "    list_page = requests.get(url=url)\n",
    "    \n",
    "    if list_page.status_code != 200:\n",
    "        raise Exception('List_page_not_found')\n",
    "    \n",
    "    list_soup = BeautifulSoup(list_page.text, 'html.parser')\n",
    "    tracks = list_soup.find_all('li', class_='item')\n",
    "    ntracks = []\n",
    "    for track_id,track in enumerate(tracks):\n",
    "        try:\n",
    "            a = track.find('span', class_='artist').text\n",
    "            t = track.find('span', class_='track').text\n",
    "            d = track.find('div', class_='duration').text\n",
    "            h = track.find('a', class_='dl').get('href')\n",
    "        except:\n",
    "            a,t,d, h = None, None, None, None\n",
    "        if a and t and d and h:\n",
    "            if check_attributes(a,t,d,artist,title,duration):\n",
    "                d = time_delta(d,duration)\n",
    "                ntracks.append({'artist':a, 'title':t, 'time_delta':d, 'href':h, 'track':track})\n",
    "    \n",
    "    if len(ntracks)==0:\n",
    "        raise Exception('No_correct_songs_found',url)\n",
    "    \n",
    "    ntracks = sorted(ntracks, key= lambda x: abs(x['time_delta']))\n",
    "    \n",
    "    download_href = ntracks[0]['href']\n",
    "    dur_eps = ntracks[0]['time_delta']\n",
    "    return download_href, url, dur_eps"
   ]
  },
  {
   "cell_type": "code",
   "execution_count": 16,
   "metadata": {},
   "outputs": [
    {
     "data": {
      "text/plain": [
       "('http://dl3.patefon.net/aHR0cDovL2YubXAzcG9pc2submV0L21wMy8wMDAvNjQ4LzQzNy82NDg0MzcubXAzP3RpdGxlPWFiYmEtdGFrZS1hLWNoYW5jZS1vbi1tZS5tcDM=',\n",
       " 'https://patefon.net/abba-take-a-chance-on-me/',\n",
       " 2)"
      ]
     },
     "execution_count": 16,
     "metadata": {},
     "output_type": "execute_result"
    }
   ],
   "source": [
    "parse_patefon('abba', 'take a chance on me', '4:02')"
   ]
  },
  {
   "cell_type": "markdown",
   "metadata": {},
   "source": [
    "### xgetmus.ru"
   ]
  },
  {
   "cell_type": "code",
   "execution_count": 17,
   "metadata": {
    "collapsed": true
   },
   "outputs": [],
   "source": [
    "def parse_xgetmus(artist, title, duration):\n",
    "    SEARCH_URL = 'http://xgetmus.ru/s/'\n",
    "\n",
    "    url = format_fname('{}{}+{}/'.format(SEARCH_URL, artist, title), space_replacer='+')\n",
    "    list_page = requests.get(url=url)\n",
    "    \n",
    "    if list_page.status_code != 200:\n",
    "        raise Exception('List_page_not_found')\n",
    "    \n",
    "    list_soup = BeautifulSoup(list_page.text, 'html.parser')\n",
    "    tracks = list_soup.find_all('li', class_='item x-track track')\n",
    "    ntracks = []\n",
    "    for track_id,track in enumerate(tracks):\n",
    "        try:\n",
    "            a = track.find('span', class_='artist').text\n",
    "            t = track.find('span', class_='track').text\n",
    "            d = track.find('div', class_='duration').text\n",
    "            h = track.find('a', class_='dl download').get('href')\n",
    "        except:\n",
    "            a,t,d, h = None, None, None, None\n",
    "        if a and t and d and h:\n",
    "            if check_attributes(a,t,d,artist,title,duration):\n",
    "                d = time_delta(d,duration)\n",
    "                ntracks.append({'artist':a, 'title':t, 'time_delta':d, 'href':h, 'track':track})\n",
    "    \n",
    "    if len(ntracks)==0:\n",
    "        raise Exception('No_correct_songs_found',url)\n",
    "    \n",
    "    ntracks = sorted(ntracks, key= lambda x: abs(x['time_delta']))\n",
    "        \n",
    "    dur_eps = 0\n",
    "    for track in ntracks:\n",
    "        download_page = requests.get(track['href'])\n",
    "        if download_page.status_code == 200:\n",
    "            dur_eps = track['time_delta']\n",
    "            break\n",
    "    if download_page.status_code != 200:\n",
    "        raise Exception('Download_page_not_found')\n",
    "        \n",
    "    download_soup = BeautifulSoup(download_page.text, 'html.parser')\n",
    "    download_href = download_soup.find('a',class_='knopka download').get('href')\n",
    "    return download_href, download_page.url, dur_eps"
   ]
  },
  {
   "cell_type": "code",
   "execution_count": 18,
   "metadata": {},
   "outputs": [
    {
     "data": {
      "text/plain": [
       "('http://xgetmus.ru/download/fYwv5wpMTEvmFdgCshpmv4LF-46FONFDNrbVJMc1hJS9WqWlxz_kPgo1gvfIEt4j5GR2zHRwkd5x5vuzlmhxtboMJjD80-5JbtNxndCBzGI/The+Karaoke+Channel+Undercover+Angel+Originally+Performed+by+Alan+O+day+Karaoke+Version(xgetmus.ru).mp3',\n",
       " 'http://xgetmus.ru/song/27614959.433004601-the-karaoke-channel-undercover-angel-originally-performed-by-alan-oday-karaoke-version',\n",
       " -1)"
      ]
     },
     "execution_count": 18,
     "metadata": {},
     "output_type": "execute_result"
    }
   ],
   "source": [
    "parse_xgetmus('Alan O\\'Day', 'Undercover Angel', '3:33')"
   ]
  },
  {
   "cell_type": "markdown",
   "metadata": {},
   "source": [
    "### vkmusic.me"
   ]
  },
  {
   "cell_type": "code",
   "execution_count": 19,
   "metadata": {
    "collapsed": true
   },
   "outputs": [],
   "source": [
    "def parse_vkmus(artist, title, duration):\n",
    "    SEARCH_URL = 'http://vkmusic.me/'\n",
    "    \n",
    "    url = format_fname('{}{}-{}/'.format(SEARCH_URL, artist, title), space_replacer='-')\n",
    "    list_page = requests.get(url=url)\n",
    "    \n",
    "    if list_page.status_code != 200:\n",
    "        raise Exception('List_page_not_found')\n",
    "    \n",
    "    list_soup = BeautifulSoup(list_page.text, 'html.parser')\n",
    "    tracks = list_soup.find_all('li', class_='item')\n",
    "    ntracks = []\n",
    "    for track_id,track in enumerate(tracks):\n",
    "        try:\n",
    "            a = track.find('span', class_='artist').text\n",
    "            t = track.find('span', class_='track').text\n",
    "            d = track.find('div', class_='duration').text\n",
    "            h = track.find('a', class_='dl').get('href')\n",
    "        except:\n",
    "            a,t,d, h = None, None, None, None\n",
    "        if a and t and d and h:\n",
    "            if check_attributes(a,t,d,artist,title,duration):\n",
    "                d = time_delta(d,duration)\n",
    "                ntracks.append({'artist':a, 'title':t, 'time_delta':d, 'href':h, 'track':track})\n",
    "    \n",
    "    if len(ntracks)==0:\n",
    "        raise Exception('No_correct_songs_found',url)\n",
    "    \n",
    "    ntracks = sorted(ntracks, key= lambda x: abs(x['time_delta']))\n",
    "        \n",
    "    download_href = ntracks[0]['href']\n",
    "    dur_eps = ntracks[0]['time_delta']\n",
    "    return download_href, url, dur_eps"
   ]
  },
  {
   "cell_type": "code",
   "execution_count": 20,
   "metadata": {},
   "outputs": [
    {
     "ename": "Exception",
     "evalue": "('No_correct_songs_found', 'http://vkmusic.me/alice-cooper-schools-out/')",
     "output_type": "error",
     "traceback": [
      "\u001b[0;31m---------------------------------------------------------------------------\u001b[0m",
      "\u001b[0;31mException\u001b[0m                                 Traceback (most recent call last)",
      "\u001b[0;32m<ipython-input-20-167a6daa0c61>\u001b[0m in \u001b[0;36m<module>\u001b[0;34m()\u001b[0m\n\u001b[0;32m----> 1\u001b[0;31m \u001b[0mparse_vkmus\u001b[0m\u001b[0;34m(\u001b[0m\u001b[0;34m'alice cooper'\u001b[0m\u001b[0;34m,\u001b[0m \u001b[0;34m'school\\'s out'\u001b[0m\u001b[0;34m,\u001b[0m \u001b[0;34m'4:23'\u001b[0m\u001b[0;34m)\u001b[0m\u001b[0;34m\u001b[0m\u001b[0m\n\u001b[0m",
      "\u001b[0;32m<ipython-input-19-220b0d0cec9b>\u001b[0m in \u001b[0;36mparse_vkmus\u001b[0;34m(artist, title, duration)\u001b[0m\n\u001b[1;32m     25\u001b[0m \u001b[0;34m\u001b[0m\u001b[0m\n\u001b[1;32m     26\u001b[0m     \u001b[0;32mif\u001b[0m \u001b[0mlen\u001b[0m\u001b[0;34m(\u001b[0m\u001b[0mntracks\u001b[0m\u001b[0;34m)\u001b[0m\u001b[0;34m==\u001b[0m\u001b[0;36m0\u001b[0m\u001b[0;34m:\u001b[0m\u001b[0;34m\u001b[0m\u001b[0m\n\u001b[0;32m---> 27\u001b[0;31m         \u001b[0;32mraise\u001b[0m \u001b[0mException\u001b[0m\u001b[0;34m(\u001b[0m\u001b[0;34m'No_correct_songs_found'\u001b[0m\u001b[0;34m,\u001b[0m\u001b[0murl\u001b[0m\u001b[0;34m)\u001b[0m\u001b[0;34m\u001b[0m\u001b[0m\n\u001b[0m\u001b[1;32m     28\u001b[0m \u001b[0;34m\u001b[0m\u001b[0m\n\u001b[1;32m     29\u001b[0m     \u001b[0mntracks\u001b[0m \u001b[0;34m=\u001b[0m \u001b[0msorted\u001b[0m\u001b[0;34m(\u001b[0m\u001b[0mntracks\u001b[0m\u001b[0;34m,\u001b[0m \u001b[0mkey\u001b[0m\u001b[0;34m=\u001b[0m \u001b[0;32mlambda\u001b[0m \u001b[0mx\u001b[0m\u001b[0;34m:\u001b[0m \u001b[0mabs\u001b[0m\u001b[0;34m(\u001b[0m\u001b[0mx\u001b[0m\u001b[0;34m[\u001b[0m\u001b[0;34m'time_delta'\u001b[0m\u001b[0;34m]\u001b[0m\u001b[0;34m)\u001b[0m\u001b[0;34m)\u001b[0m\u001b[0;34m\u001b[0m\u001b[0m\n",
      "\u001b[0;31mException\u001b[0m: ('No_correct_songs_found', 'http://vkmusic.me/alice-cooper-schools-out/')"
     ]
    }
   ],
   "source": [
    "parse_vkmus('alice cooper', 'school\\'s out', '4:23')"
   ]
  },
  {
   "cell_type": "markdown",
   "metadata": {},
   "source": [
    "# Парсинг сайтов"
   ]
  },
  {
   "cell_type": "markdown",
   "metadata": {},
   "source": [
    "Загрузка БД песен"
   ]
  },
  {
   "cell_type": "code",
   "execution_count": 21,
   "metadata": {
    "collapsed": true
   },
   "outputs": [],
   "source": [
    "songs_ds_fname = BASE_DIR+'/dsets/billboard_songs_ds.csv'"
   ]
  },
  {
   "cell_type": "code",
   "execution_count": 22,
   "metadata": {},
   "outputs": [
    {
     "data": {
      "text/html": [
       "<div>\n",
       "<style>\n",
       "    .dataframe thead tr:only-child th {\n",
       "        text-align: right;\n",
       "    }\n",
       "\n",
       "    .dataframe thead th {\n",
       "        text-align: left;\n",
       "    }\n",
       "\n",
       "    .dataframe tbody tr th {\n",
       "        vertical-align: top;\n",
       "    }\n",
       "</style>\n",
       "<table border=\"1\" class=\"dataframe\">\n",
       "  <thead>\n",
       "    <tr style=\"text-align: right;\">\n",
       "      <th></th>\n",
       "      <th>title</th>\n",
       "      <th>artist</th>\n",
       "      <th>number</th>\n",
       "      <th>duration</th>\n",
       "      <th>t_eps</th>\n",
       "      <th>href</th>\n",
       "      <th>status</th>\n",
       "    </tr>\n",
       "  </thead>\n",
       "  <tbody>\n",
       "    <tr>\n",
       "      <th>0</th>\n",
       "      <td>Chicago</td>\n",
       "      <td>25 or 6 to 4</td>\n",
       "      <td>176</td>\n",
       "      <td>4:50</td>\n",
       "      <td>-1.0</td>\n",
       "      <td>https://ru123.iplayer.info/song/66286935/Chica...</td>\n",
       "      <td>Downloaded</td>\n",
       "    </tr>\n",
       "    <tr>\n",
       "      <th>1</th>\n",
       "      <td>Sukiyaki</td>\n",
       "      <td>A Taste Of Honey</td>\n",
       "      <td>1286</td>\n",
       "      <td>3:43</td>\n",
       "      <td>0.0</td>\n",
       "      <td>https://ru123.iplayer.info/song/28268457/a_tas...</td>\n",
       "      <td>Downloaded</td>\n",
       "    </tr>\n",
       "    <tr>\n",
       "      <th>2</th>\n",
       "      <td>Chiquitita</td>\n",
       "      <td>ABBA</td>\n",
       "      <td>183</td>\n",
       "      <td>5:25</td>\n",
       "      <td>0.0</td>\n",
       "      <td>https://patefon.net/abba-chiquitita/</td>\n",
       "      <td>Downloaded</td>\n",
       "    </tr>\n",
       "    <tr>\n",
       "      <th>3</th>\n",
       "      <td>Knowing Me, Knowing You</td>\n",
       "      <td>ABBA</td>\n",
       "      <td>231</td>\n",
       "      <td>4:04</td>\n",
       "      <td>-1.0</td>\n",
       "      <td>https://ru123.iplayer.info/song/1823046/ABBA_-...</td>\n",
       "      <td>Downloaded</td>\n",
       "    </tr>\n",
       "    <tr>\n",
       "      <th>4</th>\n",
       "      <td>Honey Honey</td>\n",
       "      <td>ABBA</td>\n",
       "      <td>902</td>\n",
       "      <td>2:54</td>\n",
       "      <td>0.0</td>\n",
       "      <td>https://mp3co.ooo/s/abba%20honey%20honey/</td>\n",
       "      <td>Downloaded</td>\n",
       "    </tr>\n",
       "  </tbody>\n",
       "</table>\n",
       "</div>"
      ],
      "text/plain": [
       "                     title            artist  number duration  t_eps  \\\n",
       "0                  Chicago      25 or 6 to 4     176     4:50   -1.0   \n",
       "1                 Sukiyaki  A Taste Of Honey    1286     3:43    0.0   \n",
       "2               Chiquitita              ABBA     183     5:25    0.0   \n",
       "3  Knowing Me, Knowing You              ABBA     231     4:04   -1.0   \n",
       "4              Honey Honey              ABBA     902     2:54    0.0   \n",
       "\n",
       "                                                href      status  \n",
       "0  https://ru123.iplayer.info/song/66286935/Chica...  Downloaded  \n",
       "1  https://ru123.iplayer.info/song/28268457/a_tas...  Downloaded  \n",
       "2               https://patefon.net/abba-chiquitita/  Downloaded  \n",
       "3  https://ru123.iplayer.info/song/1823046/ABBA_-...  Downloaded  \n",
       "4          https://mp3co.ooo/s/abba%20honey%20honey/  Downloaded  "
      ]
     },
     "execution_count": 22,
     "metadata": {},
     "output_type": "execute_result"
    }
   ],
   "source": [
    "ds = pd.read_csv(songs_ds_fname, index_col=0)\n",
    "#ds['t_eps']=0.0\n",
    "#ds['href']='nan'\n",
    "#ds['status']='nan'\n",
    "ds.head()"
   ]
  },
  {
   "cell_type": "code",
   "execution_count": 23,
   "metadata": {},
   "outputs": [
    {
     "name": "stdout",
     "output_type": "stream",
     "text": [
      "Загружено:\t672\t90.93%\n",
      "Не загружено:\t67\t9.07%\n"
     ]
    }
   ],
   "source": [
    "dled_num = len(ds[ds['status']=='Downloaded'])\n",
    "print('Загружено:\\t{}\\t{:.2%}'.format(dled_num, dled_num/len(ds)))\n",
    "print('Не загружено:\\t{}\\t{:.2%}'.format(len(ds)-dled_num, 1-dled_num/len(ds)))"
   ]
  },
  {
   "cell_type": "markdown",
   "metadata": {},
   "source": [
    "Считаем, что песни с погрешностью в длительности больше max_eps, не загружены"
   ]
  },
  {
   "cell_type": "code",
   "execution_count": 24,
   "metadata": {
    "collapsed": true
   },
   "outputs": [],
   "source": [
    "max_eps = 2\n",
    "ds.loc[ds[ds['t_eps']>max_eps].index,'status'] = 'nan'"
   ]
  },
  {
   "cell_type": "markdown",
   "metadata": {},
   "source": [
    "Вынесение всех незагруженных песен в отдельный датасет"
   ]
  },
  {
   "cell_type": "code",
   "execution_count": 25,
   "metadata": {
    "collapsed": true
   },
   "outputs": [],
   "source": [
    "not_load = ds[ds['status']!='Downloaded'].append(ds[ds['t_eps']>max_eps])"
   ]
  },
  {
   "cell_type": "markdown",
   "metadata": {},
   "source": [
    "Парсинг песен из всех записанных источников"
   ]
  },
  {
   "cell_type": "code",
   "execution_count": 26,
   "metadata": {},
   "outputs": [
    {
     "data": {
      "application/vnd.jupyter.widget-view+json": {
       "model_id": "c380524365a142f7b16cf16fd56dff67",
       "version_major": 2,
       "version_minor": 0
      },
      "text/plain": [
       "A Jupyter Widget"
      ]
     },
     "metadata": {},
     "output_type": "display_data"
    },
    {
     "name": "stdout",
     "output_type": "stream",
     "text": [
      "\n",
      "CPU times: user 1min 1s, sys: 1.49 s, total: 1min 2s\n",
      "Wall time: 3min 47s\n"
     ]
    }
   ],
   "source": [
    "%%time\n",
    "\n",
    "for row in tqdm_notebook(not_load.iterrows(), total=len(not_load)):\n",
    "    i,row = row\n",
    "    # Обновляем файл датасета\n",
    "    if i%5==0: ds.to_csv(songs_ds_fname)\n",
    "    \n",
    "    download_data = []\n",
    "    exceptions = []\n",
    "    # Загружаем ссылки на песни со всех сайтов\n",
    "    for parser in [parse_ipleer, parse_mp3co, parse_patefon, parse_xgetmus, parse_vkmus]:\n",
    "        try:\n",
    "            download_data.append(parser(artist=row.artist, title=row.title, duration=row.duration))\n",
    "        except Exception as e:\n",
    "            exceptions.append(e)\n",
    "    # Сортируем песни по совпадению длительностей\n",
    "    if len(download_data) > 0:\n",
    "        download_data = sorted(download_data, key=lambda x: abs(x[2]))\n",
    "        download_href, page_url, dur_eps = download_data[0]\n",
    "    else:\n",
    "        ds.at[i,'status'] = exceptions\n",
    "        continue\n",
    "    # Загружаем файл\n",
    "    try:\n",
    "        download_file(artist=row.artist, title=row.title, number=row.number, href=download_href)\n",
    "\n",
    "        ds.at[i,'status']='Downloaded'\n",
    "        ds.at[i,'href']=page_url\n",
    "        ds.at[i,'t_eps']=dur_eps\n",
    "    except Exception as e:\n",
    "        ds.at[i, 'status'] = e.args[0]"
   ]
  },
  {
   "cell_type": "markdown",
   "metadata": {},
   "source": [
    "Сохраняем данные в файл"
   ]
  },
  {
   "cell_type": "code",
   "execution_count": 27,
   "metadata": {
    "collapsed": true
   },
   "outputs": [],
   "source": [
    "ds.to_csv(songs_ds_fname)"
   ]
  },
  {
   "cell_type": "code",
   "execution_count": 28,
   "metadata": {},
   "outputs": [
    {
     "name": "stdout",
     "output_type": "stream",
     "text": [
      "Загружено:\t672\t90.93%\n",
      "Не загружено:\t67\t9.07%\n"
     ]
    }
   ],
   "source": [
    "dled_num = len(ds[ds['status']=='Downloaded'])\n",
    "print('Загружено:\\t{}\\t{:.2%}'.format(dled_num, dled_num/len(ds)))\n",
    "print('Не загружено:\\t{}\\t{:.2%}'.format(len(ds)-dled_num, 1-dled_num/len(ds)))"
   ]
  }
 ],
 "metadata": {
  "kernelspec": {
   "display_name": "Python 3",
   "language": "python",
   "name": "python3"
  },
  "language_info": {
   "codemirror_mode": {
    "name": "ipython",
    "version": 3
   },
   "file_extension": ".py",
   "mimetype": "text/x-python",
   "name": "python",
   "nbconvert_exporter": "python",
   "pygments_lexer": "ipython3",
   "version": "3.6.3"
  }
 },
 "nbformat": 4,
 "nbformat_minor": 2
}
