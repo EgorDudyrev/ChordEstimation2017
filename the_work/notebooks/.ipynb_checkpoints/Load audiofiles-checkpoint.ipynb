{
 "cells": [
  {
   "cell_type": "markdown",
   "metadata": {},
   "source": [
    "# Описание ноутбука\n",
    "Парсинг сайтов и скачивание mp3 аудиофайлов с интернета"
   ]
  },
  {
   "cell_type": "code",
   "execution_count": 1,
   "metadata": {
    "collapsed": true
   },
   "outputs": [],
   "source": [
    "import pandas as pd\n",
    "import numpy as np\n",
    "import requests\n",
    "from bs4 import BeautifulSoup"
   ]
  },
  {
   "cell_type": "code",
   "execution_count": 2,
   "metadata": {
    "collapsed": true
   },
   "outputs": [],
   "source": [
    "not_include = ['cover', 'remix', 'live'] # Запрещённые слова для названий песен todo: 'Live'?\n",
    "max_eps = 2 # Максимальное отклонение от заданной длины дорожки (в секундах)"
   ]
  },
  {
   "cell_type": "code",
   "execution_count": 3,
   "metadata": {
    "collapsed": true
   },
   "outputs": [],
   "source": [
    "def secs_to_string(secs):\n",
    "    m = str(secs/60)\n",
    "    if len(m)==1:\n",
    "        m = '0'+m\n",
    "    s = str(secs%60)\n",
    "    if len(s)==1:\n",
    "        s = '0'+s\n",
    "    return ':'.join([m,s])"
   ]
  },
  {
   "cell_type": "code",
   "execution_count": 4,
   "metadata": {
    "collapsed": true
   },
   "outputs": [],
   "source": [
    "def string_to_secs(string):\n",
    "    m,s = map(int,string.split(':'))\n",
    "    return m*60+s"
   ]
  },
  {
   "cell_type": "code",
   "execution_count": 5,
   "metadata": {
    "collapsed": true
   },
   "outputs": [],
   "source": [
    "def parse_duration(track_html):\n",
    "    #print 'parsing'\n",
    "    d = track_html.find('em')\n",
    "    #print 'asdf'\n",
    "    while True:\n",
    "        try:\n",
    "            d.div.decompose()\n",
    "        except:\n",
    "            break\n",
    "    #print d\n",
    "    while True:\n",
    "        try:\n",
    "            d.a.decompose()\n",
    "        except:\n",
    "            break\n",
    "    #print d\n",
    "    return d.text.split()[0]"
   ]
  },
  {
   "cell_type": "code",
   "execution_count": 6,
   "metadata": {
    "collapsed": true
   },
   "outputs": [],
   "source": [
    "def format_fname(s, space_replacer='_'):\n",
    "    for c in ['(',')','\\'']:\n",
    "        s = s.replace(c,'')\n",
    "    s = s.strip(' ')\n",
    "    s = s.replace(' ', space_replacer)\n",
    "    return s"
   ]
  },
  {
   "cell_type": "code",
   "execution_count": 7,
   "metadata": {
    "collapsed": true
   },
   "outputs": [],
   "source": [
    "def download_file(artist, title, number, href):\n",
    "    dname = 'audio/billboard/'+'0'*(4-len(str(number)))+str(number)+'/'\n",
    "    fname = format_fname('{}-{}.mp3'.format(artist,title))\n",
    "    try:\n",
    "        !mkdir -p {dname}\n",
    "    except:\n",
    "        pass\n",
    "    try:\n",
    "        !wget -q -nc -t 1 -O {dname+fname} '{href}'\n",
    "    except:\n",
    "        raise Exception('Found but not downloaded')\n",
    "        #ds.at[i,'status']='Found but not downloaded'\n",
    "        #print 'Found but not downloaded'\n",
    "        #continue"
   ]
  },
  {
   "cell_type": "code",
   "execution_count": 8,
   "metadata": {
    "collapsed": true
   },
   "outputs": [],
   "source": [
    "def parse_ipleer(artist, title, duration):\n",
    "    SEARCH_URL = 'https://ipleer.fm/search/q/'\n",
    "    SONGS_URL = 'https://ipleer.fm'\n",
    "\n",
    "    url = format_fname('{}{}+{}/'.format(SEARCH_URL, artist, title), space_replacer='+')\n",
    "    list_page = requests.get(url=url)\n",
    "    \n",
    "    if list_page.status_code != 200:\n",
    "        raise Exception('List_page_not_found')\n",
    "    \n",
    "    list_soup = BeautifulSoup(list_page.text, 'html.parser')\n",
    "    tracks = list_soup.find_all('li',class_='track')\n",
    "    ntracks = []\n",
    "    for track_id,track in enumerate(tracks):\n",
    "        try:\n",
    "            a = track.find('span',class_='cartist').text\n",
    "            t = track.find('span',class_='ctitle').text\n",
    "            d = parse_duration(track)\n",
    "            h = track.find('a',class_='playlist-down').get('href')\n",
    "        except:\n",
    "            a,t,d, h = None, None, None, None\n",
    "        if a and t and d and h:\n",
    "            # Если кавер или ремикс (автор и название могут быть перепутаны местами)\n",
    "            if len(filter(lambda x: x in t.lower(), not_include))>0\\\n",
    "             or len(filter(lambda x: x in a.lower(), not_include))>0:\n",
    "                continue\n",
    "            # Если автор не совпадает с заданным (автор и название могут быть перепутаны местами)\n",
    "            if len(filter(lambda x: x in a, artist.split())) != len(artist.split())\\\n",
    "             and len(filter(lambda x: x in t, artist.split())) != len(artist.split()):\n",
    "                continue\n",
    "            # Если название не совпадает с заданным (автор и название могут быть перепутаны местами)\n",
    "            if len(filter(lambda x: x in t, title.split())) != len(title.split())\\\n",
    "             and len(filter(lambda x: x in a, title.split())) != len(title.split()):\n",
    "                continue\n",
    "            try:\n",
    "                d = abs(string_to_secs(d)-string_to_secs(duration))\n",
    "            except:\n",
    "                continue\n",
    "            if d > max_eps:\n",
    "                continue\n",
    "           \n",
    "            ntracks.append({'artist':a, 'title':t, 'time_delta':d, 'href':h, 'track':track})\n",
    "    \n",
    "    if len(ntracks)==0:\n",
    "        raise Exception('No_correct_songs_found',url)\n",
    "    \n",
    "    ntracks = sorted(ntracks, key= lambda x: x['time_delta'])\n",
    "    \n",
    "    dur_eps = 0\n",
    "    for track in ntracks:\n",
    "        download_page = requests.get(SONGS_URL+track['href'])\n",
    "        if download_page.status_code == 200:\n",
    "            dur_eps = track['time_delta']\n",
    "            break\n",
    "    if download_page.status_code != 200:\n",
    "        raise Exception('Download_page_not_found')\n",
    "        \n",
    "    download_soup = BeautifulSoup(download_page.text, 'html.parser')\n",
    "    download_href = download_soup.find('a',class_='onesongblock-download').get('href')\n",
    "    \n",
    "    return download_href, download_page.url, dur_eps"
   ]
  },
  {
   "cell_type": "code",
   "execution_count": 9,
   "metadata": {},
   "outputs": [
    {
     "data": {
      "text/plain": [
       "(u'https://data.ipleer.fm/file/11040834/OVU2OE9sNU1XcDBITUlTZm9qeVQrdHNmVmdvSHdWNWczS2JsOUJ4aEwzeVJ4d2owaTFuSXA3ZmZHcFJxb1dmQ3hKVjhKSURLWW1PYkpVREpQcGRIaXkzR1g5MERvTTY5dVljV1ZGNWhrdnZNN2pYOWxVNS9SakVXalJPQ1puOEQ/Chicago_-_25_or_6_to_4_(iPleer.fm).mp3',\n",
       " u'https://ipleer.fm/song/11040834/Chicago_-_25_or_6_to_4/',\n",
       " 1)"
      ]
     },
     "execution_count": 9,
     "metadata": {},
     "output_type": "execute_result"
    }
   ],
   "source": [
    "parse_ipleer('Chicago','25 or 6 to 4','4:50')\n",
    "#print max_eps"
   ]
  },
  {
   "cell_type": "code",
   "execution_count": null,
   "metadata": {
    "collapsed": true
   },
   "outputs": [],
   "source": [
    "ds = pd.read_csv('McGill-Billboard (2)/songs.csv', index_col=0)\n",
    "ds['href']='nan'\n",
    "ds['status']='nan'"
   ]
  },
  {
   "cell_type": "code",
   "execution_count": 47,
   "metadata": {
    "collapsed": true
   },
   "outputs": [],
   "source": [
    "ds = pd.read_csv('McGill-Billboard (2)/songs_downloaded.csv',index_col=0)"
   ]
  },
  {
   "cell_type": "code",
   "execution_count": null,
   "metadata": {
    "collapsed": true
   },
   "outputs": [],
   "source": [
    "ds.to_csv('McGill-Billboard (2)/songs.csv')"
   ]
  },
  {
   "cell_type": "code",
   "execution_count": 48,
   "metadata": {},
   "outputs": [
    {
     "data": {
      "text/html": [
       "<div>\n",
       "<style>\n",
       "    .dataframe thead tr:only-child th {\n",
       "        text-align: right;\n",
       "    }\n",
       "\n",
       "    .dataframe thead th {\n",
       "        text-align: left;\n",
       "    }\n",
       "\n",
       "    .dataframe tbody tr th {\n",
       "        vertical-align: top;\n",
       "    }\n",
       "</style>\n",
       "<table border=\"1\" class=\"dataframe\">\n",
       "  <thead>\n",
       "    <tr style=\"text-align: right;\">\n",
       "      <th></th>\n",
       "      <th>title</th>\n",
       "      <th>artist</th>\n",
       "      <th>number</th>\n",
       "      <th>duration</th>\n",
       "      <th>t_eps</th>\n",
       "      <th>href</th>\n",
       "      <th>status</th>\n",
       "    </tr>\n",
       "  </thead>\n",
       "  <tbody>\n",
       "    <tr>\n",
       "      <th>0</th>\n",
       "      <td>Chicago</td>\n",
       "      <td>25 or 6 to 4</td>\n",
       "      <td>176</td>\n",
       "      <td>4:50</td>\n",
       "      <td>0.0</td>\n",
       "      <td>https://ipleer.fm/song/101272384/Chicago_Chica...</td>\n",
       "      <td>Downloaded</td>\n",
       "    </tr>\n",
       "    <tr>\n",
       "      <th>1</th>\n",
       "      <td>Sukiyaki</td>\n",
       "      <td>A Taste Of Honey</td>\n",
       "      <td>1286</td>\n",
       "      <td>3:43</td>\n",
       "      <td>1.0</td>\n",
       "      <td>https://ipleer.fm/song/2787937/A_Taste_Of_Hone...</td>\n",
       "      <td>Downloaded</td>\n",
       "    </tr>\n",
       "    <tr>\n",
       "      <th>2</th>\n",
       "      <td>Chiquitita</td>\n",
       "      <td>ABBA</td>\n",
       "      <td>183</td>\n",
       "      <td>5:25</td>\n",
       "      <td>0.0</td>\n",
       "      <td>https://ipleer.fm/song/1958012/ABBA_-_Chiquitita/</td>\n",
       "      <td>Downloaded</td>\n",
       "    </tr>\n",
       "    <tr>\n",
       "      <th>3</th>\n",
       "      <td>Knowing Me, Knowing You</td>\n",
       "      <td>ABBA</td>\n",
       "      <td>231</td>\n",
       "      <td>4:04</td>\n",
       "      <td>1.0</td>\n",
       "      <td>https://ipleer.fm/song/1823039/ABBA_-_Knowing_...</td>\n",
       "      <td>Downloaded</td>\n",
       "    </tr>\n",
       "    <tr>\n",
       "      <th>4</th>\n",
       "      <td>Honey Honey</td>\n",
       "      <td>ABBA</td>\n",
       "      <td>902</td>\n",
       "      <td>2:54</td>\n",
       "      <td>0.0</td>\n",
       "      <td>https://ipleer.fm/song/7201410/ABBA_-_Honey_Ho...</td>\n",
       "      <td>Downloaded</td>\n",
       "    </tr>\n",
       "  </tbody>\n",
       "</table>\n",
       "</div>"
      ],
      "text/plain": [
       "                     title            artist  number duration  t_eps  \\\n",
       "0                  Chicago      25 or 6 to 4     176     4:50    0.0   \n",
       "1                 Sukiyaki  A Taste Of Honey    1286     3:43    1.0   \n",
       "2               Chiquitita              ABBA     183     5:25    0.0   \n",
       "3  Knowing Me, Knowing You              ABBA     231     4:04    1.0   \n",
       "4              Honey Honey              ABBA     902     2:54    0.0   \n",
       "\n",
       "                                                href      status  \n",
       "0  https://ipleer.fm/song/101272384/Chicago_Chica...  Downloaded  \n",
       "1  https://ipleer.fm/song/2787937/A_Taste_Of_Hone...  Downloaded  \n",
       "2  https://ipleer.fm/song/1958012/ABBA_-_Chiquitita/  Downloaded  \n",
       "3  https://ipleer.fm/song/1823039/ABBA_-_Knowing_...  Downloaded  \n",
       "4  https://ipleer.fm/song/7201410/ABBA_-_Honey_Ho...  Downloaded  "
      ]
     },
     "execution_count": 48,
     "metadata": {},
     "output_type": "execute_result"
    }
   ],
   "source": [
    "ds.head()"
   ]
  },
  {
   "cell_type": "code",
   "execution_count": 49,
   "metadata": {},
   "outputs": [
    {
     "data": {
      "text/plain": [
       "178"
      ]
     },
     "execution_count": 49,
     "metadata": {},
     "output_type": "execute_result"
    }
   ],
   "source": [
    "ds[ds['status']!='Downloaded'].shape[0]"
   ]
  },
  {
   "cell_type": "code",
   "execution_count": 52,
   "metadata": {},
   "outputs": [
    {
     "data": {
      "text/plain": [
       "513"
      ]
     },
     "execution_count": 52,
     "metadata": {},
     "output_type": "execute_result"
    }
   ],
   "source": [
    "ds[ds['t_eps']<=max_eps].shape[0]"
   ]
  },
  {
   "cell_type": "code",
   "execution_count": 51,
   "metadata": {},
   "outputs": [
    {
     "data": {
      "text/plain": [
       "561"
      ]
     },
     "execution_count": 51,
     "metadata": {},
     "output_type": "execute_result"
    }
   ],
   "source": [
    "ds[ds['status']=='Downloaded'].shape[0]"
   ]
  },
  {
   "cell_type": "code",
   "execution_count": 53,
   "metadata": {
    "collapsed": true
   },
   "outputs": [],
   "source": [
    "not_load = ds[ds['status']!='Downloaded'].append(ds[ds['t_eps']>max_eps])"
   ]
  },
  {
   "cell_type": "code",
   "execution_count": 57,
   "metadata": {},
   "outputs": [
    {
     "data": {
      "text/plain": [
       "35    https://ipleer.fm/search/q/Bananarama+A+Trick+...\n",
       "Name: href, dtype: object"
      ]
     },
     "execution_count": 57,
     "metadata": {},
     "output_type": "execute_result"
    }
   ],
   "source": [
    "not_load[not_load['artist']=='Bananarama'].href"
   ]
  },
  {
   "cell_type": "code",
   "execution_count": 58,
   "metadata": {
    "scrolled": true
   },
   "outputs": [
    {
     "data": {
      "text/html": [
       "<div>\n",
       "<style>\n",
       "    .dataframe thead tr:only-child th {\n",
       "        text-align: right;\n",
       "    }\n",
       "\n",
       "    .dataframe thead th {\n",
       "        text-align: left;\n",
       "    }\n",
       "\n",
       "    .dataframe tbody tr th {\n",
       "        vertical-align: top;\n",
       "    }\n",
       "</style>\n",
       "<table border=\"1\" class=\"dataframe\">\n",
       "  <thead>\n",
       "    <tr style=\"text-align: right;\">\n",
       "      <th></th>\n",
       "      <th>title</th>\n",
       "      <th>artist</th>\n",
       "      <th>number</th>\n",
       "      <th>duration</th>\n",
       "      <th>t_eps</th>\n",
       "      <th>href</th>\n",
       "      <th>status</th>\n",
       "    </tr>\n",
       "  </thead>\n",
       "  <tbody>\n",
       "    <tr>\n",
       "      <th>11</th>\n",
       "      <td>Undercover Angel</td>\n",
       "      <td>Alan O'Day</td>\n",
       "      <td>367</td>\n",
       "      <td>3:33</td>\n",
       "      <td>NaN</td>\n",
       "      <td>https://ipleer.fm/search/q/Alan+ODay+Undercove...</td>\n",
       "      <td>No_correct_songs_found</td>\n",
       "    </tr>\n",
       "    <tr>\n",
       "      <th>12</th>\n",
       "      <td>Schoool's out</td>\n",
       "      <td>Alice Cooper</td>\n",
       "      <td>195</td>\n",
       "      <td>4:21</td>\n",
       "      <td>NaN</td>\n",
       "      <td>https://ipleer.fm/search/q/Alice+Cooper+Schooo...</td>\n",
       "      <td>No_correct_songs_found</td>\n",
       "    </tr>\n",
       "    <tr>\n",
       "      <th>16</th>\n",
       "      <td>Giving You the Best That I Got</td>\n",
       "      <td>Anita Baker</td>\n",
       "      <td>578</td>\n",
       "      <td>4:21</td>\n",
       "      <td>NaN</td>\n",
       "      <td>https://ipleer.fm/search/q/Anita+Baker+Giving+...</td>\n",
       "      <td>No_correct_songs_found</td>\n",
       "    </tr>\n",
       "    <tr>\n",
       "      <th>19</th>\n",
       "      <td>I Can't Stand The Rain</td>\n",
       "      <td>Ann Peebles</td>\n",
       "      <td>377</td>\n",
       "      <td>2:34</td>\n",
       "      <td>NaN</td>\n",
       "      <td>NaN</td>\n",
       "      <td>List_page_not_found</td>\n",
       "    </tr>\n",
       "    <tr>\n",
       "      <th>20</th>\n",
       "      <td>Could I Have This Dance</td>\n",
       "      <td>Anne Murray</td>\n",
       "      <td>199</td>\n",
       "      <td>5:03</td>\n",
       "      <td>NaN</td>\n",
       "      <td>https://ipleer.fm/search/q/Anne+Murray+Could+I...</td>\n",
       "      <td>No_correct_songs_found</td>\n",
       "    </tr>\n",
       "    <tr>\n",
       "      <th>29</th>\n",
       "      <td>Hooked On A Feeling</td>\n",
       "      <td>B.J. Thomas</td>\n",
       "      <td>1048</td>\n",
       "      <td>3:11</td>\n",
       "      <td>NaN</td>\n",
       "      <td>NaN</td>\n",
       "      <td>List_page_not_found</td>\n",
       "    </tr>\n",
       "    <tr>\n",
       "      <th>34</th>\n",
       "      <td>Tarzan Boy (From \"Teenage Mutant Ninja Turtles...</td>\n",
       "      <td>Baltimora</td>\n",
       "      <td>572</td>\n",
       "      <td>3:52</td>\n",
       "      <td>NaN</td>\n",
       "      <td>NaN</td>\n",
       "      <td>List_page_not_found</td>\n",
       "    </tr>\n",
       "    <tr>\n",
       "      <th>35</th>\n",
       "      <td>A Trick Of The Night</td>\n",
       "      <td>Bananarama</td>\n",
       "      <td>99</td>\n",
       "      <td>4:09</td>\n",
       "      <td>NaN</td>\n",
       "      <td>https://ipleer.fm/search/q/Bananarama+A+Trick+...</td>\n",
       "      <td>No_correct_songs_found</td>\n",
       "    </tr>\n",
       "    <tr>\n",
       "      <th>40</th>\n",
       "      <td>You're The First, The Last, My Everything</td>\n",
       "      <td>Barry White</td>\n",
       "      <td>796</td>\n",
       "      <td>3:24</td>\n",
       "      <td>NaN</td>\n",
       "      <td>NaN</td>\n",
       "      <td>List_page_not_found</td>\n",
       "    </tr>\n",
       "    <tr>\n",
       "      <th>42</th>\n",
       "      <td>Brass Monkey</td>\n",
       "      <td>Beastie Boys</td>\n",
       "      <td>634</td>\n",
       "      <td>2:39</td>\n",
       "      <td>NaN</td>\n",
       "      <td>NaN</td>\n",
       "      <td>List_page_not_found</td>\n",
       "    </tr>\n",
       "    <tr>\n",
       "      <th>49</th>\n",
       "      <td>Ain't No Sunshine</td>\n",
       "      <td>Bill Withers</td>\n",
       "      <td>1058</td>\n",
       "      <td>2:06</td>\n",
       "      <td>NaN</td>\n",
       "      <td>https://ipleer.fm/search/q/Bill+Withers+Aint+N...</td>\n",
       "      <td>No_correct_songs_found</td>\n",
       "    </tr>\n",
       "    <tr>\n",
       "      <th>69</th>\n",
       "      <td>Summertime Blues</td>\n",
       "      <td>Blue Cheer</td>\n",
       "      <td>1170</td>\n",
       "      <td>3:46</td>\n",
       "      <td>NaN</td>\n",
       "      <td>NaN</td>\n",
       "      <td>List_page_not_found</td>\n",
       "    </tr>\n",
       "    <tr>\n",
       "      <th>70</th>\n",
       "      <td>Willie Nelson</td>\n",
       "      <td>Blue Eyes Cryin'</td>\n",
       "      <td>126</td>\n",
       "      <td>2:21</td>\n",
       "      <td>NaN</td>\n",
       "      <td>https://ipleer.fm/search/q/Blue+Eyes+Cryin+Wil...</td>\n",
       "      <td>No_correct_songs_found</td>\n",
       "    </tr>\n",
       "    <tr>\n",
       "      <th>71</th>\n",
       "      <td>You Can't Judge A Book By The Cover</td>\n",
       "      <td>Bo Diddley</td>\n",
       "      <td>179</td>\n",
       "      <td>3:11</td>\n",
       "      <td>NaN</td>\n",
       "      <td>https://ipleer.fm/search/q/Bo+Diddley+You+Cant...</td>\n",
       "      <td>No_correct_songs_found</td>\n",
       "    </tr>\n",
       "    <tr>\n",
       "      <th>73</th>\n",
       "      <td>Old Time Rock &amp; Roll</td>\n",
       "      <td>Bob Seger</td>\n",
       "      <td>249</td>\n",
       "      <td>3:15</td>\n",
       "      <td>NaN</td>\n",
       "      <td>NaN</td>\n",
       "      <td>List_page_not_found</td>\n",
       "    </tr>\n",
       "    <tr>\n",
       "      <th>80</th>\n",
       "      <td>Trying To Live My Life Without You</td>\n",
       "      <td>Bob Seger &amp; The Silver Bullet Band</td>\n",
       "      <td>830</td>\n",
       "      <td>4:04</td>\n",
       "      <td>NaN</td>\n",
       "      <td>https://ipleer.fm/search/q/Bob+Seger+&amp;+The+Sil...</td>\n",
       "      <td>No_correct_songs_found</td>\n",
       "    </tr>\n",
       "    <tr>\n",
       "      <th>81</th>\n",
       "      <td>I Love You So</td>\n",
       "      <td>Bobbi Martin</td>\n",
       "      <td>56</td>\n",
       "      <td>2:56</td>\n",
       "      <td>NaN</td>\n",
       "      <td>https://ipleer.fm/search/q/Bobbi+Martin+I+Love...</td>\n",
       "      <td>No_correct_songs_found</td>\n",
       "    </tr>\n",
       "    <tr>\n",
       "      <th>84</th>\n",
       "      <td>If I Were A Carpenter</td>\n",
       "      <td>Bobby Darin</td>\n",
       "      <td>1265</td>\n",
       "      <td>3:01</td>\n",
       "      <td>NaN</td>\n",
       "      <td>https://ipleer.fm/search/q/Bobby+Darin+If+I+We...</td>\n",
       "      <td>No_correct_songs_found</td>\n",
       "    </tr>\n",
       "    <tr>\n",
       "      <th>85</th>\n",
       "      <td>That's the Way I Feel About Cha</td>\n",
       "      <td>Bobby Womack</td>\n",
       "      <td>297</td>\n",
       "      <td>3:36</td>\n",
       "      <td>NaN</td>\n",
       "      <td>NaN</td>\n",
       "      <td>List_page_not_found</td>\n",
       "    </tr>\n",
       "    <tr>\n",
       "      <th>86</th>\n",
       "      <td>Sweet Caroline (Good Times Never Seemed So Good)</td>\n",
       "      <td>Bobby Womack</td>\n",
       "      <td>915</td>\n",
       "      <td>3:10</td>\n",
       "      <td>NaN</td>\n",
       "      <td>NaN</td>\n",
       "      <td>List_page_not_found</td>\n",
       "    </tr>\n",
       "  </tbody>\n",
       "</table>\n",
       "</div>"
      ],
      "text/plain": [
       "                                                title  \\\n",
       "11                                   Undercover Angel   \n",
       "12                                      Schoool's out   \n",
       "16                     Giving You the Best That I Got   \n",
       "19                             I Can't Stand The Rain   \n",
       "20                            Could I Have This Dance   \n",
       "29                                Hooked On A Feeling   \n",
       "34  Tarzan Boy (From \"Teenage Mutant Ninja Turtles...   \n",
       "35                               A Trick Of The Night   \n",
       "40          You're The First, The Last, My Everything   \n",
       "42                                       Brass Monkey   \n",
       "49                                  Ain't No Sunshine   \n",
       "69                                   Summertime Blues   \n",
       "70                                      Willie Nelson   \n",
       "71                You Can't Judge A Book By The Cover   \n",
       "73                               Old Time Rock & Roll   \n",
       "80                 Trying To Live My Life Without You   \n",
       "81                                      I Love You So   \n",
       "84                              If I Were A Carpenter   \n",
       "85                    That's the Way I Feel About Cha   \n",
       "86   Sweet Caroline (Good Times Never Seemed So Good)   \n",
       "\n",
       "                                artist  number duration  t_eps  \\\n",
       "11                          Alan O'Day     367     3:33    NaN   \n",
       "12                        Alice Cooper     195     4:21    NaN   \n",
       "16                         Anita Baker     578     4:21    NaN   \n",
       "19                         Ann Peebles     377     2:34    NaN   \n",
       "20                         Anne Murray     199     5:03    NaN   \n",
       "29                         B.J. Thomas    1048     3:11    NaN   \n",
       "34                           Baltimora     572     3:52    NaN   \n",
       "35                          Bananarama      99     4:09    NaN   \n",
       "40                         Barry White     796     3:24    NaN   \n",
       "42                        Beastie Boys     634     2:39    NaN   \n",
       "49                        Bill Withers    1058     2:06    NaN   \n",
       "69                          Blue Cheer    1170     3:46    NaN   \n",
       "70                    Blue Eyes Cryin'     126     2:21    NaN   \n",
       "71                          Bo Diddley     179     3:11    NaN   \n",
       "73                           Bob Seger     249     3:15    NaN   \n",
       "80  Bob Seger & The Silver Bullet Band     830     4:04    NaN   \n",
       "81                        Bobbi Martin      56     2:56    NaN   \n",
       "84                         Bobby Darin    1265     3:01    NaN   \n",
       "85                        Bobby Womack     297     3:36    NaN   \n",
       "86                        Bobby Womack     915     3:10    NaN   \n",
       "\n",
       "                                                 href                  status  \n",
       "11  https://ipleer.fm/search/q/Alan+ODay+Undercove...  No_correct_songs_found  \n",
       "12  https://ipleer.fm/search/q/Alice+Cooper+Schooo...  No_correct_songs_found  \n",
       "16  https://ipleer.fm/search/q/Anita+Baker+Giving+...  No_correct_songs_found  \n",
       "19                                                NaN     List_page_not_found  \n",
       "20  https://ipleer.fm/search/q/Anne+Murray+Could+I...  No_correct_songs_found  \n",
       "29                                                NaN     List_page_not_found  \n",
       "34                                                NaN     List_page_not_found  \n",
       "35  https://ipleer.fm/search/q/Bananarama+A+Trick+...  No_correct_songs_found  \n",
       "40                                                NaN     List_page_not_found  \n",
       "42                                                NaN     List_page_not_found  \n",
       "49  https://ipleer.fm/search/q/Bill+Withers+Aint+N...  No_correct_songs_found  \n",
       "69                                                NaN     List_page_not_found  \n",
       "70  https://ipleer.fm/search/q/Blue+Eyes+Cryin+Wil...  No_correct_songs_found  \n",
       "71  https://ipleer.fm/search/q/Bo+Diddley+You+Cant...  No_correct_songs_found  \n",
       "73                                                NaN     List_page_not_found  \n",
       "80  https://ipleer.fm/search/q/Bob+Seger+&+The+Sil...  No_correct_songs_found  \n",
       "81  https://ipleer.fm/search/q/Bobbi+Martin+I+Love...  No_correct_songs_found  \n",
       "84  https://ipleer.fm/search/q/Bobby+Darin+If+I+We...  No_correct_songs_found  \n",
       "85                                                NaN     List_page_not_found  \n",
       "86                                                NaN     List_page_not_found  "
      ]
     },
     "execution_count": 58,
     "metadata": {},
     "output_type": "execute_result"
    }
   ],
   "source": [
    "not_load[:20]"
   ]
  },
  {
   "cell_type": "code",
   "execution_count": 1,
   "metadata": {},
   "outputs": [
    {
     "ename": "NameError",
     "evalue": "name 'not_load' is not defined",
     "output_type": "error",
     "traceback": [
      "\u001b[0;31m---------------------------------------------------------------------------\u001b[0m",
      "\u001b[0;31mNameError\u001b[0m                                 Traceback (most recent call last)",
      "\u001b[0;32m<ipython-input-1-3390ed465a06>\u001b[0m in \u001b[0;36m<module>\u001b[0;34m()\u001b[0m\n\u001b[0;32m----> 1\u001b[0;31m \u001b[0mget_ipython\u001b[0m\u001b[0;34m(\u001b[0m\u001b[0;34m)\u001b[0m\u001b[0;34m.\u001b[0m\u001b[0mrun_cell_magic\u001b[0m\u001b[0;34m(\u001b[0m\u001b[0;34mu'time'\u001b[0m\u001b[0;34m,\u001b[0m \u001b[0;34mu''\u001b[0m\u001b[0;34m,\u001b[0m \u001b[0;34mu\"#not_load = ds[ds['status']!='Downloaded']\\n\\nfor row in not_load.iterrows():\\n    i,row = row\\n    print i,\\n    if i%5==0:\\n        ds.to_csv('McGill-Billboard (2)/songs_downloaded.csv')\\n    \\n    try:\\n        download_href, page_url, dur_eps = parse_ipleer(artist=row.artist, title=row.title, duration=row.duration)\\n        download_file(artist=row.artist, title=row.title, number=row.number, href=download_href)\\n        \\n        ds.at[i,'status']='Downloaded'\\n        ds.at[i,'href']=page_url\\n        ds.at[i,'t_eps']=dur_eps\\n        print '+'\\n    except Exception as e:\\n        ds.at[i,'status']=e.args[0]\\n        if len(e.args)==2:\\n            ds.at[i,'href']=e.args[1]\\n        print e.args[0]\"\u001b[0m\u001b[0;34m)\u001b[0m\u001b[0;34m\u001b[0m\u001b[0m\n\u001b[0m",
      "\u001b[0;32m/home/egor/anaconda2/lib/python2.7/site-packages/IPython/core/interactiveshell.pyc\u001b[0m in \u001b[0;36mrun_cell_magic\u001b[0;34m(self, magic_name, line, cell)\u001b[0m\n\u001b[1;32m   2113\u001b[0m             \u001b[0mmagic_arg_s\u001b[0m \u001b[0;34m=\u001b[0m \u001b[0mself\u001b[0m\u001b[0;34m.\u001b[0m\u001b[0mvar_expand\u001b[0m\u001b[0;34m(\u001b[0m\u001b[0mline\u001b[0m\u001b[0;34m,\u001b[0m \u001b[0mstack_depth\u001b[0m\u001b[0;34m)\u001b[0m\u001b[0;34m\u001b[0m\u001b[0m\n\u001b[1;32m   2114\u001b[0m             \u001b[0;32mwith\u001b[0m \u001b[0mself\u001b[0m\u001b[0;34m.\u001b[0m\u001b[0mbuiltin_trap\u001b[0m\u001b[0;34m:\u001b[0m\u001b[0;34m\u001b[0m\u001b[0m\n\u001b[0;32m-> 2115\u001b[0;31m                 \u001b[0mresult\u001b[0m \u001b[0;34m=\u001b[0m \u001b[0mfn\u001b[0m\u001b[0;34m(\u001b[0m\u001b[0mmagic_arg_s\u001b[0m\u001b[0;34m,\u001b[0m \u001b[0mcell\u001b[0m\u001b[0;34m)\u001b[0m\u001b[0;34m\u001b[0m\u001b[0m\n\u001b[0m\u001b[1;32m   2116\u001b[0m             \u001b[0;32mreturn\u001b[0m \u001b[0mresult\u001b[0m\u001b[0;34m\u001b[0m\u001b[0m\n\u001b[1;32m   2117\u001b[0m \u001b[0;34m\u001b[0m\u001b[0m\n",
      "\u001b[0;32m<decorator-gen-59>\u001b[0m in \u001b[0;36mtime\u001b[0;34m(self, line, cell, local_ns)\u001b[0m\n",
      "\u001b[0;32m/home/egor/anaconda2/lib/python2.7/site-packages/IPython/core/magic.pyc\u001b[0m in \u001b[0;36m<lambda>\u001b[0;34m(f, *a, **k)\u001b[0m\n\u001b[1;32m    186\u001b[0m     \u001b[0;31m# but it's overkill for just that one bit of state.\u001b[0m\u001b[0;34m\u001b[0m\u001b[0;34m\u001b[0m\u001b[0m\n\u001b[1;32m    187\u001b[0m     \u001b[0;32mdef\u001b[0m \u001b[0mmagic_deco\u001b[0m\u001b[0;34m(\u001b[0m\u001b[0marg\u001b[0m\u001b[0;34m)\u001b[0m\u001b[0;34m:\u001b[0m\u001b[0;34m\u001b[0m\u001b[0m\n\u001b[0;32m--> 188\u001b[0;31m         \u001b[0mcall\u001b[0m \u001b[0;34m=\u001b[0m \u001b[0;32mlambda\u001b[0m \u001b[0mf\u001b[0m\u001b[0;34m,\u001b[0m \u001b[0;34m*\u001b[0m\u001b[0ma\u001b[0m\u001b[0;34m,\u001b[0m \u001b[0;34m**\u001b[0m\u001b[0mk\u001b[0m\u001b[0;34m:\u001b[0m \u001b[0mf\u001b[0m\u001b[0;34m(\u001b[0m\u001b[0;34m*\u001b[0m\u001b[0ma\u001b[0m\u001b[0;34m,\u001b[0m \u001b[0;34m**\u001b[0m\u001b[0mk\u001b[0m\u001b[0;34m)\u001b[0m\u001b[0;34m\u001b[0m\u001b[0m\n\u001b[0m\u001b[1;32m    189\u001b[0m \u001b[0;34m\u001b[0m\u001b[0m\n\u001b[1;32m    190\u001b[0m         \u001b[0;32mif\u001b[0m \u001b[0mcallable\u001b[0m\u001b[0;34m(\u001b[0m\u001b[0marg\u001b[0m\u001b[0;34m)\u001b[0m\u001b[0;34m:\u001b[0m\u001b[0;34m\u001b[0m\u001b[0m\n",
      "\u001b[0;32m/home/egor/anaconda2/lib/python2.7/site-packages/IPython/core/magics/execution.pyc\u001b[0m in \u001b[0;36mtime\u001b[0;34m(self, line, cell, local_ns)\u001b[0m\n\u001b[1;32m   1183\u001b[0m         \u001b[0;32melse\u001b[0m\u001b[0;34m:\u001b[0m\u001b[0;34m\u001b[0m\u001b[0m\n\u001b[1;32m   1184\u001b[0m             \u001b[0mst\u001b[0m \u001b[0;34m=\u001b[0m \u001b[0mclock2\u001b[0m\u001b[0;34m(\u001b[0m\u001b[0;34m)\u001b[0m\u001b[0;34m\u001b[0m\u001b[0m\n\u001b[0;32m-> 1185\u001b[0;31m             \u001b[0;32mexec\u001b[0m\u001b[0;34m(\u001b[0m\u001b[0mcode\u001b[0m\u001b[0;34m,\u001b[0m \u001b[0mglob\u001b[0m\u001b[0;34m,\u001b[0m \u001b[0mlocal_ns\u001b[0m\u001b[0;34m)\u001b[0m\u001b[0;34m\u001b[0m\u001b[0m\n\u001b[0m\u001b[1;32m   1186\u001b[0m             \u001b[0mend\u001b[0m \u001b[0;34m=\u001b[0m \u001b[0mclock2\u001b[0m\u001b[0;34m(\u001b[0m\u001b[0;34m)\u001b[0m\u001b[0;34m\u001b[0m\u001b[0m\n\u001b[1;32m   1187\u001b[0m             \u001b[0mout\u001b[0m \u001b[0;34m=\u001b[0m \u001b[0mNone\u001b[0m\u001b[0;34m\u001b[0m\u001b[0m\n",
      "\u001b[0;32m<timed exec>\u001b[0m in \u001b[0;36m<module>\u001b[0;34m()\u001b[0m\n",
      "\u001b[0;31mNameError\u001b[0m: name 'not_load' is not defined"
     ]
    }
   ],
   "source": [
    "%%time\n",
    "#not_load = ds[ds['status']!='Downloaded']\n",
    "\n",
    "for row in not_load.iterrows():\n",
    "    i,row = row\n",
    "    print i,\n",
    "    if i%5==0:\n",
    "        ds.to_csv('McGill-Billboard (2)/songs_downloaded.csv')\n",
    "    \n",
    "    try:\n",
    "        download_href, page_url, dur_eps = parse_ipleer(artist=row.artist, title=row.title, duration=row.duration)\n",
    "        download_file(artist=row.artist, title=row.title, number=row.number, href=download_href)\n",
    "        \n",
    "        ds.at[i,'status']='Downloaded'\n",
    "        ds.at[i,'href']=page_url\n",
    "        ds.at[i,'t_eps']=dur_eps\n",
    "        print '+'\n",
    "    except Exception as e:\n",
    "        ds.at[i,'status']=e.args[0]\n",
    "        if len(e.args)==2:\n",
    "            ds.at[i,'href']=e.args[1]\n",
    "        print e.args[0]"
   ]
  },
  {
   "cell_type": "code",
   "execution_count": null,
   "metadata": {
    "collapsed": true
   },
   "outputs": [],
   "source": [
    "ds.to_csv('McGill-Billboard (2)/songs_downloaded.csv')"
   ]
  }
 ],
 "metadata": {
  "kernelspec": {
   "display_name": "Python 2",
   "language": "python",
   "name": "python2"
  },
  "language_info": {
   "codemirror_mode": {
    "name": "ipython",
    "version": 2
   },
   "file_extension": ".py",
   "mimetype": "text/x-python",
   "name": "python",
   "nbconvert_exporter": "python",
   "pygments_lexer": "ipython2",
   "version": "2.7.13"
  }
 },
 "nbformat": 4,
 "nbformat_minor": 2
}
