{
 "cells": [
  {
   "cell_type": "markdown",
   "metadata": {},
   "source": [
    "# Описание ноутбука\n",
    "Разномастное тестирование идей, и попытки изобразить что-нибудь дельное"
   ]
  },
  {
   "cell_type": "code",
   "execution_count": 1,
   "metadata": {
    "collapsed": true
   },
   "outputs": [],
   "source": [
    "import numpy as np\n",
    "import pandas as pd\n",
    "from matplotlib import pyplot as plt\n",
    "from matplotlib import pylab\n",
    "import scipy as sp\n",
    "from scipy.sparse import csc_matrix, csr_matrix, load_npz, save_npz, issparse\n",
    "from scipy import absolute\n",
    "from chord_scripts import plot_spectrogram"
   ]
  },
  {
   "cell_type": "code",
   "execution_count": 2,
   "metadata": {
    "collapsed": true
   },
   "outputs": [],
   "source": [
    "def plot_frequencies(datas, title=None, figsize=(15, 7.5), colors=None, titles=None):\n",
    "    plt.figure(figsize=figsize)\n",
    "    for idx, data in enumerate(datas):\n",
    "        if issparse(data):\n",
    "            data = sp.absolute(data.toarray()[:,0])\n",
    "        color = colors[idx] if colors else 'b'\n",
    "        title = titles[idx] if titles else ''\n",
    "        plt.plot(range(len(data)), data, color, label=title)\n",
    "    plt.legend()\n",
    "    plt.xscale('log')\n",
    "    plt.title = title\n",
    "    plt.xlabel = 'Freqs'\n",
    "    plt.ylabel = 'Values'\n",
    "    plt.show()"
   ]
  },
  {
   "cell_type": "markdown",
   "metadata": {},
   "source": [
    "# Задача: найти метрики для сравнения спектрограмм"
   ]
  },
  {
   "cell_type": "markdown",
   "metadata": {},
   "source": [
    "Требование к метрике f (для типов аккордов):\n",
    "* Расстояние между аккордами с одинаковыми типами ~ 0, e.g. $$f(a, b)~=0, при \\ a=b  $$\n",
    "* Расстояние между аккордами разных типов ~ $\\inf$ $$f(a,b) ~= \\inf, при \\ a \\neq b$$"
   ]
  },
  {
   "cell_type": "markdown",
   "metadata": {},
   "source": [
    "## Придумаем метрику на аккордах A:min, A:maj, N"
   ]
  },
  {
   "cell_type": "code",
   "execution_count": 3,
   "metadata": {
    "collapsed": true
   },
   "outputs": [],
   "source": [
    "Amins = [load_npz('chords/A_min/{}.npz'.format(idx)).tocsr() for idx in range(126)]"
   ]
  },
  {
   "cell_type": "code",
   "execution_count": 5,
   "metadata": {
    "collapsed": true
   },
   "outputs": [],
   "source": [
    "Amajs = [load_npz('chords/A_maj/{}.npz'.format(idx)).tocsr() for idx in range(210)]"
   ]
  },
  {
   "cell_type": "code",
   "execution_count": 6,
   "metadata": {
    "collapsed": true
   },
   "outputs": [],
   "source": [
    "Nons =  [load_npz('chords/N/{}.npz'.format(idx)).tocsr() for idx in range(460)]"
   ]
  },
  {
   "cell_type": "code",
   "execution_count": 7,
   "metadata": {
    "scrolled": true
   },
   "outputs": [
    {
     "data": {
      "text/plain": [
       "[<1025x5129 sparse matrix of type '<type 'numpy.complex128'>'\n",
       " \twith 44997 stored elements in Compressed Sparse Row format>,\n",
       " <1025x4410 sparse matrix of type '<type 'numpy.complex128'>'\n",
       " \twith 70470 stored elements in Compressed Sparse Row format>,\n",
       " <1025x3633 sparse matrix of type '<type 'numpy.complex128'>'\n",
       " \twith 20408 stored elements in Compressed Sparse Row format>,\n",
       " <1025x2067 sparse matrix of type '<type 'numpy.complex128'>'\n",
       " \twith 25931 stored elements in Compressed Sparse Row format>,\n",
       " <1025x2630 sparse matrix of type '<type 'numpy.complex128'>'\n",
       " \twith 62959 stored elements in Compressed Sparse Row format>,\n",
       " <1025x4096 sparse matrix of type '<type 'numpy.complex128'>'\n",
       " \twith 44666 stored elements in Compressed Sparse Row format>,\n",
       " <1025x1289 sparse matrix of type '<type 'numpy.complex128'>'\n",
       " \twith 14718 stored elements in Compressed Sparse Row format>,\n",
       " <1025x2285 sparse matrix of type '<type 'numpy.complex128'>'\n",
       " \twith 8273 stored elements in Compressed Sparse Row format>,\n",
       " <1025x5059 sparse matrix of type '<type 'numpy.complex128'>'\n",
       " \twith 34513 stored elements in Compressed Sparse Row format>,\n",
       " <1025x14184 sparse matrix of type '<type 'numpy.complex128'>'\n",
       " \twith 100296 stored elements in Compressed Sparse Row format>,\n",
       " <1025x4466 sparse matrix of type '<type 'numpy.complex128'>'\n",
       " \twith 57432 stored elements in Compressed Sparse Row format>,\n",
       " <1025x11968 sparse matrix of type '<type 'numpy.complex128'>'\n",
       " \twith 31317 stored elements in Compressed Sparse Row format>,\n",
       " <1025x21089 sparse matrix of type '<type 'numpy.complex128'>'\n",
       " \twith 375394 stored elements in Compressed Sparse Row format>,\n",
       " <1025x86265 sparse matrix of type '<type 'numpy.complex128'>'\n",
       " \twith 473411 stored elements in Compressed Sparse Row format>,\n",
       " <1025x1143 sparse matrix of type '<type 'numpy.complex128'>'\n",
       " \twith 8863 stored elements in Compressed Sparse Row format>,\n",
       " <1025x1095 sparse matrix of type '<type 'numpy.complex128'>'\n",
       " \twith 6517 stored elements in Compressed Sparse Row format>,\n",
       " <1025x16071 sparse matrix of type '<type 'numpy.complex128'>'\n",
       " \twith 93209 stored elements in Compressed Sparse Row format>,\n",
       " <1025x1116 sparse matrix of type '<type 'numpy.complex128'>'\n",
       " \twith 3681 stored elements in Compressed Sparse Row format>,\n",
       " <1025x3324 sparse matrix of type '<type 'numpy.complex128'>'\n",
       " \twith 19275 stored elements in Compressed Sparse Row format>,\n",
       " <1025x352 sparse matrix of type '<type 'numpy.complex128'>'\n",
       " \twith 2889 stored elements in Compressed Sparse Row format>,\n",
       " <1025x2449 sparse matrix of type '<type 'numpy.complex128'>'\n",
       " \twith 16825 stored elements in Compressed Sparse Row format>,\n",
       " <1025x821 sparse matrix of type '<type 'numpy.complex128'>'\n",
       " \twith 15207 stored elements in Compressed Sparse Row format>,\n",
       " <1025x1184 sparse matrix of type '<type 'numpy.complex128'>'\n",
       " \twith 18703 stored elements in Compressed Sparse Row format>,\n",
       " <1025x5399 sparse matrix of type '<type 'numpy.complex128'>'\n",
       " \twith 42440 stored elements in Compressed Sparse Row format>,\n",
       " <1025x749 sparse matrix of type '<type 'numpy.complex128'>'\n",
       " \twith 10602 stored elements in Compressed Sparse Row format>,\n",
       " <1025x19830 sparse matrix of type '<type 'numpy.complex128'>'\n",
       " \twith 417428 stored elements in Compressed Sparse Row format>,\n",
       " <1025x5884 sparse matrix of type '<type 'numpy.complex128'>'\n",
       " \twith 97336 stored elements in Compressed Sparse Row format>,\n",
       " <1025x45999 sparse matrix of type '<type 'numpy.complex128'>'\n",
       " \twith 1066782 stored elements in Compressed Sparse Row format>,\n",
       " <1025x9488 sparse matrix of type '<type 'numpy.complex128'>'\n",
       " \twith 55074 stored elements in Compressed Sparse Row format>,\n",
       " <1025x3628 sparse matrix of type '<type 'numpy.complex128'>'\n",
       " \twith 26293 stored elements in Compressed Sparse Row format>,\n",
       " <1025x30128 sparse matrix of type '<type 'numpy.complex128'>'\n",
       " \twith 481065 stored elements in Compressed Sparse Row format>,\n",
       " <1025x667 sparse matrix of type '<type 'numpy.complex128'>'\n",
       " \twith 5862 stored elements in Compressed Sparse Row format>,\n",
       " <1025x10587 sparse matrix of type '<type 'numpy.complex128'>'\n",
       " \twith 135076 stored elements in Compressed Sparse Row format>,\n",
       " <1025x980 sparse matrix of type '<type 'numpy.complex128'>'\n",
       " \twith 22765 stored elements in Compressed Sparse Row format>,\n",
       " <1025x8313 sparse matrix of type '<type 'numpy.complex128'>'\n",
       " \twith 69895 stored elements in Compressed Sparse Row format>,\n",
       " <1025x22411 sparse matrix of type '<type 'numpy.complex128'>'\n",
       " \twith 166496 stored elements in Compressed Sparse Row format>,\n",
       " <1025x7258 sparse matrix of type '<type 'numpy.complex128'>'\n",
       " \twith 55850 stored elements in Compressed Sparse Row format>,\n",
       " <1025x1424 sparse matrix of type '<type 'numpy.complex128'>'\n",
       " \twith 20465 stored elements in Compressed Sparse Row format>,\n",
       " <1025x354 sparse matrix of type '<type 'numpy.complex128'>'\n",
       " \twith 5334 stored elements in Compressed Sparse Row format>,\n",
       " <1025x3484 sparse matrix of type '<type 'numpy.complex128'>'\n",
       " \twith 31006 stored elements in Compressed Sparse Row format>,\n",
       " <1025x11802 sparse matrix of type '<type 'numpy.complex128'>'\n",
       " \twith 38469 stored elements in Compressed Sparse Row format>,\n",
       " <1025x3695 sparse matrix of type '<type 'numpy.complex128'>'\n",
       " \twith 57389 stored elements in Compressed Sparse Row format>,\n",
       " <1025x1932 sparse matrix of type '<type 'numpy.complex128'>'\n",
       " \twith 31377 stored elements in Compressed Sparse Row format>,\n",
       " <1025x8213 sparse matrix of type '<type 'numpy.complex128'>'\n",
       " \twith 33153 stored elements in Compressed Sparse Row format>,\n",
       " <1025x4250 sparse matrix of type '<type 'numpy.complex128'>'\n",
       " \twith 27533 stored elements in Compressed Sparse Row format>,\n",
       " <1025x590 sparse matrix of type '<type 'numpy.complex128'>'\n",
       " \twith 5079 stored elements in Compressed Sparse Row format>,\n",
       " <1025x5873 sparse matrix of type '<type 'numpy.complex128'>'\n",
       " \twith 33295 stored elements in Compressed Sparse Row format>,\n",
       " <1025x1185 sparse matrix of type '<type 'numpy.complex128'>'\n",
       " \twith 6491 stored elements in Compressed Sparse Row format>,\n",
       " <1025x19809 sparse matrix of type '<type 'numpy.complex128'>'\n",
       " \twith 202130 stored elements in Compressed Sparse Row format>,\n",
       " <1025x1836 sparse matrix of type '<type 'numpy.complex128'>'\n",
       " \twith 22988 stored elements in Compressed Sparse Row format>,\n",
       " <1025x14788 sparse matrix of type '<type 'numpy.complex128'>'\n",
       " \twith 101160 stored elements in Compressed Sparse Row format>,\n",
       " <1025x5119 sparse matrix of type '<type 'numpy.complex128'>'\n",
       " \twith 40561 stored elements in Compressed Sparse Row format>,\n",
       " <1025x3770 sparse matrix of type '<type 'numpy.complex128'>'\n",
       " \twith 18669 stored elements in Compressed Sparse Row format>,\n",
       " <1025x6573 sparse matrix of type '<type 'numpy.complex128'>'\n",
       " \twith 57076 stored elements in Compressed Sparse Row format>,\n",
       " <1025x985 sparse matrix of type '<type 'numpy.complex128'>'\n",
       " \twith 24461 stored elements in Compressed Sparse Row format>,\n",
       " <1025x4320 sparse matrix of type '<type 'numpy.complex128'>'\n",
       " \twith 68163 stored elements in Compressed Sparse Row format>,\n",
       " <1025x2282 sparse matrix of type '<type 'numpy.complex128'>'\n",
       " \twith 21191 stored elements in Compressed Sparse Row format>,\n",
       " <1025x3434 sparse matrix of type '<type 'numpy.complex128'>'\n",
       " \twith 28280 stored elements in Compressed Sparse Row format>,\n",
       " <1025x13838 sparse matrix of type '<type 'numpy.complex128'>'\n",
       " \twith 79684 stored elements in Compressed Sparse Row format>,\n",
       " <1025x2590 sparse matrix of type '<type 'numpy.complex128'>'\n",
       " \twith 29116 stored elements in Compressed Sparse Row format>,\n",
       " <1025x3996 sparse matrix of type '<type 'numpy.complex128'>'\n",
       " \twith 30271 stored elements in Compressed Sparse Row format>,\n",
       " <1025x24095 sparse matrix of type '<type 'numpy.complex128'>'\n",
       " \twith 394438 stored elements in Compressed Sparse Row format>,\n",
       " <1025x3488 sparse matrix of type '<type 'numpy.complex128'>'\n",
       " \twith 25267 stored elements in Compressed Sparse Row format>,\n",
       " <1025x3710 sparse matrix of type '<type 'numpy.complex128'>'\n",
       " \twith 12001 stored elements in Compressed Sparse Row format>,\n",
       " <1025x7566 sparse matrix of type '<type 'numpy.complex128'>'\n",
       " \twith 70441 stored elements in Compressed Sparse Row format>,\n",
       " <1025x33128 sparse matrix of type '<type 'numpy.complex128'>'\n",
       " \twith 313693 stored elements in Compressed Sparse Row format>,\n",
       " <1025x2079 sparse matrix of type '<type 'numpy.complex128'>'\n",
       " \twith 9300 stored elements in Compressed Sparse Row format>,\n",
       " <1025x1330 sparse matrix of type '<type 'numpy.complex128'>'\n",
       " \twith 12408 stored elements in Compressed Sparse Row format>,\n",
       " <1025x10221 sparse matrix of type '<type 'numpy.complex128'>'\n",
       " \twith 80005 stored elements in Compressed Sparse Row format>,\n",
       " <1025x9095 sparse matrix of type '<type 'numpy.complex128'>'\n",
       " \twith 125084 stored elements in Compressed Sparse Row format>,\n",
       " <1025x2421 sparse matrix of type '<type 'numpy.complex128'>'\n",
       " \twith 23996 stored elements in Compressed Sparse Row format>,\n",
       " <1025x2484 sparse matrix of type '<type 'numpy.complex128'>'\n",
       " \twith 21767 stored elements in Compressed Sparse Row format>,\n",
       " <1025x2392 sparse matrix of type '<type 'numpy.complex128'>'\n",
       " \twith 47777 stored elements in Compressed Sparse Row format>,\n",
       " <1025x1419 sparse matrix of type '<type 'numpy.complex128'>'\n",
       " \twith 27647 stored elements in Compressed Sparse Row format>,\n",
       " <1025x3507 sparse matrix of type '<type 'numpy.complex128'>'\n",
       " \twith 17731 stored elements in Compressed Sparse Row format>,\n",
       " <1025x1368 sparse matrix of type '<type 'numpy.complex128'>'\n",
       " \twith 16417 stored elements in Compressed Sparse Row format>,\n",
       " <1025x11571 sparse matrix of type '<type 'numpy.complex128'>'\n",
       " \twith 111584 stored elements in Compressed Sparse Row format>,\n",
       " <1025x7880 sparse matrix of type '<type 'numpy.complex128'>'\n",
       " \twith 83382 stored elements in Compressed Sparse Row format>,\n",
       " <1025x8633 sparse matrix of type '<type 'numpy.complex128'>'\n",
       " \twith 54550 stored elements in Compressed Sparse Row format>,\n",
       " <1025x8337 sparse matrix of type '<type 'numpy.complex128'>'\n",
       " \twith 74526 stored elements in Compressed Sparse Row format>,\n",
       " <1025x8911 sparse matrix of type '<type 'numpy.complex128'>'\n",
       " \twith 66225 stored elements in Compressed Sparse Row format>,\n",
       " <1025x18743 sparse matrix of type '<type 'numpy.complex128'>'\n",
       " \twith 112597 stored elements in Compressed Sparse Row format>,\n",
       " <1025x2319 sparse matrix of type '<type 'numpy.complex128'>'\n",
       " \twith 33083 stored elements in Compressed Sparse Row format>,\n",
       " <1025x9119 sparse matrix of type '<type 'numpy.complex128'>'\n",
       " \twith 217326 stored elements in Compressed Sparse Row format>,\n",
       " <1025x4782 sparse matrix of type '<type 'numpy.complex128'>'\n",
       " \twith 114150 stored elements in Compressed Sparse Row format>,\n",
       " <1025x153 sparse matrix of type '<type 'numpy.complex128'>'\n",
       " \twith 1813 stored elements in Compressed Sparse Row format>,\n",
       " <1025x4268 sparse matrix of type '<type 'numpy.complex128'>'\n",
       " \twith 19751 stored elements in Compressed Sparse Row format>,\n",
       " <1025x55957 sparse matrix of type '<type 'numpy.complex128'>'\n",
       " \twith 141123 stored elements in Compressed Sparse Row format>,\n",
       " <1025x16927 sparse matrix of type '<type 'numpy.complex128'>'\n",
       " \twith 143281 stored elements in Compressed Sparse Row format>,\n",
       " <1025x6501 sparse matrix of type '<type 'numpy.complex128'>'\n",
       " \twith 128729 stored elements in Compressed Sparse Row format>,\n",
       " <1025x3061 sparse matrix of type '<type 'numpy.complex128'>'\n",
       " \twith 8794 stored elements in Compressed Sparse Row format>,\n",
       " <1025x19992 sparse matrix of type '<type 'numpy.complex128'>'\n",
       " \twith 305331 stored elements in Compressed Sparse Row format>,\n",
       " <1025x3533 sparse matrix of type '<type 'numpy.complex128'>'\n",
       " \twith 71425 stored elements in Compressed Sparse Row format>,\n",
       " <1025x5449 sparse matrix of type '<type 'numpy.complex128'>'\n",
       " \twith 27498 stored elements in Compressed Sparse Row format>,\n",
       " <1025x721 sparse matrix of type '<type 'numpy.complex128'>'\n",
       " \twith 60 stored elements in Compressed Sparse Row format>,\n",
       " <1025x5351 sparse matrix of type '<type 'numpy.complex128'>'\n",
       " \twith 71744 stored elements in Compressed Sparse Row format>,\n",
       " <1025x25006 sparse matrix of type '<type 'numpy.complex128'>'\n",
       " \twith 77072 stored elements in Compressed Sparse Row format>,\n",
       " <1025x6790 sparse matrix of type '<type 'numpy.complex128'>'\n",
       " \twith 89862 stored elements in Compressed Sparse Row format>,\n",
       " <1025x161 sparse matrix of type '<type 'numpy.complex128'>'\n",
       " \twith 2027 stored elements in Compressed Sparse Row format>,\n",
       " <1025x12016 sparse matrix of type '<type 'numpy.complex128'>'\n",
       " \twith 51182 stored elements in Compressed Sparse Row format>,\n",
       " <1025x521 sparse matrix of type '<type 'numpy.complex128'>'\n",
       " \twith 10035 stored elements in Compressed Sparse Row format>,\n",
       " <1025x3517 sparse matrix of type '<type 'numpy.complex128'>'\n",
       " \twith 20557 stored elements in Compressed Sparse Row format>,\n",
       " <1025x7983 sparse matrix of type '<type 'numpy.complex128'>'\n",
       " \twith 82050 stored elements in Compressed Sparse Row format>,\n",
       " <1025x319 sparse matrix of type '<type 'numpy.complex128'>'\n",
       " \twith 2609 stored elements in Compressed Sparse Row format>,\n",
       " <1025x693 sparse matrix of type '<type 'numpy.complex128'>'\n",
       " \twith 5572 stored elements in Compressed Sparse Row format>,\n",
       " <1025x5618 sparse matrix of type '<type 'numpy.complex128'>'\n",
       " \twith 38348 stored elements in Compressed Sparse Row format>,\n",
       " <1025x831 sparse matrix of type '<type 'numpy.complex128'>'\n",
       " \twith 15967 stored elements in Compressed Sparse Row format>,\n",
       " <1025x1342 sparse matrix of type '<type 'numpy.complex128'>'\n",
       " \twith 6823 stored elements in Compressed Sparse Row format>,\n",
       " <1025x3482 sparse matrix of type '<type 'numpy.complex128'>'\n",
       " \twith 83691 stored elements in Compressed Sparse Row format>,\n",
       " <1025x822 sparse matrix of type '<type 'numpy.complex128'>'\n",
       " \twith 8015 stored elements in Compressed Sparse Row format>,\n",
       " <1025x19295 sparse matrix of type '<type 'numpy.complex128'>'\n",
       " \twith 147521 stored elements in Compressed Sparse Row format>,\n",
       " <1025x4397 sparse matrix of type '<type 'numpy.complex128'>'\n",
       " \twith 56875 stored elements in Compressed Sparse Row format>,\n",
       " <1025x2616 sparse matrix of type '<type 'numpy.complex128'>'\n",
       " \twith 32567 stored elements in Compressed Sparse Row format>,\n",
       " <1025x13833 sparse matrix of type '<type 'numpy.complex128'>'\n",
       " \twith 127238 stored elements in Compressed Sparse Row format>,\n",
       " <1025x13133 sparse matrix of type '<type 'numpy.complex128'>'\n",
       " \twith 151834 stored elements in Compressed Sparse Row format>,\n",
       " <1025x4605 sparse matrix of type '<type 'numpy.complex128'>'\n",
       " \twith 28451 stored elements in Compressed Sparse Row format>,\n",
       " <1025x46486 sparse matrix of type '<type 'numpy.complex128'>'\n",
       " \twith 871958 stored elements in Compressed Sparse Row format>,\n",
       " <1025x5428 sparse matrix of type '<type 'numpy.complex128'>'\n",
       " \twith 36883 stored elements in Compressed Sparse Row format>,\n",
       " <1025x4154 sparse matrix of type '<type 'numpy.complex128'>'\n",
       " \twith 44728 stored elements in Compressed Sparse Row format>,\n",
       " <1025x3098 sparse matrix of type '<type 'numpy.complex128'>'\n",
       " \twith 29596 stored elements in Compressed Sparse Row format>,\n",
       " <1025x7106 sparse matrix of type '<type 'numpy.complex128'>'\n",
       " \twith 74361 stored elements in Compressed Sparse Row format>,\n",
       " <1025x7673 sparse matrix of type '<type 'numpy.complex128'>'\n",
       " \twith 93935 stored elements in Compressed Sparse Row format>,\n",
       " <1025x603 sparse matrix of type '<type 'numpy.complex128'>'\n",
       " \twith 6630 stored elements in Compressed Sparse Row format>,\n",
       " <1025x18895 sparse matrix of type '<type 'numpy.complex128'>'\n",
       " \twith 287246 stored elements in Compressed Sparse Row format>,\n",
       " <1025x1128 sparse matrix of type '<type 'numpy.complex128'>'\n",
       " \twith 9061 stored elements in Compressed Sparse Row format>,\n",
       " <1025x58324 sparse matrix of type '<type 'numpy.complex128'>'\n",
       " \twith 306683 stored elements in Compressed Sparse Row format>]"
      ]
     },
     "execution_count": 7,
     "metadata": {},
     "output_type": "execute_result"
    }
   ],
   "source": [
    "Amins"
   ]
  },
  {
   "cell_type": "code",
   "execution_count": 9,
   "metadata": {},
   "outputs": [
    {
     "name": "stdout",
     "output_type": "stream",
     "text": [
      "CPU times: user 40min 5s, sys: 6.45 s, total: 40min 11s\n",
      "Wall time: 40min 26s\n"
     ]
    }
   ],
   "source": [
    "%%time\n",
    "maj_sums = map(absolute, [sum([chord[:,i] for i in range(chord.shape[1])]) for chord in Amajs])"
   ]
  },
  {
   "cell_type": "code",
   "execution_count": 10,
   "metadata": {},
   "outputs": [
    {
     "name": "stdout",
     "output_type": "stream",
     "text": [
      "CPU times: user 11min 23s, sys: 908 ms, total: 11min 24s\n",
      "Wall time: 11min 30s\n"
     ]
    }
   ],
   "source": [
    "%%time\n",
    "min_sums = map(absolute, [sum([chord[:,i] for i in range(chord.shape[1])]) for chord in Amins])"
   ]
  },
  {
   "cell_type": "code",
   "execution_count": 11,
   "metadata": {},
   "outputs": [
    {
     "ename": "KeyboardInterrupt",
     "evalue": "",
     "output_type": "error",
     "traceback": [
      "\u001b[0;31m---------------------------------------------------------------------------\u001b[0m",
      "\u001b[0;31mKeyboardInterrupt\u001b[0m                         Traceback (most recent call last)",
      "\u001b[0;32m<ipython-input-11-e64d373468fd>\u001b[0m in \u001b[0;36m<module>\u001b[0;34m()\u001b[0m\n\u001b[0;32m----> 1\u001b[0;31m \u001b[0mget_ipython\u001b[0m\u001b[0;34m(\u001b[0m\u001b[0;34m)\u001b[0m\u001b[0;34m.\u001b[0m\u001b[0mrun_cell_magic\u001b[0m\u001b[0;34m(\u001b[0m\u001b[0;34mu'time'\u001b[0m\u001b[0;34m,\u001b[0m \u001b[0;34mu''\u001b[0m\u001b[0;34m,\u001b[0m \u001b[0;34mu'non_sums = map(absolute, [sum([chord[:,i] for i in range(chord.shape[1])]) for chord in Nons])'\u001b[0m\u001b[0;34m)\u001b[0m\u001b[0;34m\u001b[0m\u001b[0m\n\u001b[0m",
      "\u001b[0;32m/home/egor/anaconda2/lib/python2.7/site-packages/IPython/core/interactiveshell.pyc\u001b[0m in \u001b[0;36mrun_cell_magic\u001b[0;34m(self, magic_name, line, cell)\u001b[0m\n\u001b[1;32m   2113\u001b[0m             \u001b[0mmagic_arg_s\u001b[0m \u001b[0;34m=\u001b[0m \u001b[0mself\u001b[0m\u001b[0;34m.\u001b[0m\u001b[0mvar_expand\u001b[0m\u001b[0;34m(\u001b[0m\u001b[0mline\u001b[0m\u001b[0;34m,\u001b[0m \u001b[0mstack_depth\u001b[0m\u001b[0;34m)\u001b[0m\u001b[0;34m\u001b[0m\u001b[0m\n\u001b[1;32m   2114\u001b[0m             \u001b[0;32mwith\u001b[0m \u001b[0mself\u001b[0m\u001b[0;34m.\u001b[0m\u001b[0mbuiltin_trap\u001b[0m\u001b[0;34m:\u001b[0m\u001b[0;34m\u001b[0m\u001b[0m\n\u001b[0;32m-> 2115\u001b[0;31m                 \u001b[0mresult\u001b[0m \u001b[0;34m=\u001b[0m \u001b[0mfn\u001b[0m\u001b[0;34m(\u001b[0m\u001b[0mmagic_arg_s\u001b[0m\u001b[0;34m,\u001b[0m \u001b[0mcell\u001b[0m\u001b[0;34m)\u001b[0m\u001b[0;34m\u001b[0m\u001b[0m\n\u001b[0m\u001b[1;32m   2116\u001b[0m             \u001b[0;32mreturn\u001b[0m \u001b[0mresult\u001b[0m\u001b[0;34m\u001b[0m\u001b[0m\n\u001b[1;32m   2117\u001b[0m \u001b[0;34m\u001b[0m\u001b[0m\n",
      "\u001b[0;32m<decorator-gen-59>\u001b[0m in \u001b[0;36mtime\u001b[0;34m(self, line, cell, local_ns)\u001b[0m\n",
      "\u001b[0;32m/home/egor/anaconda2/lib/python2.7/site-packages/IPython/core/magic.pyc\u001b[0m in \u001b[0;36m<lambda>\u001b[0;34m(f, *a, **k)\u001b[0m\n\u001b[1;32m    186\u001b[0m     \u001b[0;31m# but it's overkill for just that one bit of state.\u001b[0m\u001b[0;34m\u001b[0m\u001b[0;34m\u001b[0m\u001b[0m\n\u001b[1;32m    187\u001b[0m     \u001b[0;32mdef\u001b[0m \u001b[0mmagic_deco\u001b[0m\u001b[0;34m(\u001b[0m\u001b[0marg\u001b[0m\u001b[0;34m)\u001b[0m\u001b[0;34m:\u001b[0m\u001b[0;34m\u001b[0m\u001b[0m\n\u001b[0;32m--> 188\u001b[0;31m         \u001b[0mcall\u001b[0m \u001b[0;34m=\u001b[0m \u001b[0;32mlambda\u001b[0m \u001b[0mf\u001b[0m\u001b[0;34m,\u001b[0m \u001b[0;34m*\u001b[0m\u001b[0ma\u001b[0m\u001b[0;34m,\u001b[0m \u001b[0;34m**\u001b[0m\u001b[0mk\u001b[0m\u001b[0;34m:\u001b[0m \u001b[0mf\u001b[0m\u001b[0;34m(\u001b[0m\u001b[0;34m*\u001b[0m\u001b[0ma\u001b[0m\u001b[0;34m,\u001b[0m \u001b[0;34m**\u001b[0m\u001b[0mk\u001b[0m\u001b[0;34m)\u001b[0m\u001b[0;34m\u001b[0m\u001b[0m\n\u001b[0m\u001b[1;32m    189\u001b[0m \u001b[0;34m\u001b[0m\u001b[0m\n\u001b[1;32m    190\u001b[0m         \u001b[0;32mif\u001b[0m \u001b[0mcallable\u001b[0m\u001b[0;34m(\u001b[0m\u001b[0marg\u001b[0m\u001b[0;34m)\u001b[0m\u001b[0;34m:\u001b[0m\u001b[0;34m\u001b[0m\u001b[0m\n",
      "\u001b[0;32m/home/egor/anaconda2/lib/python2.7/site-packages/IPython/core/magics/execution.pyc\u001b[0m in \u001b[0;36mtime\u001b[0;34m(self, line, cell, local_ns)\u001b[0m\n\u001b[1;32m   1183\u001b[0m         \u001b[0;32melse\u001b[0m\u001b[0;34m:\u001b[0m\u001b[0;34m\u001b[0m\u001b[0m\n\u001b[1;32m   1184\u001b[0m             \u001b[0mst\u001b[0m \u001b[0;34m=\u001b[0m \u001b[0mclock2\u001b[0m\u001b[0;34m(\u001b[0m\u001b[0;34m)\u001b[0m\u001b[0;34m\u001b[0m\u001b[0m\n\u001b[0;32m-> 1185\u001b[0;31m             \u001b[0;32mexec\u001b[0m\u001b[0;34m(\u001b[0m\u001b[0mcode\u001b[0m\u001b[0;34m,\u001b[0m \u001b[0mglob\u001b[0m\u001b[0;34m,\u001b[0m \u001b[0mlocal_ns\u001b[0m\u001b[0;34m)\u001b[0m\u001b[0;34m\u001b[0m\u001b[0m\n\u001b[0m\u001b[1;32m   1186\u001b[0m             \u001b[0mend\u001b[0m \u001b[0;34m=\u001b[0m \u001b[0mclock2\u001b[0m\u001b[0;34m(\u001b[0m\u001b[0;34m)\u001b[0m\u001b[0;34m\u001b[0m\u001b[0m\n\u001b[1;32m   1187\u001b[0m             \u001b[0mout\u001b[0m \u001b[0;34m=\u001b[0m \u001b[0mNone\u001b[0m\u001b[0;34m\u001b[0m\u001b[0m\n",
      "\u001b[0;32m<timed exec>\u001b[0m in \u001b[0;36m<module>\u001b[0;34m()\u001b[0m\n",
      "\u001b[0;31mKeyboardInterrupt\u001b[0m: "
     ]
    }
   ],
   "source": [
    "%%time\n",
    "non_sums = map(absolute, [sum([chord[:,i] for i in range(chord.shape[1])]) for chord in Nons])"
   ]
  },
  {
   "cell_type": "markdown",
   "metadata": {},
   "source": [
    "Нормализация сумм"
   ]
  },
  {
   "cell_type": "code",
   "execution_count": null,
   "metadata": {
    "collapsed": true
   },
   "outputs": [],
   "source": [
    "maj_sums_norm = map(lambda x: x/sum(x).toarray()[0][0], maj_sums)\n",
    "min_sums_norm = map(lambda x: x/sum(x).toarray()[0][0], min_sums)\n",
    "non_sums_norm = map(lambda x: x/sum(x).toarray()[0][0], non_sums)"
   ]
  },
  {
   "cell_type": "markdown",
   "metadata": {},
   "source": [
    "Средние частоты ненормализованные"
   ]
  },
  {
   "cell_type": "code",
   "execution_count": null,
   "metadata": {
    "collapsed": true
   },
   "outputs": [],
   "source": [
    "maj_avg = csr_matrix(np.sum(sp.sparse.hstack(maj_sums).tocsr().toarray(), axis=1)).T\n",
    "min_avg = csr_matrix(np.sum(sp.sparse.hstack(min_sums).tocsr().toarray(), axis=1)).T\n",
    "non_avg = csr_matrix(np.sum(sp.sparse.hstack(non_sums).tocsr().toarray(), axis=1)).T"
   ]
  },
  {
   "cell_type": "markdown",
   "metadata": {},
   "source": [
    "Средние частоты нормализованные"
   ]
  },
  {
   "cell_type": "code",
   "execution_count": null,
   "metadata": {
    "collapsed": true
   },
   "outputs": [],
   "source": [
    "maj_avg_norm = csr_matrix(np.sum(sp.sparse.hstack(maj_sums_norm).tocsr().toarray(), axis=1)).T\n",
    "min_avg_norm = csr_matrix(np.sum(sp.sparse.hstack(min_sums_norm).tocsr().toarray(), axis=1)).T\n",
    "non_avg_norm = csr_matrix(np.sum(sp.sparse.hstack(non_sums_norm).tocsr().toarray(), axis=1)).T"
   ]
  },
  {
   "cell_type": "code",
   "execution_count": null,
   "metadata": {
    "collapsed": true
   },
   "outputs": [],
   "source": [
    "type(maj_sums[0].toarray())"
   ]
  },
  {
   "cell_type": "code",
   "execution_count": null,
   "metadata": {
    "collapsed": true
   },
   "outputs": [],
   "source": [
    "print maj_sums[0].shape\n",
    "print maj_avg.shape"
   ]
  },
  {
   "cell_type": "code",
   "execution_count": null,
   "metadata": {
    "collapsed": true
   },
   "outputs": [],
   "source": [
    "plot_frequencies([maj_avg, min_avg, non_avg], figsize=(15,8), colors=['r','b', 'g'], titles=['maj_avg', 'min_avg','non_avg'])\n",
    "#plot_frequencies([np.log(maj_avg)] )\n",
    "#plot_frequencies([maj_sums[0]], figsize=(15,5))"
   ]
  },
  {
   "cell_type": "code",
   "execution_count": null,
   "metadata": {
    "collapsed": true
   },
   "outputs": [],
   "source": [
    "plot_frequencies([maj_avg_norm, min_avg_norm, non_avg_norm], figsize=(15,8), colors=['r','b', 'g'], titles=['maj_avg', 'min_avg','non_avg'])"
   ]
  },
  {
   "cell_type": "code",
   "execution_count": null,
   "metadata": {
    "collapsed": true
   },
   "outputs": [],
   "source": [
    "plot_frequencies([maj_avg_norm, min_avg_norm], figsize=(15,8), colors=['r','b'], titles=['maj_avg', 'min_avg'])"
   ]
  },
  {
   "cell_type": "code",
   "execution_count": null,
   "metadata": {
    "collapsed": true
   },
   "outputs": [],
   "source": [
    "plt.figure(figsize=(15, 7.5))\n",
    "plt.imshow(sp.absolute(Amajs[0].toarray()), origin=\"lower\", cmap=\"jet\",aspect=\"auto\", interpolation=\"nearest\")\n",
    "#plt.pcolormesh(times, frequencies, spectogram)\n",
    "#plt.colorbar()\n",
    "#plt.ylabel('Frequency [Hz]')\n",
    "#plt.xlabel('Time [sec]')\n",
    "plt.show()"
   ]
  }
 ],
 "metadata": {
  "kernelspec": {
   "display_name": "Python 3",
   "language": "python",
   "name": "python3"
  },
  "language_info": {
   "codemirror_mode": {
    "name": "ipython",
    "version": 3
   },
   "file_extension": ".py",
   "mimetype": "text/x-python",
   "name": "python",
   "nbconvert_exporter": "python",
   "pygments_lexer": "ipython3",
   "version": "3.5.2"
  }
 },
 "nbformat": 4,
 "nbformat_minor": 2
}
