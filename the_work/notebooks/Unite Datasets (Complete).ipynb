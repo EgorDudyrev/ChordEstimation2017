{
 "cells": [
  {
   "cell_type": "markdown",
   "metadata": {},
   "source": [
    "# Описание ноутбука\n",
    "Задача: объединить несколько датасетов и создать единую базу данных песен и их транскрипций"
   ]
  },
  {
   "cell_type": "code",
   "execution_count": 1,
   "metadata": {
    "collapsed": true
   },
   "outputs": [],
   "source": [
    "import os\n",
    "import shutil\n",
    "from tqdm import tqdm_notebook\n",
    "import re\n",
    "import pandas as pd\n",
    "\n",
    "from chord_scripts import format_fname, secs_to_string, string_to_secs, time_delta"
   ]
  },
  {
   "cell_type": "code",
   "execution_count": 2,
   "metadata": {
    "collapsed": true
   },
   "outputs": [],
   "source": [
    "BASE_DIR = os.path.realpath(os.getcwd()+'../../..')\n",
    "AUDIO_DIR = os.path.realpath(BASE_DIR+'/audio')\n",
    "PARSED_DIR = os.path.realpath(BASE_DIR+'/parsed')"
   ]
  },
  {
   "cell_type": "markdown",
   "metadata": {
    "collapsed": true
   },
   "source": [
    "# Приводим названия файлов к унифицированному виду"
   ]
  },
  {
   "cell_type": "markdown",
   "metadata": {},
   "source": [
    "## Перемещаем музыку"
   ]
  },
  {
   "cell_type": "markdown",
   "metadata": {},
   "source": [
    "Создаём единый датасет загруженных песен"
   ]
  },
  {
   "cell_type": "markdown",
   "metadata": {},
   "source": [
    "billboard датасет"
   ]
  },
  {
   "cell_type": "code",
   "execution_count": 3,
   "metadata": {},
   "outputs": [
    {
     "data": {
      "text/html": [
       "<div>\n",
       "<style>\n",
       "    .dataframe thead tr:only-child th {\n",
       "        text-align: right;\n",
       "    }\n",
       "\n",
       "    .dataframe thead th {\n",
       "        text-align: left;\n",
       "    }\n",
       "\n",
       "    .dataframe tbody tr th {\n",
       "        vertical-align: top;\n",
       "    }\n",
       "</style>\n",
       "<table border=\"1\" class=\"dataframe\">\n",
       "  <thead>\n",
       "    <tr style=\"text-align: right;\">\n",
       "      <th></th>\n",
       "      <th>title</th>\n",
       "      <th>artist</th>\n",
       "      <th>number</th>\n",
       "      <th>duration</th>\n",
       "      <th>t_eps</th>\n",
       "      <th>href</th>\n",
       "      <th>status</th>\n",
       "      <th>ds</th>\n",
       "    </tr>\n",
       "  </thead>\n",
       "  <tbody>\n",
       "    <tr>\n",
       "      <th>0</th>\n",
       "      <td>i_dont_mind</td>\n",
       "      <td>james_brown</td>\n",
       "      <td>3</td>\n",
       "      <td>02:31</td>\n",
       "      <td>1.0</td>\n",
       "      <td>NaN</td>\n",
       "      <td>Downloaded</td>\n",
       "      <td>billboard</td>\n",
       "    </tr>\n",
       "    <tr>\n",
       "      <th>1</th>\n",
       "      <td>youve_got_a_friend</td>\n",
       "      <td>roberta_flack_and_donny_hathaway</td>\n",
       "      <td>4</td>\n",
       "      <td>03:27</td>\n",
       "      <td>0.0</td>\n",
       "      <td>NaN</td>\n",
       "      <td>Downloaded</td>\n",
       "      <td>billboard</td>\n",
       "    </tr>\n",
       "    <tr>\n",
       "      <th>2</th>\n",
       "      <td>the_rose</td>\n",
       "      <td>bette_midler</td>\n",
       "      <td>6</td>\n",
       "      <td>03:41</td>\n",
       "      <td>-1.0</td>\n",
       "      <td>NaN</td>\n",
       "      <td>Downloaded</td>\n",
       "      <td>billboard</td>\n",
       "    </tr>\n",
       "    <tr>\n",
       "      <th>3</th>\n",
       "      <td>an_innocent_man</td>\n",
       "      <td>billy_joel</td>\n",
       "      <td>10</td>\n",
       "      <td>05:18</td>\n",
       "      <td>0.0</td>\n",
       "      <td>NaN</td>\n",
       "      <td>Downloaded</td>\n",
       "      <td>billboard</td>\n",
       "    </tr>\n",
       "    <tr>\n",
       "      <th>4</th>\n",
       "      <td>lookin_for_love</td>\n",
       "      <td>johnny_lee</td>\n",
       "      <td>12</td>\n",
       "      <td>03:32</td>\n",
       "      <td>0.0</td>\n",
       "      <td>NaN</td>\n",
       "      <td>Downloaded</td>\n",
       "      <td>billboard</td>\n",
       "    </tr>\n",
       "  </tbody>\n",
       "</table>\n",
       "</div>"
      ],
      "text/plain": [
       "                title                            artist  number duration  \\\n",
       "0         i_dont_mind                       james_brown       3    02:31   \n",
       "1  youve_got_a_friend  roberta_flack_and_donny_hathaway       4    03:27   \n",
       "2            the_rose                      bette_midler       6    03:41   \n",
       "3     an_innocent_man                        billy_joel      10    05:18   \n",
       "4     lookin_for_love                        johnny_lee      12    03:32   \n",
       "\n",
       "   t_eps href      status         ds  \n",
       "0    1.0  NaN  Downloaded  billboard  \n",
       "1    0.0  NaN  Downloaded  billboard  \n",
       "2   -1.0  NaN  Downloaded  billboard  \n",
       "3    0.0  NaN  Downloaded  billboard  \n",
       "4    0.0  NaN  Downloaded  billboard  "
      ]
     },
     "execution_count": 3,
     "metadata": {},
     "output_type": "execute_result"
    }
   ],
   "source": [
    "bb_ds = pd.read_csv(BASE_DIR+'/dsets/billboard_songs_ds.csv', index_col=0)\n",
    "bb_ds['ds']='billboard'\n",
    "bb_ds.head()"
   ]
  },
  {
   "cell_type": "markdown",
   "metadata": {},
   "source": [
    "Датасет isophonics. Но я его называю chordlab"
   ]
  },
  {
   "cell_type": "code",
   "execution_count": 4,
   "metadata": {},
   "outputs": [
    {
     "data": {
      "text/html": [
       "<div>\n",
       "<style>\n",
       "    .dataframe thead tr:only-child th {\n",
       "        text-align: right;\n",
       "    }\n",
       "\n",
       "    .dataframe thead th {\n",
       "        text-align: left;\n",
       "    }\n",
       "\n",
       "    .dataframe tbody tr th {\n",
       "        vertical-align: top;\n",
       "    }\n",
       "</style>\n",
       "<table border=\"1\" class=\"dataframe\">\n",
       "  <thead>\n",
       "    <tr style=\"text-align: right;\">\n",
       "      <th></th>\n",
       "      <th>title</th>\n",
       "      <th>artist</th>\n",
       "      <th>number</th>\n",
       "      <th>duration</th>\n",
       "      <th>t_eps</th>\n",
       "      <th>href</th>\n",
       "      <th>status</th>\n",
       "      <th>ds</th>\n",
       "    </tr>\n",
       "  </thead>\n",
       "  <tbody>\n",
       "    <tr>\n",
       "      <th>0</th>\n",
       "      <td>your_mother_should_know</td>\n",
       "      <td>the_beatles</td>\n",
       "      <td>905</td>\n",
       "      <td>02:30</td>\n",
       "      <td>0.0</td>\n",
       "      <td>NaN</td>\n",
       "      <td>Downloaded</td>\n",
       "      <td>chordlab</td>\n",
       "    </tr>\n",
       "    <tr>\n",
       "      <th>1</th>\n",
       "      <td>baby_youre_a_rich_man</td>\n",
       "      <td>the_beatles</td>\n",
       "      <td>910</td>\n",
       "      <td>03:04</td>\n",
       "      <td>0.0</td>\n",
       "      <td>NaN</td>\n",
       "      <td>Downloaded</td>\n",
       "      <td>chordlab</td>\n",
       "    </tr>\n",
       "    <tr>\n",
       "      <th>2</th>\n",
       "      <td>flying</td>\n",
       "      <td>the_beatles</td>\n",
       "      <td>903</td>\n",
       "      <td>02:17</td>\n",
       "      <td>0.0</td>\n",
       "      <td>NaN</td>\n",
       "      <td>Downloaded</td>\n",
       "      <td>chordlab</td>\n",
       "    </tr>\n",
       "    <tr>\n",
       "      <th>3</th>\n",
       "      <td>hello_goodbye</td>\n",
       "      <td>the_beatles</td>\n",
       "      <td>907</td>\n",
       "      <td>03:31</td>\n",
       "      <td>0.0</td>\n",
       "      <td>NaN</td>\n",
       "      <td>Downloaded</td>\n",
       "      <td>chordlab</td>\n",
       "    </tr>\n",
       "    <tr>\n",
       "      <th>4</th>\n",
       "      <td>i_am_the_walrus</td>\n",
       "      <td>the_beatles</td>\n",
       "      <td>906</td>\n",
       "      <td>04:37</td>\n",
       "      <td>0.0</td>\n",
       "      <td>NaN</td>\n",
       "      <td>Downloaded</td>\n",
       "      <td>chordlab</td>\n",
       "    </tr>\n",
       "  </tbody>\n",
       "</table>\n",
       "</div>"
      ],
      "text/plain": [
       "                     title       artist  number duration  t_eps href  \\\n",
       "0  your_mother_should_know  the_beatles     905    02:30    0.0  NaN   \n",
       "1    baby_youre_a_rich_man  the_beatles     910    03:04    0.0  NaN   \n",
       "2                   flying  the_beatles     903    02:17    0.0  NaN   \n",
       "3            hello_goodbye  the_beatles     907    03:31    0.0  NaN   \n",
       "4          i_am_the_walrus  the_beatles     906    04:37    0.0  NaN   \n",
       "\n",
       "       status        ds  \n",
       "0  Downloaded  chordlab  \n",
       "1  Downloaded  chordlab  \n",
       "2  Downloaded  chordlab  \n",
       "3  Downloaded  chordlab  \n",
       "4  Downloaded  chordlab  "
      ]
     },
     "execution_count": 4,
     "metadata": {},
     "output_type": "execute_result"
    }
   ],
   "source": [
    "cl_ds = pd.read_csv(BASE_DIR+'/dsets/chordlab_songs_ds.csv', index_col=0)\n",
    "cl_ds['ds']='chordlab'\n",
    "cl_ds.head()"
   ]
  },
  {
   "cell_type": "markdown",
   "metadata": {},
   "source": [
    "Общий датасет"
   ]
  },
  {
   "cell_type": "code",
   "execution_count": 5,
   "metadata": {},
   "outputs": [
    {
     "data": {
      "text/plain": [
       "(1029, 7)"
      ]
     },
     "execution_count": 5,
     "metadata": {},
     "output_type": "execute_result"
    }
   ],
   "source": [
    "un_ds = bb_ds[bb_ds['status']=='Downloaded']\n",
    "un_ds = un_ds.append(cl_ds[cl_ds['status']=='Downloaded'])\n",
    "un_ds = un_ds.drop('status', axis=1) # Т.к. статус везде = Downloaded\n",
    "un_ds.index = range(len(un_ds))\n",
    "un_ds.shape"
   ]
  },
  {
   "cell_type": "markdown",
   "metadata": {},
   "source": [
    "Сохраняем общий датасет"
   ]
  },
  {
   "cell_type": "code",
   "execution_count": 6,
   "metadata": {
    "collapsed": true
   },
   "outputs": [],
   "source": [
    "un_ds.to_csv(BASE_DIR+'/dsets/united_songs_ds.csv')"
   ]
  },
  {
   "cell_type": "markdown",
   "metadata": {},
   "source": [
    "Перемещаем все песни в общую папку"
   ]
  },
  {
   "cell_type": "code",
   "execution_count": 7,
   "metadata": {},
   "outputs": [
    {
     "data": {
      "application/vnd.jupyter.widget-view+json": {
       "model_id": "b170f95df7fc4057908bc3aaf384d89c",
       "version_major": 2,
       "version_minor": 0
      },
      "text/plain": [
       "A Jupyter Widget"
      ]
     },
     "metadata": {},
     "output_type": "display_data"
    },
    {
     "name": "stdout",
     "output_type": "stream",
     "text": [
      "\n"
     ]
    }
   ],
   "source": [
    "for ind, row in tqdm_notebook(un_ds.iterrows(), total=len(un_ds)):\n",
    "    prename = 'bb' if row['ds'] == 'billboard' else 'cl'\n",
    "    fname = '{}_{}-{}.mp3'.format(row['number'], row['artist'], row['title'])\n",
    "    src_name = '{}/{}/{}'.format(AUDIO_DIR, row['ds'], fname)\n",
    "    dst_name = '{}/{}/{}_{}'.format(AUDIO_DIR, 'united', prename, fname)\n",
    "    shutil.copy(src_name, dst_name)"
   ]
  },
  {
   "cell_type": "markdown",
   "metadata": {},
   "source": [
    "## Перемещаем транскрипции"
   ]
  },
  {
   "cell_type": "markdown",
   "metadata": {},
   "source": [
    "### chordlab"
   ]
  },
  {
   "cell_type": "markdown",
   "metadata": {},
   "source": [
    "Перемещаем транскрипции chordlab в единую папку"
   ]
  },
  {
   "cell_type": "markdown",
   "metadata": {},
   "source": [
    "Транскрипции the beatles"
   ]
  },
  {
   "cell_type": "code",
   "execution_count": 8,
   "metadata": {
    "collapsed": true
   },
   "outputs": [],
   "source": [
    "cl_beatles = un_ds[(un_ds['ds']=='chordlab')&(un_ds['artist']=='the_beatles')]\n",
    "beatles_albums = os.listdir(PARSED_DIR+'/chordlab/The_Beatles/')\n",
    "for ind, row in cl_beatles.iterrows():\n",
    "    alb_num = str(row['number'])[:-2]\n",
    "    alb_num = '0'+alb_num if len(alb_num)==1 else alb_num\n",
    "    alb = list(filter(lambda x: x.replace('CD','').startswith(alb_num), beatles_albums))[0]\n",
    "    \n",
    "    song_num = str(row['number'])[-2:]\n",
    "    fname = '{}_-_{}.lab'.format(song_num, row['title'])\n",
    "    nfname = 'cl_{}_{}-{}.lab'.format(row['number'], row['artist'], row['title'])\n",
    "    shutil.copy(PARSED_DIR+'/chordlab/The_Beatles/'+alb+'/'+fname, PARSED_DIR+'/united/'+nfname)"
   ]
  },
  {
   "cell_type": "markdown",
   "metadata": {},
   "source": [
    "Транскрипции carol king"
   ]
  },
  {
   "cell_type": "code",
   "execution_count": 9,
   "metadata": {
    "collapsed": true
   },
   "outputs": [],
   "source": [
    "cl_cking = un_ds[(un_ds['ds']=='chordlab')&(un_ds['artist']=='carol_king')]\n",
    "for ind, row in cl_cking.iterrows():\n",
    "    fname = '0{}_{}.lab'.format(row['number'], row['title'])\n",
    "    nfname = 'cl_{}_{}-{}.lab'.format(row['number'], row['artist'],row['title'])\n",
    "    shutil.copy(PARSED_DIR+'/chordlab/Carol_King/'+fname, PARSED_DIR+'/united/'+nfname)"
   ]
  },
  {
   "cell_type": "markdown",
   "metadata": {},
   "source": [
    "Транскрипции queen"
   ]
  },
  {
   "cell_type": "code",
   "execution_count": 10,
   "metadata": {
    "collapsed": true
   },
   "outputs": [],
   "source": [
    "cl_queen = un_ds[(un_ds['ds']=='chordlab')&(un_ds['artist']=='queen')]\n",
    "queen_albums = os.listdir(PARSED_DIR+'/chordlab/Queen/')\n",
    "for ind, row in cl_queen.iterrows():\n",
    "    alb_num = str(row['number'])[0]\n",
    "    album = list(filter(lambda x: x.endswith(alb_num), queen_albums))[0]\n",
    "    \n",
    "    song_num = str(row['number'])[1:]\n",
    "    fname = '{}_{}.lab'.format(song_num, row['title'])\n",
    "    nfname = 'cl_{}_{}-{}.lab'.format(row['number'], row['artist'],row['title'])\n",
    "    shutil.copy(PARSED_DIR+'/chordlab/Queen/'+album+'/'+fname, PARSED_DIR+'/united/'+nfname)"
   ]
  },
  {
   "cell_type": "markdown",
   "metadata": {},
   "source": [
    "### billboard"
   ]
  },
  {
   "cell_type": "code",
   "execution_count": 11,
   "metadata": {},
   "outputs": [
    {
     "data": {
      "application/vnd.jupyter.widget-view+json": {
       "model_id": "9ac0ae6482ec437bbb4c3a320ccb5ea7",
       "version_major": 2,
       "version_minor": 0
      },
      "text/plain": [
       "A Jupyter Widget"
      ]
     },
     "metadata": {},
     "output_type": "display_data"
    },
    {
     "name": "stdout",
     "output_type": "stream",
     "text": [
      "\n"
     ]
    }
   ],
   "source": [
    "bb_dled = un_ds[un_ds['ds']=='billboard']\n",
    "for row in tqdm_notebook(bb_dled.iterrows(), total=len(bb_dled), desc='Walking rows'):\n",
    "    ind, row = row\n",
    "    number = str(row['number'])\n",
    "    number = '0'*(4-len(number))+number\n",
    "    fname = '{}/billboard/{}/full.lab'.format(PARSED_DIR,number)\n",
    "    \n",
    "    nfname = '{}/united/bb_{}_{}-{}.lab'.format(PARSED_DIR,row['number'],row['artist'],row['title'])\n",
    "    shutil.copy(fname, nfname)"
   ]
  },
  {
   "cell_type": "code",
   "execution_count": 12,
   "metadata": {},
   "outputs": [
    {
     "name": "stdout",
     "output_type": "stream",
     "text": [
      "Все транскрипции перемещены: True\n"
     ]
    }
   ],
   "source": [
    "print('Все транскрипции перемещены:',len(os.listdir(PARSED_DIR+'/united/'))==len(un_ds))"
   ]
  },
  {
   "cell_type": "markdown",
   "metadata": {},
   "source": [
    "# Проверка наличия всех пар песен и транскрипций"
   ]
  },
  {
   "cell_type": "code",
   "execution_count": 13,
   "metadata": {
    "collapsed": true
   },
   "outputs": [],
   "source": [
    "for f in os.listdir(AUDIO_DIR+'/united'):\n",
    "    if not os.path.isfile(PARSED_DIR+'/united/'+f[:-3]+'lab'):\n",
    "        print('Аудио',f,'нет транскрипции')\n",
    "for f in os.listdir(PARSED_DIR+'/united'):\n",
    "    if not os.path.isfile(AUDIO_DIR+'/united/'+f[:-3]+'mp3'):\n",
    "        print('Транскрипция',f,'нет аудио')"
   ]
  },
  {
   "cell_type": "markdown",
   "metadata": {},
   "source": [
    "Ничего не вывелось, значит названия всех файлов совпадают"
   ]
  }
 ],
 "metadata": {
  "kernelspec": {
   "display_name": "Python 3",
   "language": "python",
   "name": "python3"
  },
  "language_info": {
   "codemirror_mode": {
    "name": "ipython",
    "version": 3
   },
   "file_extension": ".py",
   "mimetype": "text/x-python",
   "name": "python",
   "nbconvert_exporter": "python",
   "pygments_lexer": "ipython3",
   "version": "3.6.3"
  }
 },
 "nbformat": 4,
 "nbformat_minor": 2
}
